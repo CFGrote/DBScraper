{
 "cells": [
  {
   "cell_type": "code",
   "execution_count": 1,
   "metadata": {},
   "outputs": [
    {
     "data": {
      "text/html": [
       "<script>\n",
       "code_show=true; \n",
       "function code_toggle() {\n",
       " if (code_show){\n",
       " $('div.input').hide();\n",
       " } else {\n",
       " $('div.input').show();\n",
       " }\n",
       " code_show = !code_show\n",
       "} \n",
       "$( document ).ready(code_toggle);\n",
       "</script>\n",
       "<form action=\"javascript:code_toggle()\"><input type=\"submit\" value=\"Click here to toggle on/off the raw code.\"></form>"
      ],
      "text/plain": [
       "<IPython.core.display.HTML object>"
      ]
     },
     "execution_count": 1,
     "metadata": {},
     "output_type": "execute_result"
    }
   ],
   "source": [
    "from IPython.display import HTML\n",
    "\n",
    "HTML('''<script>\n",
    "code_show=true; \n",
    "function code_toggle() {\n",
    " if (code_show){\n",
    " $('div.input').hide();\n",
    " } else {\n",
    " $('div.input').show();\n",
    " }\n",
    " code_show = !code_show\n",
    "} \n",
    "$( document ).ready(code_toggle);\n",
    "</script>\n",
    "<form action=\"javascript:code_toggle()\"><input type=\"submit\" value=\"Click here to toggle on/off the raw code.\"></form>'''\n",
    ")"
   ]
  },
  {
   "cell_type": "code",
   "execution_count": 2,
   "metadata": {
    "nbsphinx": "hidden"
   },
   "outputs": [],
   "source": [
    "import ipywidgets as widgets\n",
    "import pandas\n",
    "\n",
    "from bokeh.io import output_notebook, show\n",
    "from bokeh.plotting import figure\n",
    "\n",
    "from bokeh.models import CustomJS\n",
    "from bokeh.models.sources import ColumnDataSource\n",
    "from bokeh.layouts import column, row\n",
    "from bokeh.models.widgets import DataTable, TableColumn, Button, Panel, Tabs, HTMLTemplateFormatter\n",
    "\n",
    "import re\n",
    "\n",
    "from IPython.display import IFrame, clear_output, Image\n",
    "from GenDBScraper.PseudomonasDotComScraper import PseudomonasDotComScraper, pdc_query\n",
    "\n",
    "from GenDBScraper.StringDBScraper import StringDBScraper, stringdb_query"
   ]
  },
  {
   "cell_type": "code",
   "execution_count": 3,
   "metadata": {},
   "outputs": [
    {
     "data": {
      "text/html": [
       "\n",
       "    <div class=\"bk-root\">\n",
       "        <a href=\"https://bokeh.pydata.org\" target=\"_blank\" class=\"bk-logo bk-logo-small bk-logo-notebook\"></a>\n",
       "        <span id=\"1001\">Loading BokehJS ...</span>\n",
       "    </div>"
      ]
     },
     "metadata": {},
     "output_type": "display_data"
    },
    {
     "data": {
      "application/javascript": [
       "\n",
       "(function(root) {\n",
       "  function now() {\n",
       "    return new Date();\n",
       "  }\n",
       "\n",
       "  var force = true;\n",
       "\n",
       "  if (typeof root._bokeh_onload_callbacks === \"undefined\" || force === true) {\n",
       "    root._bokeh_onload_callbacks = [];\n",
       "    root._bokeh_is_loading = undefined;\n",
       "  }\n",
       "\n",
       "  var JS_MIME_TYPE = 'application/javascript';\n",
       "  var HTML_MIME_TYPE = 'text/html';\n",
       "  var EXEC_MIME_TYPE = 'application/vnd.bokehjs_exec.v0+json';\n",
       "  var CLASS_NAME = 'output_bokeh rendered_html';\n",
       "\n",
       "  /**\n",
       "   * Render data to the DOM node\n",
       "   */\n",
       "  function render(props, node) {\n",
       "    var script = document.createElement(\"script\");\n",
       "    node.appendChild(script);\n",
       "  }\n",
       "\n",
       "  /**\n",
       "   * Handle when an output is cleared or removed\n",
       "   */\n",
       "  function handleClearOutput(event, handle) {\n",
       "    var cell = handle.cell;\n",
       "\n",
       "    var id = cell.output_area._bokeh_element_id;\n",
       "    var server_id = cell.output_area._bokeh_server_id;\n",
       "    // Clean up Bokeh references\n",
       "    if (id != null && id in Bokeh.index) {\n",
       "      Bokeh.index[id].model.document.clear();\n",
       "      delete Bokeh.index[id];\n",
       "    }\n",
       "\n",
       "    if (server_id !== undefined) {\n",
       "      // Clean up Bokeh references\n",
       "      var cmd = \"from bokeh.io.state import curstate; print(curstate().uuid_to_server['\" + server_id + \"'].get_sessions()[0].document.roots[0]._id)\";\n",
       "      cell.notebook.kernel.execute(cmd, {\n",
       "        iopub: {\n",
       "          output: function(msg) {\n",
       "            var id = msg.content.text.trim();\n",
       "            if (id in Bokeh.index) {\n",
       "              Bokeh.index[id].model.document.clear();\n",
       "              delete Bokeh.index[id];\n",
       "            }\n",
       "          }\n",
       "        }\n",
       "      });\n",
       "      // Destroy server and session\n",
       "      var cmd = \"import bokeh.io.notebook as ion; ion.destroy_server('\" + server_id + \"')\";\n",
       "      cell.notebook.kernel.execute(cmd);\n",
       "    }\n",
       "  }\n",
       "\n",
       "  /**\n",
       "   * Handle when a new output is added\n",
       "   */\n",
       "  function handleAddOutput(event, handle) {\n",
       "    var output_area = handle.output_area;\n",
       "    var output = handle.output;\n",
       "\n",
       "    // limit handleAddOutput to display_data with EXEC_MIME_TYPE content only\n",
       "    if ((output.output_type != \"display_data\") || (!output.data.hasOwnProperty(EXEC_MIME_TYPE))) {\n",
       "      return\n",
       "    }\n",
       "\n",
       "    var toinsert = output_area.element.find(\".\" + CLASS_NAME.split(' ')[0]);\n",
       "\n",
       "    if (output.metadata[EXEC_MIME_TYPE][\"id\"] !== undefined) {\n",
       "      toinsert[toinsert.length - 1].firstChild.textContent = output.data[JS_MIME_TYPE];\n",
       "      // store reference to embed id on output_area\n",
       "      output_area._bokeh_element_id = output.metadata[EXEC_MIME_TYPE][\"id\"];\n",
       "    }\n",
       "    if (output.metadata[EXEC_MIME_TYPE][\"server_id\"] !== undefined) {\n",
       "      var bk_div = document.createElement(\"div\");\n",
       "      bk_div.innerHTML = output.data[HTML_MIME_TYPE];\n",
       "      var script_attrs = bk_div.children[0].attributes;\n",
       "      for (var i = 0; i < script_attrs.length; i++) {\n",
       "        toinsert[toinsert.length - 1].firstChild.setAttribute(script_attrs[i].name, script_attrs[i].value);\n",
       "      }\n",
       "      // store reference to server id on output_area\n",
       "      output_area._bokeh_server_id = output.metadata[EXEC_MIME_TYPE][\"server_id\"];\n",
       "    }\n",
       "  }\n",
       "\n",
       "  function register_renderer(events, OutputArea) {\n",
       "\n",
       "    function append_mime(data, metadata, element) {\n",
       "      // create a DOM node to render to\n",
       "      var toinsert = this.create_output_subarea(\n",
       "        metadata,\n",
       "        CLASS_NAME,\n",
       "        EXEC_MIME_TYPE\n",
       "      );\n",
       "      this.keyboard_manager.register_events(toinsert);\n",
       "      // Render to node\n",
       "      var props = {data: data, metadata: metadata[EXEC_MIME_TYPE]};\n",
       "      render(props, toinsert[toinsert.length - 1]);\n",
       "      element.append(toinsert);\n",
       "      return toinsert\n",
       "    }\n",
       "\n",
       "    /* Handle when an output is cleared or removed */\n",
       "    events.on('clear_output.CodeCell', handleClearOutput);\n",
       "    events.on('delete.Cell', handleClearOutput);\n",
       "\n",
       "    /* Handle when a new output is added */\n",
       "    events.on('output_added.OutputArea', handleAddOutput);\n",
       "\n",
       "    /**\n",
       "     * Register the mime type and append_mime function with output_area\n",
       "     */\n",
       "    OutputArea.prototype.register_mime_type(EXEC_MIME_TYPE, append_mime, {\n",
       "      /* Is output safe? */\n",
       "      safe: true,\n",
       "      /* Index of renderer in `output_area.display_order` */\n",
       "      index: 0\n",
       "    });\n",
       "  }\n",
       "\n",
       "  // register the mime type if in Jupyter Notebook environment and previously unregistered\n",
       "  if (root.Jupyter !== undefined) {\n",
       "    var events = require('base/js/events');\n",
       "    var OutputArea = require('notebook/js/outputarea').OutputArea;\n",
       "\n",
       "    if (OutputArea.prototype.mime_types().indexOf(EXEC_MIME_TYPE) == -1) {\n",
       "      register_renderer(events, OutputArea);\n",
       "    }\n",
       "  }\n",
       "\n",
       "  \n",
       "  if (typeof (root._bokeh_timeout) === \"undefined\" || force === true) {\n",
       "    root._bokeh_timeout = Date.now() + 5000;\n",
       "    root._bokeh_failed_load = false;\n",
       "  }\n",
       "\n",
       "  var NB_LOAD_WARNING = {'data': {'text/html':\n",
       "     \"<div style='background-color: #fdd'>\\n\"+\n",
       "     \"<p>\\n\"+\n",
       "     \"BokehJS does not appear to have successfully loaded. If loading BokehJS from CDN, this \\n\"+\n",
       "     \"may be due to a slow or bad network connection. Possible fixes:\\n\"+\n",
       "     \"</p>\\n\"+\n",
       "     \"<ul>\\n\"+\n",
       "     \"<li>re-rerun `output_notebook()` to attempt to load from CDN again, or</li>\\n\"+\n",
       "     \"<li>use INLINE resources instead, as so:</li>\\n\"+\n",
       "     \"</ul>\\n\"+\n",
       "     \"<code>\\n\"+\n",
       "     \"from bokeh.resources import INLINE\\n\"+\n",
       "     \"output_notebook(resources=INLINE)\\n\"+\n",
       "     \"</code>\\n\"+\n",
       "     \"</div>\"}};\n",
       "\n",
       "  function display_loaded() {\n",
       "    var el = document.getElementById(\"1001\");\n",
       "    if (el != null) {\n",
       "      el.textContent = \"BokehJS is loading...\";\n",
       "    }\n",
       "    if (root.Bokeh !== undefined) {\n",
       "      if (el != null) {\n",
       "        el.textContent = \"BokehJS \" + root.Bokeh.version + \" successfully loaded.\";\n",
       "      }\n",
       "    } else if (Date.now() < root._bokeh_timeout) {\n",
       "      setTimeout(display_loaded, 100)\n",
       "    }\n",
       "  }\n",
       "\n",
       "\n",
       "  function run_callbacks() {\n",
       "    try {\n",
       "      root._bokeh_onload_callbacks.forEach(function(callback) {\n",
       "        if (callback != null)\n",
       "          callback();\n",
       "      });\n",
       "    } finally {\n",
       "      delete root._bokeh_onload_callbacks\n",
       "    }\n",
       "    console.debug(\"Bokeh: all callbacks have finished\");\n",
       "  }\n",
       "\n",
       "  function load_libs(css_urls, js_urls, callback) {\n",
       "    if (css_urls == null) css_urls = [];\n",
       "    if (js_urls == null) js_urls = [];\n",
       "\n",
       "    root._bokeh_onload_callbacks.push(callback);\n",
       "    if (root._bokeh_is_loading > 0) {\n",
       "      console.debug(\"Bokeh: BokehJS is being loaded, scheduling callback at\", now());\n",
       "      return null;\n",
       "    }\n",
       "    if (js_urls == null || js_urls.length === 0) {\n",
       "      run_callbacks();\n",
       "      return null;\n",
       "    }\n",
       "    console.debug(\"Bokeh: BokehJS not loaded, scheduling load and callback at\", now());\n",
       "    root._bokeh_is_loading = css_urls.length + js_urls.length;\n",
       "\n",
       "    function on_load() {\n",
       "      root._bokeh_is_loading--;\n",
       "      if (root._bokeh_is_loading === 0) {\n",
       "        console.debug(\"Bokeh: all BokehJS libraries/stylesheets loaded\");\n",
       "        run_callbacks()\n",
       "      }\n",
       "    }\n",
       "\n",
       "    function on_error() {\n",
       "      console.error(\"failed to load \" + url);\n",
       "    }\n",
       "\n",
       "    for (var i = 0; i < css_urls.length; i++) {\n",
       "      var url = css_urls[i];\n",
       "      const element = document.createElement(\"link\");\n",
       "      element.onload = on_load;\n",
       "      element.onerror = on_error;\n",
       "      element.rel = \"stylesheet\";\n",
       "      element.type = \"text/css\";\n",
       "      element.href = url;\n",
       "      console.debug(\"Bokeh: injecting link tag for BokehJS stylesheet: \", url);\n",
       "      document.body.appendChild(element);\n",
       "    }\n",
       "\n",
       "    for (var i = 0; i < js_urls.length; i++) {\n",
       "      var url = js_urls[i];\n",
       "      var element = document.createElement('script');\n",
       "      element.onload = on_load;\n",
       "      element.onerror = on_error;\n",
       "      element.async = false;\n",
       "      element.src = url;\n",
       "      console.debug(\"Bokeh: injecting script tag for BokehJS library: \", url);\n",
       "      document.head.appendChild(element);\n",
       "    }\n",
       "  };var element = document.getElementById(\"1001\");\n",
       "  if (element == null) {\n",
       "    console.error(\"Bokeh: ERROR: autoload.js configured with elementid '1001' but no matching script tag was found. \")\n",
       "    return false;\n",
       "  }\n",
       "\n",
       "  function inject_raw_css(css) {\n",
       "    const element = document.createElement(\"style\");\n",
       "    element.appendChild(document.createTextNode(css));\n",
       "    document.body.appendChild(element);\n",
       "  }\n",
       "\n",
       "  var js_urls = [\"https://cdn.pydata.org/bokeh/release/bokeh-1.1.0.min.js\", \"https://cdn.pydata.org/bokeh/release/bokeh-widgets-1.1.0.min.js\", \"https://cdn.pydata.org/bokeh/release/bokeh-tables-1.1.0.min.js\", \"https://cdn.pydata.org/bokeh/release/bokeh-gl-1.1.0.min.js\"];\n",
       "  var css_urls = [\"https://cdn.pydata.org/bokeh/release/bokeh-1.1.0.min.css\", \"https://cdn.pydata.org/bokeh/release/bokeh-widgets-1.1.0.min.css\", \"https://cdn.pydata.org/bokeh/release/bokeh-tables-1.1.0.min.css\"];\n",
       "\n",
       "  var inline_js = [\n",
       "    function(Bokeh) {\n",
       "      Bokeh.set_log_level(\"info\");\n",
       "    },\n",
       "    \n",
       "    function(Bokeh) {\n",
       "      \n",
       "    },\n",
       "    function(Bokeh) {} // ensure no trailing comma for IE\n",
       "  ];\n",
       "\n",
       "  function run_inline_js() {\n",
       "    \n",
       "    if ((root.Bokeh !== undefined) || (force === true)) {\n",
       "      for (var i = 0; i < inline_js.length; i++) {\n",
       "        inline_js[i].call(root, root.Bokeh);\n",
       "      }if (force === true) {\n",
       "        display_loaded();\n",
       "      }} else if (Date.now() < root._bokeh_timeout) {\n",
       "      setTimeout(run_inline_js, 100);\n",
       "    } else if (!root._bokeh_failed_load) {\n",
       "      console.log(\"Bokeh: BokehJS failed to load within specified timeout.\");\n",
       "      root._bokeh_failed_load = true;\n",
       "    } else if (force !== true) {\n",
       "      var cell = $(document.getElementById(\"1001\")).parents('.cell').data().cell;\n",
       "      cell.output_area.append_execute_result(NB_LOAD_WARNING)\n",
       "    }\n",
       "\n",
       "  }\n",
       "\n",
       "  if (root._bokeh_is_loading === 0) {\n",
       "    console.debug(\"Bokeh: BokehJS loaded, going straight to plotting\");\n",
       "    run_inline_js();\n",
       "  } else {\n",
       "    load_libs(css_urls, js_urls, function() {\n",
       "      console.debug(\"Bokeh: BokehJS plotting callback run at\", now());\n",
       "      run_inline_js();\n",
       "    });\n",
       "  }\n",
       "}(window));"
      ],
      "application/vnd.bokehjs_load.v0+json": "\n(function(root) {\n  function now() {\n    return new Date();\n  }\n\n  var force = true;\n\n  if (typeof root._bokeh_onload_callbacks === \"undefined\" || force === true) {\n    root._bokeh_onload_callbacks = [];\n    root._bokeh_is_loading = undefined;\n  }\n\n  \n\n  \n  if (typeof (root._bokeh_timeout) === \"undefined\" || force === true) {\n    root._bokeh_timeout = Date.now() + 5000;\n    root._bokeh_failed_load = false;\n  }\n\n  var NB_LOAD_WARNING = {'data': {'text/html':\n     \"<div style='background-color: #fdd'>\\n\"+\n     \"<p>\\n\"+\n     \"BokehJS does not appear to have successfully loaded. If loading BokehJS from CDN, this \\n\"+\n     \"may be due to a slow or bad network connection. Possible fixes:\\n\"+\n     \"</p>\\n\"+\n     \"<ul>\\n\"+\n     \"<li>re-rerun `output_notebook()` to attempt to load from CDN again, or</li>\\n\"+\n     \"<li>use INLINE resources instead, as so:</li>\\n\"+\n     \"</ul>\\n\"+\n     \"<code>\\n\"+\n     \"from bokeh.resources import INLINE\\n\"+\n     \"output_notebook(resources=INLINE)\\n\"+\n     \"</code>\\n\"+\n     \"</div>\"}};\n\n  function display_loaded() {\n    var el = document.getElementById(\"1001\");\n    if (el != null) {\n      el.textContent = \"BokehJS is loading...\";\n    }\n    if (root.Bokeh !== undefined) {\n      if (el != null) {\n        el.textContent = \"BokehJS \" + root.Bokeh.version + \" successfully loaded.\";\n      }\n    } else if (Date.now() < root._bokeh_timeout) {\n      setTimeout(display_loaded, 100)\n    }\n  }\n\n\n  function run_callbacks() {\n    try {\n      root._bokeh_onload_callbacks.forEach(function(callback) {\n        if (callback != null)\n          callback();\n      });\n    } finally {\n      delete root._bokeh_onload_callbacks\n    }\n    console.debug(\"Bokeh: all callbacks have finished\");\n  }\n\n  function load_libs(css_urls, js_urls, callback) {\n    if (css_urls == null) css_urls = [];\n    if (js_urls == null) js_urls = [];\n\n    root._bokeh_onload_callbacks.push(callback);\n    if (root._bokeh_is_loading > 0) {\n      console.debug(\"Bokeh: BokehJS is being loaded, scheduling callback at\", now());\n      return null;\n    }\n    if (js_urls == null || js_urls.length === 0) {\n      run_callbacks();\n      return null;\n    }\n    console.debug(\"Bokeh: BokehJS not loaded, scheduling load and callback at\", now());\n    root._bokeh_is_loading = css_urls.length + js_urls.length;\n\n    function on_load() {\n      root._bokeh_is_loading--;\n      if (root._bokeh_is_loading === 0) {\n        console.debug(\"Bokeh: all BokehJS libraries/stylesheets loaded\");\n        run_callbacks()\n      }\n    }\n\n    function on_error() {\n      console.error(\"failed to load \" + url);\n    }\n\n    for (var i = 0; i < css_urls.length; i++) {\n      var url = css_urls[i];\n      const element = document.createElement(\"link\");\n      element.onload = on_load;\n      element.onerror = on_error;\n      element.rel = \"stylesheet\";\n      element.type = \"text/css\";\n      element.href = url;\n      console.debug(\"Bokeh: injecting link tag for BokehJS stylesheet: \", url);\n      document.body.appendChild(element);\n    }\n\n    for (var i = 0; i < js_urls.length; i++) {\n      var url = js_urls[i];\n      var element = document.createElement('script');\n      element.onload = on_load;\n      element.onerror = on_error;\n      element.async = false;\n      element.src = url;\n      console.debug(\"Bokeh: injecting script tag for BokehJS library: \", url);\n      document.head.appendChild(element);\n    }\n  };var element = document.getElementById(\"1001\");\n  if (element == null) {\n    console.error(\"Bokeh: ERROR: autoload.js configured with elementid '1001' but no matching script tag was found. \")\n    return false;\n  }\n\n  function inject_raw_css(css) {\n    const element = document.createElement(\"style\");\n    element.appendChild(document.createTextNode(css));\n    document.body.appendChild(element);\n  }\n\n  var js_urls = [\"https://cdn.pydata.org/bokeh/release/bokeh-1.1.0.min.js\", \"https://cdn.pydata.org/bokeh/release/bokeh-widgets-1.1.0.min.js\", \"https://cdn.pydata.org/bokeh/release/bokeh-tables-1.1.0.min.js\", \"https://cdn.pydata.org/bokeh/release/bokeh-gl-1.1.0.min.js\"];\n  var css_urls = [\"https://cdn.pydata.org/bokeh/release/bokeh-1.1.0.min.css\", \"https://cdn.pydata.org/bokeh/release/bokeh-widgets-1.1.0.min.css\", \"https://cdn.pydata.org/bokeh/release/bokeh-tables-1.1.0.min.css\"];\n\n  var inline_js = [\n    function(Bokeh) {\n      Bokeh.set_log_level(\"info\");\n    },\n    \n    function(Bokeh) {\n      \n    },\n    function(Bokeh) {} // ensure no trailing comma for IE\n  ];\n\n  function run_inline_js() {\n    \n    if ((root.Bokeh !== undefined) || (force === true)) {\n      for (var i = 0; i < inline_js.length; i++) {\n        inline_js[i].call(root, root.Bokeh);\n      }if (force === true) {\n        display_loaded();\n      }} else if (Date.now() < root._bokeh_timeout) {\n      setTimeout(run_inline_js, 100);\n    } else if (!root._bokeh_failed_load) {\n      console.log(\"Bokeh: BokehJS failed to load within specified timeout.\");\n      root._bokeh_failed_load = true;\n    } else if (force !== true) {\n      var cell = $(document.getElementById(\"1001\")).parents('.cell').data().cell;\n      cell.output_area.append_execute_result(NB_LOAD_WARNING)\n    }\n\n  }\n\n  if (root._bokeh_is_loading === 0) {\n    console.debug(\"Bokeh: BokehJS loaded, going straight to plotting\");\n    run_inline_js();\n  } else {\n    load_libs(css_urls, js_urls, function() {\n      console.debug(\"Bokeh: BokehJS plotting callback run at\", now());\n      run_inline_js();\n    });\n  }\n}(window));"
     },
     "metadata": {},
     "output_type": "display_data"
    }
   ],
   "source": [
    "output_notebook()"
   ]
  },
  {
   "cell_type": "code",
   "execution_count": 4,
   "metadata": {},
   "outputs": [],
   "source": [
    "def run_pdc(locus_tag):\n",
    "\n",
    "    pdc = PseudomonasDotComScraper(query=pdc_query(strain='sbw25', feature=locus_tag))\n",
    "    query_string = \"__\".join([pdc.query[0].strain, pdc.query[0].feature])\n",
    "    pdc.connect()\n",
    "    pdc.run_query()\n",
    "    \n",
    "    clear_output(wait=True)\n",
    "    \n",
    "    results = pdc.results[query_string]\n",
    "    panels=list(results.keys())\n",
    "\n",
    "    children = []\n",
    "    for i,panel in enumerate(panels):\n",
    "        #print(panel)\n",
    "        df = results[panel]\n",
    "        if df is None:\n",
    "            continue\n",
    "        if isinstance(df, pandas.DataFrame):    \n",
    "            if df.empty:\n",
    "                continue\n",
    "            df = df.rename(str, axis='columns')\n",
    "            columns = [TableColumn(field=c, title=c) for c in list(df.columns)]\n",
    "            for col in columns:\n",
    "                if col.title == 'url':\n",
    "                    col.formatter=HTMLTemplateFormatter(template='<a href=\"<%= url %>\"><%= value %></a>')\n",
    "        elif isinstance(df, dict):\n",
    "            continue\n",
    "    #        columns = [TableColumn(field=c, title=c) for c in df.keys()]\n",
    "        elif isinstance(df, list):\n",
    "            continue\n",
    "    #        columns=[TableColumn(field=c, title=c) for c in df]\n",
    "\n",
    "        cds = ColumnDataSource(data=df)\n",
    "        data_table = DataTable(source=cds, columns=columns)\n",
    "        children.append(Panel(child=data_table, title=panel))\n",
    "\n",
    "    tabs = Tabs(tabs=children)\n",
    "\n",
    "    show(tabs)"
   ]
  },
  {
   "cell_type": "code",
   "execution_count": 5,
   "metadata": {},
   "outputs": [],
   "source": [
    "def sbw25_okm():\n",
    "    clear_output()\n",
    "    frame = IFrame(src=\"https://openknowledgemaps.org/map/4aafb7d70516de0f56190d374bf398c8&embed=true\", width=1000, height=1000)\n",
    "    display(frame)\n",
    "    "
   ]
  },
  {
   "cell_type": "code",
   "execution_count": 6,
   "metadata": {},
   "outputs": [],
   "source": [
    "\n",
    "def feature_okm(locus_tag):\n",
    "    okms = pandas.read_json(\"pflu_okm_urls_20190424.json\", typ='series', orient='records')\n",
    "\n",
    "    if locus_tag.upper() in okms.keys():\n",
    "        frame = IFrame(okms[locus_tag.upper()]+\"&embed=true\", width=900, height=800)\n",
    "\n",
    "    else:\n",
    "        frame = widgets.Label(\"No maps found for {}\".format(locus_tag))\n",
    "\n",
    "    clear_output(wait=True)    \n",
    "    display(frame)"
   ]
  },
  {
   "cell_type": "code",
   "execution_count": 7,
   "metadata": {
    "nbsphinx": "hidden"
   },
   "outputs": [],
   "source": [
    "def run_stdb(locus_tag):\n",
    "    gene_sub_pattern = re.compile(r'([a-z](?=[0-9]))')\n",
    "    gene=gene_sub_pattern.sub(r'\\1_', locus_tag)\n",
    "    \n",
    "    stdb = StringDBScraper(query=stringdb_query(taxonId=216595, features=[gene]))\n",
    "\n",
    "    stdb.connect()\n",
    "\n",
    "    stdb.update_features()\n",
    "\n",
    "    stdb_results = dict()\n",
    "\n",
    "    stdb_results['Network Image'] = stdb.network_image()\n",
    "    stdb_results['Network Interactions'] = stdb.network_interactions()\n",
    "    stdb_results['Interaction Partners'] = stdb.interaction_partners(required_score=300)\n",
    "    stdb_results['Functional Enrichments'] = stdb.functional_enrichments()\n",
    "    stdb_results['Interaction Enrichments'] = stdb.interaction_enrichments()\n",
    "  \n",
    "    clear_output(wait=True)\n",
    "    with open(stdb_results['Network Image'], 'rb') as fp:\n",
    "        image_widget = widgets.Image(value=fp.read(), format='svg')\n",
    "\n",
    "    tabs = []\n",
    "    for key in stdb_results.keys():\n",
    "        if key == 'Network Image':\n",
    "            continue\n",
    "        result = stdb_results[key]\n",
    "        cds = ColumnDataSource(result)\n",
    "        data_table = DataTable(source=cds,\n",
    "                               columns=[TableColumn(field=c, title=c, width=80) for c in list(result.columns)],\n",
    "                               fit_columns=False\n",
    "                              )\n",
    "        tabs.append(Panel(child=data_table, title=key))\n",
    "        \n",
    "    stdb_tabs = Tabs(tabs=tabs)\n",
    "    display(image_widget)\n",
    "    show(column(stdb_tabs, width=500))"
   ]
  },
  {
   "cell_type": "markdown",
   "metadata": {},
   "source": [
    "# The pseudomonas-fluorescens SBW25 knowledge base "
   ]
  },
  {
   "cell_type": "code",
   "execution_count": 8,
   "metadata": {},
   "outputs": [],
   "source": [
    "lt = r'pflu0001'\n",
    "locus_tag = lt.lower()"
   ]
  },
  {
   "cell_type": "markdown",
   "metadata": {
    "variables": {
     "lt.upper()": "PFLU0001"
    }
   },
   "source": [
    "# Displaying data for locus tag {{lt.upper()}}"
   ]
  },
  {
   "cell_type": "markdown",
   "metadata": {},
   "source": [
    "## Data from pseudomonas.com "
   ]
  },
  {
   "cell_type": "code",
   "execution_count": 9,
   "metadata": {},
   "outputs": [
    {
     "data": {
      "text/html": [
       "\n",
       "\n",
       "\n",
       "\n",
       "\n",
       "\n",
       "  <div class=\"bk-root\" id=\"9912bf4d-f4f9-4862-acec-e02da71eb773\" data-root-id=\"1064\"></div>\n"
      ]
     },
     "metadata": {},
     "output_type": "display_data"
    },
    {
     "data": {
      "application/javascript": [
       "(function(root) {\n",
       "  function embed_document(root) {\n",
       "    \n",
       "  var docs_json = {\"f4503c39-86a0-4113-8729-771927cede8c\":{\"roots\":{\"references\":[{\"attributes\":{\"callback\":null,\"tabs\":[{\"id\":\"1006\",\"type\":\"Panel\"},{\"id\":\"1014\",\"type\":\"Panel\"},{\"id\":\"1019\",\"type\":\"Panel\"},{\"id\":\"1024\",\"type\":\"Panel\"},{\"id\":\"1029\",\"type\":\"Panel\"},{\"id\":\"1034\",\"type\":\"Panel\"},{\"id\":\"1040\",\"type\":\"Panel\"},{\"id\":\"1051\",\"type\":\"Panel\"},{\"id\":\"1063\",\"type\":\"Panel\"}]},\"id\":\"1064\",\"type\":\"Tabs\"},{\"attributes\":{\"columns\":[{\"id\":\"1015\",\"type\":\"TableColumn\"}],\"source\":{\"id\":\"1016\",\"type\":\"ColumnDataSource\"},\"view\":{\"id\":\"1018\",\"type\":\"CDSView\"}},\"id\":\"1017\",\"type\":\"DataTable\"},{\"attributes\":{},\"id\":\"1115\",\"type\":\"StringEditor\"},{\"attributes\":{\"child\":{\"id\":\"1038\",\"type\":\"DataTable\"},\"title\":\"Sequence Data\"},\"id\":\"1040\",\"type\":\"Panel\"},{\"attributes\":{},\"id\":\"1085\",\"type\":\"Selection\"},{\"attributes\":{},\"id\":\"1116\",\"type\":\"StringFormatter\"},{\"attributes\":{\"editor\":{\"id\":\"1113\",\"type\":\"StringEditor\"},\"field\":\"Analysis\",\"formatter\":{\"id\":\"1112\",\"type\":\"StringFormatter\"},\"title\":\"Analysis\"},\"id\":\"1052\",\"type\":\"TableColumn\"},{\"attributes\":{},\"id\":\"1117\",\"type\":\"StringEditor\"},{\"attributes\":{\"editor\":{\"id\":\"1099\",\"type\":\"StringEditor\"},\"field\":\"Accession\",\"formatter\":{\"id\":\"1098\",\"type\":\"StringFormatter\"},\"title\":\"Accession\"},\"id\":\"1042\",\"type\":\"TableColumn\"},{\"attributes\":{},\"id\":\"1118\",\"type\":\"StringFormatter\"},{\"attributes\":{\"child\":{\"id\":\"1012\",\"type\":\"DataTable\"},\"title\":\"Cross-References\"},\"id\":\"1014\",\"type\":\"Panel\"},{\"attributes\":{\"editor\":{\"id\":\"1101\",\"type\":\"StringEditor\"},\"field\":\"Term\",\"formatter\":{\"id\":\"1100\",\"type\":\"StringFormatter\"},\"title\":\"Term\"},\"id\":\"1043\",\"type\":\"TableColumn\"},{\"attributes\":{},\"id\":\"1119\",\"type\":\"StringEditor\"},{\"attributes\":{\"source\":{\"id\":\"1011\",\"type\":\"ColumnDataSource\"}},\"id\":\"1013\",\"type\":\"CDSView\"},{\"attributes\":{},\"id\":\"1120\",\"type\":\"StringFormatter\"},{\"attributes\":{\"editor\":{\"id\":\"1103\",\"type\":\"StringEditor\"},\"field\":\"GO Evidence\",\"formatter\":{\"id\":\"1102\",\"type\":\"StringFormatter\"},\"title\":\"GO Evidence\"},\"id\":\"1044\",\"type\":\"TableColumn\"},{\"attributes\":{},\"id\":\"1121\",\"type\":\"StringEditor\"},{\"attributes\":{\"editor\":{\"id\":\"1105\",\"type\":\"StringEditor\"},\"field\":\"Evidence Ontology (ECO) Code\",\"formatter\":{\"id\":\"1104\",\"type\":\"StringFormatter\"},\"title\":\"Evidence Ontology (ECO) Code\"},\"id\":\"1045\",\"type\":\"TableColumn\"},{\"attributes\":{\"child\":{\"id\":\"1017\",\"type\":\"DataTable\"},\"title\":\"Product\"},\"id\":\"1019\",\"type\":\"Panel\"},{\"attributes\":{},\"id\":\"1122\",\"type\":\"StringFormatter\"},{\"attributes\":{\"editor\":{\"id\":\"1107\",\"type\":\"StringEditor\"},\"field\":\"Reference\",\"formatter\":{\"id\":\"1106\",\"type\":\"StringFormatter\"},\"title\":\"Reference\"},\"id\":\"1046\",\"type\":\"TableColumn\"},{\"attributes\":{\"child\":{\"id\":\"1032\",\"type\":\"DataTable\"},\"title\":\"Interactions\"},\"id\":\"1034\",\"type\":\"Panel\"},{\"attributes\":{},\"id\":\"1123\",\"type\":\"StringEditor\"},{\"attributes\":{\"source\":{\"id\":\"1016\",\"type\":\"ColumnDataSource\"}},\"id\":\"1018\",\"type\":\"CDSView\"},{\"attributes\":{\"editor\":{\"id\":\"1109\",\"type\":\"StringEditor\"},\"field\":\"Comments\",\"formatter\":{\"id\":\"1108\",\"type\":\"StringFormatter\"},\"title\":\"Comments\"},\"id\":\"1047\",\"type\":\"TableColumn\"},{\"attributes\":{\"editor\":{\"id\":\"1079\",\"type\":\"StringEditor\"},\"field\":\"1\",\"formatter\":{\"id\":\"1078\",\"type\":\"StringFormatter\"},\"title\":\"1\"},\"id\":\"1020\",\"type\":\"TableColumn\"},{\"attributes\":{},\"id\":\"1124\",\"type\":\"StringFormatter\"},{\"attributes\":{\"columns\":[{\"id\":\"1020\",\"type\":\"TableColumn\"}],\"source\":{\"id\":\"1021\",\"type\":\"ColumnDataSource\"},\"view\":{\"id\":\"1023\",\"type\":\"CDSView\"}},\"id\":\"1022\",\"type\":\"DataTable\"},{\"attributes\":{\"columns\":[{\"id\":\"1041\",\"type\":\"TableColumn\"},{\"id\":\"1042\",\"type\":\"TableColumn\"},{\"id\":\"1043\",\"type\":\"TableColumn\"},{\"id\":\"1044\",\"type\":\"TableColumn\"},{\"id\":\"1045\",\"type\":\"TableColumn\"},{\"id\":\"1046\",\"type\":\"TableColumn\"},{\"id\":\"1047\",\"type\":\"TableColumn\"}],\"source\":{\"id\":\"1048\",\"type\":\"ColumnDataSource\"},\"view\":{\"id\":\"1050\",\"type\":\"CDSView\"}},\"id\":\"1049\",\"type\":\"DataTable\"},{\"attributes\":{},\"id\":\"1125\",\"type\":\"StringEditor\"},{\"attributes\":{\"source\":{\"id\":\"1048\",\"type\":\"ColumnDataSource\"}},\"id\":\"1050\",\"type\":\"CDSView\"},{\"attributes\":{},\"id\":\"1126\",\"type\":\"StringFormatter\"},{\"attributes\":{},\"id\":\"1065\",\"type\":\"StringFormatter\"},{\"attributes\":{\"editor\":{\"id\":\"1117\",\"type\":\"StringEditor\"},\"field\":\"Description\",\"formatter\":{\"id\":\"1116\",\"type\":\"StringFormatter\"},\"title\":\"Description\"},\"id\":\"1054\",\"type\":\"TableColumn\"},{\"attributes\":{},\"id\":\"1127\",\"type\":\"StringEditor\"},{\"attributes\":{\"editor\":{\"id\":\"1115\",\"type\":\"StringEditor\"},\"field\":\"Accession\",\"formatter\":{\"id\":\"1114\",\"type\":\"StringFormatter\"},\"title\":\"Accession\"},\"id\":\"1053\",\"type\":\"TableColumn\"},{\"attributes\":{\"callback\":null,\"data\":{\"1\":[\"Common Found in both pathogen and nonpathogenic strains  Hits to this gene were found in 584 genera\"],\"index\":[\"Results\"]},\"selected\":{\"id\":\"1081\",\"type\":\"Selection\"},\"selection_policy\":{\"id\":\"1080\",\"type\":\"UnionRenderers\"}},\"id\":\"1021\",\"type\":\"ColumnDataSource\"},{\"attributes\":{},\"id\":\"1084\",\"type\":\"UnionRenderers\"},{\"attributes\":{},\"id\":\"1128\",\"type\":\"UnionRenderers\"},{\"attributes\":{\"source\":{\"id\":\"1031\",\"type\":\"ColumnDataSource\"}},\"id\":\"1033\",\"type\":\"CDSView\"},{\"attributes\":{},\"id\":\"1129\",\"type\":\"Selection\"},{\"attributes\":{\"child\":{\"id\":\"1022\",\"type\":\"DataTable\"},\"title\":\"Pathogen Association Analysis\"},\"id\":\"1024\",\"type\":\"Panel\"},{\"attributes\":{\"child\":{\"id\":\"1049\",\"type\":\"DataTable\"},\"title\":\"Gene Ontology\"},\"id\":\"1051\",\"type\":\"Panel\"},{\"attributes\":{\"source\":{\"id\":\"1021\",\"type\":\"ColumnDataSource\"}},\"id\":\"1023\",\"type\":\"CDSView\"},{\"attributes\":{},\"id\":\"1068\",\"type\":\"Selection\"},{\"attributes\":{\"editor\":{\"id\":\"1083\",\"type\":\"StringEditor\"},\"field\":\"1\",\"formatter\":{\"id\":\"1082\",\"type\":\"StringFormatter\"},\"title\":\"1\"},\"id\":\"1025\",\"type\":\"TableColumn\"},{\"attributes\":{\"editor\":{\"id\":\"1119\",\"type\":\"StringEditor\"},\"field\":\"Interpro Accession\",\"formatter\":{\"id\":\"1118\",\"type\":\"StringFormatter\"},\"title\":\"Interpro Accession\"},\"id\":\"1055\",\"type\":\"TableColumn\"},{\"attributes\":{\"editor\":{\"id\":\"1121\",\"type\":\"StringEditor\"},\"field\":\"Interpro Description\",\"formatter\":{\"id\":\"1120\",\"type\":\"StringFormatter\"},\"title\":\"Interpro Description\"},\"id\":\"1056\",\"type\":\"TableColumn\"},{\"attributes\":{\"callback\":null,\"data\":{\"1\":[\"Search for predicted protein-protein interactions using:  Search term: PFLU0001  Search term: dnaA  Search term: chromosomal replication initiation protein\"],\"index\":[\"STRING_database\"]},\"selected\":{\"id\":\"1089\",\"type\":\"Selection\"},\"selection_policy\":{\"id\":\"1088\",\"type\":\"UnionRenderers\"}},\"id\":\"1031\",\"type\":\"ColumnDataSource\"},{\"attributes\":{},\"id\":\"1087\",\"type\":\"StringEditor\"},{\"attributes\":{\"editor\":{\"id\":\"1123\",\"type\":\"StringEditor\"},\"field\":\"Amino Acid Start\",\"formatter\":{\"id\":\"1122\",\"type\":\"StringFormatter\"},\"title\":\"Amino Acid Start\"},\"id\":\"1057\",\"type\":\"TableColumn\"},{\"attributes\":{\"editor\":{\"id\":\"1125\",\"type\":\"StringEditor\"},\"field\":\"Amino Acid Stop\",\"formatter\":{\"id\":\"1124\",\"type\":\"StringFormatter\"},\"title\":\"Amino Acid Stop\"},\"id\":\"1058\",\"type\":\"TableColumn\"},{\"attributes\":{\"callback\":null,\"data\":{\"0\":[\"Strain\"],\"1\":[\"Pseudomonas fluorescens SBW25 chromosome, complete genome.\"],\"index\":[0]},\"selected\":{\"id\":\"1095\",\"type\":\"Selection\"},\"selection_policy\":{\"id\":\"1094\",\"type\":\"UnionRenderers\"}},\"id\":\"1037\",\"type\":\"ColumnDataSource\"},{\"attributes\":{\"callback\":null,\"data\":{\"1\":[\"Pseudomonas fluorescens SBW25\",\"PFLU0001\",\"dnaA\",\"chromosome\",\"1  - 1506 (+ strand)\"],\"index\":[\"Strain\",\"Locus_Tag\",\"Name\",\"Replicon\",\"Genomic_location\"]},\"selected\":{\"id\":\"1068\",\"type\":\"Selection\"},\"selection_policy\":{\"id\":\"1067\",\"type\":\"UnionRenderers\"}},\"id\":\"1003\",\"type\":\"ColumnDataSource\"},{\"attributes\":{\"editor\":{\"id\":\"1127\",\"type\":\"StringEditor\"},\"field\":\"E-value\",\"formatter\":{\"id\":\"1126\",\"type\":\"StringFormatter\"},\"title\":\"E-value\"},\"id\":\"1059\",\"type\":\"TableColumn\"},{\"attributes\":{\"source\":{\"id\":\"1003\",\"type\":\"ColumnDataSource\"}},\"id\":\"1005\",\"type\":\"CDSView\"},{\"attributes\":{\"callback\":null,\"data\":{\"1\":[\"View orthologs at Pseudomonas Ortholog Database\",\"POG000001 (554 members)\",\"None Found\"],\"index\":[\"Pseudomonas_Ortholog_Database\",\"Pseudomonas_Ortholog_Group\",\"Putative_Inparalogs\"]},\"selected\":{\"id\":\"1085\",\"type\":\"Selection\"},\"selection_policy\":{\"id\":\"1084\",\"type\":\"UnionRenderers\"}},\"id\":\"1026\",\"type\":\"ColumnDataSource\"},{\"attributes\":{\"columns\":[{\"id\":\"1025\",\"type\":\"TableColumn\"}],\"source\":{\"id\":\"1026\",\"type\":\"ColumnDataSource\"},\"view\":{\"id\":\"1028\",\"type\":\"CDSView\"}},\"id\":\"1027\",\"type\":\"DataTable\"},{\"attributes\":{\"columns\":[{\"id\":\"1052\",\"type\":\"TableColumn\"},{\"id\":\"1053\",\"type\":\"TableColumn\"},{\"id\":\"1054\",\"type\":\"TableColumn\"},{\"id\":\"1055\",\"type\":\"TableColumn\"},{\"id\":\"1056\",\"type\":\"TableColumn\"},{\"id\":\"1057\",\"type\":\"TableColumn\"},{\"id\":\"1058\",\"type\":\"TableColumn\"},{\"id\":\"1059\",\"type\":\"TableColumn\"}],\"source\":{\"id\":\"1060\",\"type\":\"ColumnDataSource\"},\"view\":{\"id\":\"1062\",\"type\":\"CDSView\"}},\"id\":\"1061\",\"type\":\"DataTable\"},{\"attributes\":{\"columns\":[{\"id\":\"1030\",\"type\":\"TableColumn\"}],\"source\":{\"id\":\"1031\",\"type\":\"ColumnDataSource\"},\"view\":{\"id\":\"1033\",\"type\":\"CDSView\"}},\"id\":\"1032\",\"type\":\"DataTable\"},{\"attributes\":{\"source\":{\"id\":\"1060\",\"type\":\"ColumnDataSource\"}},\"id\":\"1062\",\"type\":\"CDSView\"},{\"attributes\":{\"editor\":{\"id\":\"1066\",\"type\":\"StringEditor\"},\"field\":\"1\",\"formatter\":{\"id\":\"1065\",\"type\":\"StringFormatter\"},\"title\":\"1\"},\"id\":\"1002\",\"type\":\"TableColumn\"},{\"attributes\":{},\"id\":\"1067\",\"type\":\"UnionRenderers\"},{\"attributes\":{\"child\":{\"id\":\"1027\",\"type\":\"DataTable\"},\"title\":\"Orthologs/Comparative Genomics\"},\"id\":\"1029\",\"type\":\"Panel\"},{\"attributes\":{},\"id\":\"1083\",\"type\":\"StringEditor\"},{\"attributes\":{\"editor\":{\"id\":\"1087\",\"type\":\"StringEditor\"},\"field\":\"1\",\"formatter\":{\"id\":\"1086\",\"type\":\"StringFormatter\"},\"title\":\"1\"},\"id\":\"1030\",\"type\":\"TableColumn\"},{\"attributes\":{\"columns\":[{\"id\":\"1002\",\"type\":\"TableColumn\"}],\"source\":{\"id\":\"1003\",\"type\":\"ColumnDataSource\"},\"view\":{\"id\":\"1005\",\"type\":\"CDSView\"}},\"id\":\"1004\",\"type\":\"DataTable\"},{\"attributes\":{},\"id\":\"1066\",\"type\":\"StringEditor\"},{\"attributes\":{\"child\":{\"id\":\"1061\",\"type\":\"DataTable\"},\"title\":\"Functional Predictions from Interpro\"},\"id\":\"1063\",\"type\":\"Panel\"},{\"attributes\":{},\"id\":\"1086\",\"type\":\"StringFormatter\"},{\"attributes\":{\"editor\":{\"id\":\"1070\",\"type\":\"StringEditor\"},\"field\":\"id\",\"formatter\":{\"id\":\"1069\",\"type\":\"StringFormatter\"},\"title\":\"id\"},\"id\":\"1007\",\"type\":\"TableColumn\"},{\"attributes\":{\"callback\":null,\"data\":{\"Accession\":[\"cd06571\",\"PR00051\",\"SM00760\",\"TIGR00362\",\"MF_00377\",\"SSF48295\",\"SSF52540\",\"PR00051\",\"PR00051\",\"G3DSA:3.30.300.180\",\"PR00051\",\"G3DSA:3.40.50.300\",\"G3DSA:1.10.8.60\",\"cd00009\",\"PF11638\",\"G3DSA:1.10.1750.10\",\"mobidb-lite\",\"mobidb-lite\",\"PF00308\",\"PR00051\",\"SM00382\",\"mobidb-lite\",\"PF08299\",\"PS01008\"],\"Amino Acid Start\":[410,263,409,6,3,397,167,199,231,2,297,165,332,181,4,408,103,103,166,459,198,136,410,459],\"Amino Acid Stop\":[499,277,478,499,500,499,377,219,245,129,324,331,402,324,64,501,150,120,383,478,403,150,478,478],\"Analysis\":[\"CDD\",\"PRINTS\",\"SMART\",\"TIGRFAM\",\"Hamap\",\"SUPERFAMILY\",\"SUPERFAMILY\",\"PRINTS\",\"PRINTS\",\"Gene3D\",\"PRINTS\",\"Gene3D\",\"Gene3D\",\"CDD\",\"Pfam\",\"Gene3D\",\"MobiDBLite\",\"MobiDBLite\",\"Pfam\",\"PRINTS\",\"SMART\",\"MobiDBLite\",\"Pfam\",\"ProSitePatterns\"],\"Description\":[\"Bac_DnaA_C\",\"Bacterial chromosomal replication initiator (DNAA) signature\",\"NaN\",\"DnaA: chromosomal replication initiator protein DnaA\",\"Chromosomal replication initiator protein DnaA [dnaA].\",\"NaN\",\"NaN\",\"Bacterial chromosomal replication initiator (DNAA) signature\",\"Bacterial chromosomal replication initiator (DNAA) signature\",\"NaN\",\"Bacterial chromosomal replication initiator (DNAA) signature\",\"NaN\",\"NaN\",\"AAA\",\"DnaA N-terminal domain\",\"NaN\",\"consensus disorder prediction\",\"consensus disorder prediction\",\"Bacterial dnaA protein\",\"Bacterial chromosomal replication initiator (DNAA) signature\",\"NaN\",\"consensus disorder prediction\",\"Bacterial dnaA protein helix-turn-helix\",\"DnaA protein signature.\"],\"E-value\":{\"__ndarray__\":\"RQwAAAAAAAAmAAAAAAAAAHG9CEJ+aI4DFQAAAAAAAAAAAAAAqC7WDAAAAAAAAAAA1xUuGhQfrCHoqx4d3cdZAgAAwH8AAMB/AAAAAAAAAABcfGE1AADAf3AdwAsAAMB/\",\"dtype\":\"float32\",\"shape\":[24]},\"Interpro Accession\":[\"IPR013159\",\"IPR020591\",\"IPR013159\",\"IPR001957\",\"IPR001957\",\"IPR010921\",\"IPR027417\",\"IPR020591\",\"IPR020591\",\"IPR038454\",\"IPR020591\",\"NaN\",\"NaN\",\"NaN\",\"IPR024633\",\"IPR010921\",\"NaN\",\"NaN\",\"IPR013317\",\"IPR020591\",\"IPR003593\",\"NaN\",\"IPR013159\",\"IPR018312\"],\"Interpro Description\":[\"Chromosomal replication initiator, DnaA C-terminal\",\"Chromosomal replication control, initiator DnaA-like\",\"Chromosomal replication initiator, DnaA C-terminal\",\"Chromosomal replication control, initiator DnaA\",\"Chromosomal replication control, initiator DnaA\",\"Trp repressor/replication initiator\",\"P-loop containing nucleoside triphosphate hydrolase\",\"Chromosomal replication control, initiator DnaA-like\",\"Chromosomal replication control, initiator DnaA-like\",\"DnaA, N-terminal domain superfamily\",\"Chromosomal replication control, initiator DnaA-like\",\"NaN\",\"NaN\",\"NaN\",\"DnaA N-terminal domain\",\"Trp repressor/replication initiator\",\"NaN\",\"NaN\",\"Chromosomal replication initiator protein DnaA\",\"Chromosomal replication control, initiator DnaA-like\",\"AAA+ ATPase domain\",\"NaN\",\"Chromosomal replication initiator, DnaA C-terminal\",\"Chromosomal replication control, initiator DnaA, conserved site\"],\"index\":[0,1,2,3,4,5,6,7,8,9,10,11,12,13,14,15,16,17,18,19,20,21,22,23]},\"selected\":{\"id\":\"1129\",\"type\":\"Selection\"},\"selection_policy\":{\"id\":\"1128\",\"type\":\"UnionRenderers\"}},\"id\":\"1060\",\"type\":\"ColumnDataSource\"},{\"attributes\":{\"child\":{\"id\":\"1004\",\"type\":\"DataTable\"},\"title\":\"Gene Feature Overview\"},\"id\":\"1006\",\"type\":\"Panel\"},{\"attributes\":{\"editor\":{\"id\":\"1091\",\"type\":\"StringEditor\"},\"field\":\"0\",\"formatter\":{\"id\":\"1090\",\"type\":\"StringFormatter\"},\"title\":\"0\"},\"id\":\"1035\",\"type\":\"TableColumn\"},{\"attributes\":{},\"id\":\"1069\",\"type\":\"StringFormatter\"},{\"attributes\":{\"source\":{\"id\":\"1026\",\"type\":\"ColumnDataSource\"}},\"id\":\"1028\",\"type\":\"CDSView\"},{\"attributes\":{\"editor\":{\"id\":\"1093\",\"type\":\"StringEditor\"},\"field\":\"1\",\"formatter\":{\"id\":\"1092\",\"type\":\"StringFormatter\"},\"title\":\"1\"},\"id\":\"1036\",\"type\":\"TableColumn\"},{\"attributes\":{\"editor\":{\"id\":\"1097\",\"type\":\"StringEditor\"},\"field\":\"Ontology\",\"formatter\":{\"id\":\"1096\",\"type\":\"StringFormatter\"},\"title\":\"Ontology\"},\"id\":\"1041\",\"type\":\"TableColumn\"},{\"attributes\":{},\"id\":\"1070\",\"type\":\"StringEditor\"},{\"attributes\":{\"callback\":null,\"data\":{\"id\":[\"YP_002869698.1\",\"229587579\",\"7818419\"],\"index\":[\"RefSeq\",\"GI\",\"Entrez\"],\"url\":[\"http://www.ncbi.nlm.nih.gov/protein/YP_002869698.1\",\"http://www.ncbi.nlm.nih.gov/protein/229587579\",\"http://www.ncbi.nlm.nih.gov/gene/7818419\"]},\"selected\":{\"id\":\"1073\",\"type\":\"Selection\"},\"selection_policy\":{\"id\":\"1072\",\"type\":\"UnionRenderers\"}},\"id\":\"1011\",\"type\":\"ColumnDataSource\"},{\"attributes\":{\"source\":{\"id\":\"1037\",\"type\":\"ColumnDataSource\"}},\"id\":\"1039\",\"type\":\"CDSView\"},{\"attributes\":{\"template\":\"<a href=\\\"<%= url %>\\\"><%= value %></a>\"},\"id\":\"1009\",\"type\":\"HTMLTemplateFormatter\"},{\"attributes\":{},\"id\":\"1071\",\"type\":\"StringEditor\"},{\"attributes\":{\"editor\":{\"id\":\"1071\",\"type\":\"StringEditor\"},\"field\":\"url\",\"formatter\":{\"id\":\"1009\",\"type\":\"HTMLTemplateFormatter\"},\"title\":\"url\"},\"id\":\"1008\",\"type\":\"TableColumn\"},{\"attributes\":{\"callback\":null,\"data\":{\"Accession\":[\"GO:0003677\",\"GO:0043565\",\"GO:0003688\",\"GO:0006270\",\"GO:0006275\",\"GO:0005524\"],\"Comments\":{\"__ndarray__\":\"AAAAAAAA+H8AAAAAAAD4fwAAAAAAAPh/AAAAAAAA+H8AAAAAAAD4fwAAAAAAAPh/\",\"dtype\":\"float64\",\"shape\":[6]},\"Evidence Ontology (ECO) Code\":[\"ECO:0000259 match to InterPro signature evidence used in automatic assertion\",\"ECO:0000259 match to InterPro signature evidence used in automatic assertion\",\"ECO:0000259 match to InterPro signature evidence used in automatic assertion\",\"ECO:0000259 match to InterPro signature evidence used in automatic assertion\",\"ECO:0000259 match to InterPro signature evidence used in automatic assertion\",\"ECO:0000259 match to InterPro signature evidence used in automatic assertion\"],\"GO Evidence\":[\"ISM Inferred from Sequence Model  Term mapped from: InterPro:MF_00377\",\"ISM Inferred from Sequence Model  Term mapped from: InterPro:PF08299\",\"ISM Inferred from Sequence Model  Term mapped from: InterPro:MF_00377\",\"ISM Inferred from Sequence Model  Term mapped from: InterPro:MF_00377\",\"ISM Inferred from Sequence Model  Term mapped from: InterPro:MF_00377\",\"ISM Inferred from Sequence Model  Term mapped from: InterPro:MF_00377\"],\"Ontology\":[\"Molecular Function\",\"Molecular Function\",\"Molecular Function\",\"Biological Process\",\"Biological Process\",\"Molecular Function\"],\"Reference\":{\"__ndarray__\":\"AAAAAAAA+H8AAAAAAAD4fwAAAAAAAPh/AAAAAAAA+H8AAAAAAAD4fwAAAAAAAPh/\",\"dtype\":\"float64\",\"shape\":[6]},\"Term\":[\"DNA binding\",\"sequence-specific DNA binding\",\"DNA replication origin binding\",\"DNA replication initiation\",\"regulation of DNA replication\",\"ATP binding\"],\"index\":[0,1,2,3,4,5]},\"selected\":{\"id\":\"1111\",\"type\":\"Selection\"},\"selection_policy\":{\"id\":\"1110\",\"type\":\"UnionRenderers\"}},\"id\":\"1048\",\"type\":\"ColumnDataSource\"},{\"attributes\":{\"editor\":{\"id\":\"1075\",\"type\":\"StringEditor\"},\"field\":\"1\",\"formatter\":{\"id\":\"1074\",\"type\":\"StringFormatter\"},\"title\":\"1\"},\"id\":\"1015\",\"type\":\"TableColumn\"},{\"attributes\":{},\"id\":\"1072\",\"type\":\"UnionRenderers\"},{\"attributes\":{\"columns\":[{\"id\":\"1007\",\"type\":\"TableColumn\"},{\"id\":\"1008\",\"type\":\"TableColumn\"}],\"source\":{\"id\":\"1011\",\"type\":\"ColumnDataSource\"},\"view\":{\"id\":\"1013\",\"type\":\"CDSView\"}},\"id\":\"1012\",\"type\":\"DataTable\"},{\"attributes\":{\"columns\":[{\"id\":\"1035\",\"type\":\"TableColumn\"},{\"id\":\"1036\",\"type\":\"TableColumn\"}],\"source\":{\"id\":\"1037\",\"type\":\"ColumnDataSource\"},\"view\":{\"id\":\"1039\",\"type\":\"CDSView\"}},\"id\":\"1038\",\"type\":\"DataTable\"},{\"attributes\":{},\"id\":\"1073\",\"type\":\"Selection\"},{\"attributes\":{\"callback\":null,\"data\":{\"1\":[\"CDS\",\"1\",\"chromosomal replication initiation protein\",\"NaN\",\"NaN\",\"6.33\",\"-0.380\",\"56.3\",\"8.88\"],\"index\":[\"Feature_Type\",\"Coding_Frame\",\"Product_Name\",\"Synonyms\",\"Evidence_for_Translation\",\"Charge_(pH_7)\",\"Kyte-Doolittle_Hydrophobicity_Value\",\"Molecular_Weight_(kDa)\",\"Isoelectric_Point_(pI)\"]},\"selected\":{\"id\":\"1077\",\"type\":\"Selection\"},\"selection_policy\":{\"id\":\"1076\",\"type\":\"UnionRenderers\"}},\"id\":\"1016\",\"type\":\"ColumnDataSource\"},{\"attributes\":{},\"id\":\"1074\",\"type\":\"StringFormatter\"},{\"attributes\":{},\"id\":\"1075\",\"type\":\"StringEditor\"},{\"attributes\":{},\"id\":\"1076\",\"type\":\"UnionRenderers\"},{\"attributes\":{},\"id\":\"1077\",\"type\":\"Selection\"},{\"attributes\":{},\"id\":\"1078\",\"type\":\"StringFormatter\"},{\"attributes\":{},\"id\":\"1079\",\"type\":\"StringEditor\"},{\"attributes\":{},\"id\":\"1080\",\"type\":\"UnionRenderers\"},{\"attributes\":{},\"id\":\"1081\",\"type\":\"Selection\"},{\"attributes\":{},\"id\":\"1082\",\"type\":\"StringFormatter\"},{\"attributes\":{},\"id\":\"1088\",\"type\":\"UnionRenderers\"},{\"attributes\":{},\"id\":\"1089\",\"type\":\"Selection\"},{\"attributes\":{},\"id\":\"1090\",\"type\":\"StringFormatter\"},{\"attributes\":{},\"id\":\"1091\",\"type\":\"StringEditor\"},{\"attributes\":{},\"id\":\"1092\",\"type\":\"StringFormatter\"},{\"attributes\":{},\"id\":\"1093\",\"type\":\"StringEditor\"},{\"attributes\":{},\"id\":\"1094\",\"type\":\"UnionRenderers\"},{\"attributes\":{},\"id\":\"1095\",\"type\":\"Selection\"},{\"attributes\":{},\"id\":\"1096\",\"type\":\"StringFormatter\"},{\"attributes\":{},\"id\":\"1097\",\"type\":\"StringEditor\"},{\"attributes\":{},\"id\":\"1098\",\"type\":\"StringFormatter\"},{\"attributes\":{},\"id\":\"1099\",\"type\":\"StringEditor\"},{\"attributes\":{},\"id\":\"1100\",\"type\":\"StringFormatter\"},{\"attributes\":{},\"id\":\"1101\",\"type\":\"StringEditor\"},{\"attributes\":{},\"id\":\"1102\",\"type\":\"StringFormatter\"},{\"attributes\":{},\"id\":\"1103\",\"type\":\"StringEditor\"},{\"attributes\":{},\"id\":\"1104\",\"type\":\"StringFormatter\"},{\"attributes\":{},\"id\":\"1105\",\"type\":\"StringEditor\"},{\"attributes\":{},\"id\":\"1106\",\"type\":\"StringFormatter\"},{\"attributes\":{},\"id\":\"1107\",\"type\":\"StringEditor\"},{\"attributes\":{},\"id\":\"1108\",\"type\":\"StringFormatter\"},{\"attributes\":{},\"id\":\"1109\",\"type\":\"StringEditor\"},{\"attributes\":{},\"id\":\"1110\",\"type\":\"UnionRenderers\"},{\"attributes\":{},\"id\":\"1111\",\"type\":\"Selection\"},{\"attributes\":{},\"id\":\"1112\",\"type\":\"StringFormatter\"},{\"attributes\":{},\"id\":\"1113\",\"type\":\"StringEditor\"},{\"attributes\":{},\"id\":\"1114\",\"type\":\"StringFormatter\"}],\"root_ids\":[\"1064\"]},\"title\":\"Bokeh Application\",\"version\":\"1.1.0\"}};\n",
       "  var render_items = [{\"docid\":\"f4503c39-86a0-4113-8729-771927cede8c\",\"roots\":{\"1064\":\"9912bf4d-f4f9-4862-acec-e02da71eb773\"}}];\n",
       "  root.Bokeh.embed.embed_items_notebook(docs_json, render_items);\n",
       "\n",
       "  }\n",
       "  if (root.Bokeh !== undefined) {\n",
       "    embed_document(root);\n",
       "  } else {\n",
       "    var attempts = 0;\n",
       "    var timer = setInterval(function(root) {\n",
       "      if (root.Bokeh !== undefined) {\n",
       "        embed_document(root);\n",
       "        clearInterval(timer);\n",
       "      }\n",
       "      attempts++;\n",
       "      if (attempts > 100) {\n",
       "        console.log(\"Bokeh: ERROR: Unable to run BokehJS code because BokehJS library is missing\");\n",
       "        clearInterval(timer);\n",
       "      }\n",
       "    }, 10, root)\n",
       "  }\n",
       "})(window);"
      ],
      "application/vnd.bokehjs_exec.v0+json": ""
     },
     "metadata": {
      "application/vnd.bokehjs_exec.v0+json": {
       "id": "1064"
      }
     },
     "output_type": "display_data"
    }
   ],
   "source": [
    "run_pdc(locus_tag)"
   ]
  },
  {
   "cell_type": "markdown",
   "metadata": {},
   "source": [
    "## Data from string-db.org "
   ]
  },
  {
   "cell_type": "code",
   "execution_count": 10,
   "metadata": {
    "scrolled": false
   },
   "outputs": [
    {
     "data": {
      "application/vnd.jupyter.widget-view+json": {
       "model_id": "54fce85271624a7e94107e92c5c2b975",
       "version_major": 2,
       "version_minor": 0
      },
      "text/plain": [
       "Image(value=b'\\x89PNG\\r\\n\\x1a\\n\\x00\\x00\\x00\\rIHDR\\x00\\x00\\x03\\xcf\\x00\\x00\\x01\\xcd\\x08\\x06\\x00\\x00\\x00 \\xdcI\\xe…"
      ]
     },
     "metadata": {},
     "output_type": "display_data"
    },
    {
     "data": {
      "text/html": [
       "\n",
       "\n",
       "\n",
       "\n",
       "\n",
       "\n",
       "  <div class=\"bk-root\" id=\"e47c47ff-5772-4280-b60e-563901e43c94\" data-root-id=\"1509\"></div>\n"
      ]
     },
     "metadata": {},
     "output_type": "display_data"
    },
    {
     "data": {
      "application/javascript": [
       "(function(root) {\n",
       "  function embed_document(root) {\n",
       "    \n",
       "  var docs_json = {\"0e8b352b-fad5-45c0-85c0-7c627e0071f2\":{\"roots\":{\"references\":[{\"attributes\":{\"children\":[{\"id\":\"1508\",\"type\":\"Tabs\"}],\"width\":500},\"id\":\"1509\",\"type\":\"Column\"},{\"attributes\":{},\"id\":\"1651\",\"type\":\"StringFormatter\"},{\"attributes\":{\"editor\":{\"id\":\"1602\",\"type\":\"StringEditor\"},\"field\":\"stringId_B\",\"formatter\":{\"id\":\"1601\",\"type\":\"StringFormatter\"},\"title\":\"stringId_B\",\"width\":80},\"id\":\"1472\",\"type\":\"TableColumn\"},{\"attributes\":{\"editor\":{\"id\":\"1606\",\"type\":\"StringEditor\"},\"field\":\"score\",\"formatter\":{\"id\":\"1605\",\"type\":\"StringFormatter\"},\"title\":\"score\",\"width\":80},\"id\":\"1474\",\"type\":\"TableColumn\"},{\"attributes\":{\"editor\":{\"id\":\"1604\",\"type\":\"StringEditor\"},\"field\":\"ncbiTaxonId\",\"formatter\":{\"id\":\"1603\",\"type\":\"StringFormatter\"},\"title\":\"ncbiTaxonId\",\"width\":80},\"id\":\"1473\",\"type\":\"TableColumn\"},{\"attributes\":{\"editor\":{\"id\":\"1608\",\"type\":\"StringEditor\"},\"field\":\"nscore\",\"formatter\":{\"id\":\"1607\",\"type\":\"StringFormatter\"},\"title\":\"nscore\",\"width\":80},\"id\":\"1475\",\"type\":\"TableColumn\"},{\"attributes\":{},\"id\":\"1656\",\"type\":\"Selection\"},{\"attributes\":{\"child\":{\"id\":\"1467\",\"type\":\"DataTable\"},\"title\":\"Network Interactions\"},\"id\":\"1469\",\"type\":\"Panel\"},{\"attributes\":{\"editor\":{\"id\":\"1624\",\"type\":\"StringEditor\"},\"field\":\"category\",\"formatter\":{\"id\":\"1623\",\"type\":\"StringFormatter\"},\"title\":\"category\",\"width\":80},\"id\":\"1486\",\"type\":\"TableColumn\"},{\"attributes\":{\"editor\":{\"id\":\"1610\",\"type\":\"StringEditor\"},\"field\":\"fscore\",\"formatter\":{\"id\":\"1609\",\"type\":\"StringFormatter\"},\"title\":\"fscore\",\"width\":80},\"id\":\"1476\",\"type\":\"TableColumn\"},{\"attributes\":{\"columns\":[{\"id\":\"1486\",\"type\":\"TableColumn\"},{\"id\":\"1487\",\"type\":\"TableColumn\"},{\"id\":\"1488\",\"type\":\"TableColumn\"},{\"id\":\"1489\",\"type\":\"TableColumn\"},{\"id\":\"1490\",\"type\":\"TableColumn\"},{\"id\":\"1491\",\"type\":\"TableColumn\"},{\"id\":\"1492\",\"type\":\"TableColumn\"},{\"id\":\"1493\",\"type\":\"TableColumn\"},{\"id\":\"1494\",\"type\":\"TableColumn\"}],\"fit_columns\":false,\"source\":{\"id\":\"1485\",\"type\":\"ColumnDataSource\"},\"view\":{\"id\":\"1496\",\"type\":\"CDSView\"}},\"id\":\"1495\",\"type\":\"DataTable\"},{\"attributes\":{},\"id\":\"1589\",\"type\":\"StringFormatter\"},{\"attributes\":{\"editor\":{\"id\":\"1600\",\"type\":\"StringEditor\"},\"field\":\"stringId_A\",\"formatter\":{\"id\":\"1599\",\"type\":\"StringFormatter\"},\"title\":\"stringId_A\",\"width\":80},\"id\":\"1471\",\"type\":\"TableColumn\"},{\"attributes\":{\"columns\":[{\"id\":\"1471\",\"type\":\"TableColumn\"},{\"id\":\"1472\",\"type\":\"TableColumn\"},{\"id\":\"1473\",\"type\":\"TableColumn\"},{\"id\":\"1474\",\"type\":\"TableColumn\"},{\"id\":\"1475\",\"type\":\"TableColumn\"},{\"id\":\"1476\",\"type\":\"TableColumn\"},{\"id\":\"1477\",\"type\":\"TableColumn\"},{\"id\":\"1478\",\"type\":\"TableColumn\"},{\"id\":\"1479\",\"type\":\"TableColumn\"},{\"id\":\"1480\",\"type\":\"TableColumn\"},{\"id\":\"1481\",\"type\":\"TableColumn\"}],\"fit_columns\":false,\"source\":{\"id\":\"1470\",\"type\":\"ColumnDataSource\"},\"view\":{\"id\":\"1483\",\"type\":\"CDSView\"}},\"id\":\"1482\",\"type\":\"DataTable\"},{\"attributes\":{\"callback\":null,\"data\":{\"ascore\":{\"__ndarray__\":\"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\",\"dtype\":\"float64\",\"shape\":[226]},\"dscore\":{\"__ndarray__\":\"AAAAAAAAAAAAAAAAAAAAAAAAAAAAAAAAAAAAAAAAAAAAAAAAAAAAAAAAAAAAAAAAAAAAAAAAAAAAAAAAAAAAAAAAAAAAAAAAAAAAAAAAAAAAAAAAAAAAAAAAAAAAAAAAAAAAAAAAAAAAAAAAAAAAAAAAAAAAAAAAAAAAAAAAAAAAAAAAAAAAAAAAAAAAAAAAAAAAAAAAAAAAAAAAAAAAAAAAAAAAAAAAAAAAAAAAAAAAAAAAAAAAAAAAAAAAAAAAAAAAAAAAAAAAAAAAAAAAAAAAAAAAAAAAAAAAAAAAAAAAAAAAAAAAAAAAAAAAAAAAAAAAAAAAAAAAAAAAAAAAAAAAAAAAAAAAAAAAAAAAAAAAAAAAAAAAAAAAAAAAAAAAAAAAAAAAAAAAAAAAAAAAAAAAAAAAAAAAAAAAAAAAAAAAAAAAAAAAAAAAAAAAAAAAAAAAAAAAAAAAAAAAAAAAAAAAAAAAAAAAAAAAAAAAAAAAAAAAAAAAAAAAAAAAAAAAAAAAAAAAAAAAAAAAAAAAAAAAAAAAAAAAAAAAAAAAAACmm8QgsHLQPwAAAAAAAAAAAAAAAAAAAAAAAAAAAAAAAAAAAAAAAAAAAAAAAAAAAAAAAAAAAAAAAAAAAAAAAAAAtvP91Hjp5j8AAAAAAAAAAAAAAAAAAAAAAAAAAAAAAAAAAAAAAAAAAAAAAAAAAAAAAAAAAAAAAAAAAAAAAAAAAAAAAAAAAAAAAAAAAAAAAAAAAAAAAAAAAAAAAAAAAAAAAAAAAAAAAAAAAAAAAAAAAAAAAAAAAAAAAAAAAAAAAAAAAAAAAAAAAAAAAAAAAAAAAAAAAAAAAAAAAAAAAAAAAAAAAAAAAAAAw/UoXI/C1T8AAAAAAAAAAAAAAAAAAAAAAAAAAAAAAAAAAAAAAAAAAAAAAAAAAAAAAAAAAAAAAAAAAAAAAAAAAAAAAAAAAAAAAAAAAAAAAAAAAAAAAAAAAAAAAAAAAAAAAAAAAAAAAAAAAAAAAAAAAAAAAAAAAAAAAAAAAAAAAAAAAAAAAAAAAAAAAAAAAAAAAAAAAAAAAAAAAAAAAAAAAAAAAAAAAAAAAAAAAAAAAAAAAAAAAAAAAAAAAAAAAAAAAAAAAAAAAAAAAAAAAAAAAAAAAAAAAAAAAAAAAAAAAAAAAAAAAAAAAAAAAAAAAAAAAAAAAAAAAAAAAAAAAAAAAAAAAAAAAAAAAAAAAAAAAAAAAAAAAAAAAAAAAAAAAAAAAAAAAAAAAAAAAAAAAAAAAAAAAAAAAAAAAAAAAAAAAAAAAAAAAAAAALbz/dR46eY/tvP91Hjp5j8AAAAAAAAAAAAAAAAAAAAAAAAAAAAAAAAAAAAAAAAAAAAAAAAAAAAAAAAAAAAAAAAAAAAAAAAAAAAAAAAAAAAAAAAAAAAAAAAAAAAAAAAAAAAAAAAAAAAAAAAAAAAAAAAAAAAAAAAAAAAAAAAAAAAAAAAAAAAAAAAAAAAAAAAAAAAAAAAAAAAAAAAAAAAAAAAAAAAAAAAAAAAAAAAAAAAAAAAAAAAAAAAAAAAAAAAAAAAAAAAAAAAAAAAAAAAAAAAAAAAAAAAAAAAAAAAAAAAAAAAAAAAAAAAAAAAAAAAAAAAAAAAAAAAAAAAAAAAAAAAAAAAAAAAAAAAAAAAAAAAAAAAAAAAAAAAAAAAAAAAAAAAAAAAAAAAAAAAAAAAAAAAAAAAAAAAAAAAAAAAAAAAAAAAAAAAAAAAAAAAAAAAAAAAAAAAAAAAAAAAAAAAAAAAAAAAAAAAAAAAAAAAAAAAAAAAAAAAAAAAAAAAAAAAAAAAAAAAAAAAAAAAAAAAAAAAAAAAAAAAAAAAAAAAAAAAAAAAAAAAAAAAAAAAAAAAAAAAAAAAAAAAAAAAAAAAAAAAAAAAAAAAAAAAAAAAAAAAAAAAAAAAAAAAAAAAAAAAAAAAAAAAAAAAAAAAAAAAAAAAAAAAAAAAAAAAAAAAAAAAAAAAAAAAAAAAAAAAAAAAAAAAAAAAAAAAAAAAAAAAAAAAAAAAAAAAAAAAAAAAAAAAAAAAAAAAAAAAAAAAAAAAAAAAAAAAAAAAAAAAAAAAAAAAAAAAAAAAAAAAAAAAAAAAAAAAAAAAAAAAAAAAAAAAAAAAAAAAAAAAAAAAAAAAAAAAAAAAAAAAAAAAAAAAAAAAAAAAAAAAAAAAAAAAAAAAAAAAAAAAAAAAAAAAAAAAAAAAAAAAAAAAAAAAAAAAAAAAAAAAAAAAAAAAAAAAAAAAAAAAAAAAAAAAAAAAAAAAAAAAAAAAAAAAAAAAAAAAAAAAAaJHtfD814j8AAAAAAAAAAAAAAAAAAAAAAAAAAAAAAAAAAAAAAAAAAAAAAAAAAAAAAAAAAAAAAAAAAAAAAAAAAAAAAAAAAAAAAAAAAAAAAAA=\",\"dtype\":\"float64\",\"shape\":[226]},\"escore\":{\"__ndarray__\":\"AAAAAAAA6D8zMzMzMzPDPwAAAAAAAAAAAAAAAAAAAAAAAAAAAAAAAAAAAAAAAAAA0SLb+X5qzD8AAAAAAAAAAAAAAAAAAAAAAAAAAAAAAAAAAAAAAAAAAAAAAAAAAAAAAAAAAAAAAADRItv5fmrMPwAAAAAAAAAAAAAAAAAAAAAAAAAAAAAAAAAAAAAAAAAAAAAAAAAAAAAAAAAAAAAAAKJFtvP91Og/AAAAAAAAAAAAAAAAAAAAADMzMzMzM8M/AAAAAAAAAAAAAAAAAAAAAHWTGARWDs0/AAAAAAAAAABI4XoUrkfBPwAAAAAAAAAAMzMzMzMzwz8AAAAAAAAAAAAAAAAAAAAAlkOLbOf76T8AAAAAAAAAAGDl0CLb+b4/AAAAAAAAAAAAAAAAAAAAAOF6FK5H4bo/AAAAAAAAAABU46WbxCDAPwAAAAAAAAAAAAAAAAAAAAAAAAAAAAAAAAAAAAAAAAAADi2yne+n5j8AAAAAAAAAAAAAAAAAAAAAAAAAAAAAAAAAAAAAAAAAAMl2vp8aL70/MzMzMzMzwz8AAAAAAAAAAOkmMQisHLo/AAAAAAAAAAAAAAAAAAAAAAAAAAAAAAAAAAAAAAAAAABEi2zn+6nBPwAAAAAAAAAAAAAAAAAAAAAAAAAAAAAAAI2XbhKDwOY/AAAAAAAAAAAAAAAAAAAAAAAAAAAAAAAAAAAAAAAAAAAAAAAAAAAAAA4tsp3vp+Y//Knx0k1iwD8AAAAAAAAAALgehetRuOY/0SLb+X5qzD8AAAAAAAAAAOF6FK5H4bo/AAAAAAAAAADfT42XbhLjPwAAAAAAAAAAAAAAAAAAAAAAAAAAAAAAAAAAAAAAAAAAAAAAAAAAAAAAAAAAAAAAAN9PjZduEuM/AAAAAAAAAAAAAAAAAAAAAAAAAAAAAAAAAAAAAAAAAAAAAAAAAAAAAAAAAAAAAAAAAAAAAAAAAAAAAAAAAAAAAIGVQ4ts57s/AAAAAAAAAAAAAAAAAAAAAAAAAAAAAAAAAAAAAAAAAABQjZduEoPoPwAAAAAAAAAAAAAAAAAAAAAAAAAAAAAAAA4tsp3vp+Y/AAAAAAAAAAAAAAAAAAAAAAAAAAAAAAAAAAAAAAAAAAAAAAAAAAAAAAAAAAAAAAAABoGVQ4tsxz8AAAAAAAAAANEi2/l+asw/mG4Sg8DK6T/hehSuR+G6P6AaL90kBsE/AAAAAAAAAAAAAAAAAAAAAOF6FK5H4bo/AAAAAAAAAAAAAAAAAAAAAC/dJAaBlcM/AAAAAAAAAAAAAAAAAAAAAAAAAAAAAAAAAAAAAAAAAAAGgZVDi2zHPwAAAAAAAAAAAAAAAAAAAAAAAAAAAAAAAAAAAAAAAAAAjZduEoPA5j8AAAAAAAAAAAAAAAAAAAAAAAAAAAAAAAAzMzMzMzPDPwAAAAAAAAAAAAAAAAAAAAAAAAAAAAAAAAAAAAAAAAAAAAAAAAAAAAAAAAAAAAAAAHWTGARWDs0/AAAAAAAAAAAAAAAAAAAAAAAAAAAAAAAAAAAAAAAAAAAAAAAAAAAAAAAAAAAAAAAAAAAAAAAAAADb+X5qvHTDPwAAAAAAAAAAAAAAAAAAAAAAAAAAAAAAAAAAAAAAAAAAAAAAAAAAAAAAAAAAAAAAAAAAAAAAAAAAAAAAAAAAAAAAAAAAAAAAAAAAAAAAAAAAAAAAAAAAAAAAAAAAAAAAAOF6FK5H4bo/4XoUrkfhuj8AAAAAAAAAAAAAAAAAAAAAAAAAAAAAAAAAAAAAAAAAAAAAAAAAAAAAAAAAAAAAAACwcmiR7Xy/PwAAAAAAAAAAAAAAAAAAAAAAAAAAAAAAAAAAAAAAAAAAAAAAAAAAAAD0/dR46SbBP1CNl24Sg8A/uB6F61G4vj8AAAAAAAAAAIts5/up8eY/PzVeukkMwj8AAAAAAAAAADm0yHa+n7o/AAAAAAAAAAA5tMh2vp+6PwAAAAAAAAAAAAAAAAAAAAAAAAAAAAAAAAAAAAAAAAAAAAAAAAAAAAAAAAAAAAAAAAAAAAAAAAAAAAAAAAAAAAAAAAAAAAAAAI2XbhKDwOY/AAAAAAAAAAAAAAAAAAAAAAAAAAAAAAAAAAAAAAAAAAAAAAAAAAAAAAAAAAAAAAAAWDm0yHa+vz8AAAAAAAAAAAAAAAAAAAAAAAAAAAAAAAAzMzMzMzPDPwAAAAAAAAAAAAAAAAAAAAAzMzMzMzPDP5qZmZmZmbk/AAAAAAAAAADhehSuR+G6PwRWDi2ynec/AAAAAAAAAAAOLbKd76fmP5qZmZmZmbk/AAAAAAAAAAAAAAAAAAAAAAAAAAAAAAAA0SLb+X5qzD8AAAAAAAAAAAAAAAAAAAAAAAAAAAAAAAAAAAAAAAAAAAAAAAAAAAAAAAAAAAAAAAA=\",\"dtype\":\"float64\",\"shape\":[226]},\"fscore\":[0,0,0,0,0,0,0,0,0,0,0,0,0,0,0,0,0,0,0,0,0,0,0,0,0,0,0,0,0,0,0,0,0,0,0,0,0,0,0,0,0,0,0,0,0,0,0,0,0,0,0,0,0,0,0,0,0,0,0,0,0,0,0,0,0,0,0,0,0,0,0,0,0,0,0,0,0,0,0,0,0,0,0,0,0,0,0,0,0,0,0,0,0,0,0,0,0,0,0,0,0,0,0,0,0,0,0,0,0,0,0,0,0,0,0,0,0,0,0,0,0,0,0,0,0,0,0,0,0,0,0,0,0,0,0,0,0,0,0,0,0,0,0,0,0,0,0,0,0,0,0,0,0,0,0,0,0,0,0,0,0,0,0,0,0,0,0,0,0,0,0,0,0,0,0,0,0,0,0,0,0,0,0,0,0,0,0,0,0,0,0,0,0,0,0,0,0,0,0,0,0,0,0,0,0,0,0,0,0,0,0,0,0,0,0,0,0,0,0,0,0,0,0,0,0,0],\"index\":[0,1,2,3,4,5,6,7,8,9,10,11,12,13,14,15,16,17,18,19,20,21,22,23,24,25,26,27,28,29,30,31,32,33,34,35,36,37,38,39,40,41,42,43,44,45,46,47,48,49,50,51,52,53,54,55,56,57,58,59,60,61,62,63,64,65,66,67,68,69,70,71,72,73,74,75,76,77,78,79,80,81,82,83,84,85,86,87,88,89,90,91,92,93,94,95,96,97,98,99,100,101,102,103,104,105,106,107,108,109,110,111,112,113,114,115,116,117,118,119,120,121,122,123,124,125,126,127,128,129,130,131,132,133,134,135,136,137,138,139,140,141,142,143,144,145,146,147,148,149,150,151,152,153,154,155,156,157,158,159,160,161,162,163,164,165,166,167,168,169,170,171,172,173,174,175,176,177,178,179,180,181,182,183,184,185,186,187,188,189,190,191,192,193,194,195,196,197,198,199,200,201,202,203,204,205,206,207,208,209,210,211,212,213,214,215,216,217,218,219,220,221,222,223,224,225],\"ncbiTaxonId\":[\"216595\",\"216595\",\"216595\",\"216595\",\"216595\",\"216595\",\"216595\",\"216595\",\"216595\",\"216595\",\"216595\",\"216595\",\"216595\",\"216595\",\"216595\",\"216595\",\"216595\",\"216595\",\"216595\",\"216595\",\"216595\",\"216595\",\"216595\",\"216595\",\"216595\",\"216595\",\"216595\",\"216595\",\"216595\",\"216595\",\"216595\",\"216595\",\"216595\",\"216595\",\"216595\",\"216595\",\"216595\",\"216595\",\"216595\",\"216595\",\"216595\",\"216595\",\"216595\",\"216595\",\"216595\",\"216595\",\"216595\",\"216595\",\"216595\",\"216595\",\"216595\",\"216595\",\"216595\",\"216595\",\"216595\",\"216595\",\"216595\",\"216595\",\"216595\",\"216595\",\"216595\",\"216595\",\"216595\",\"216595\",\"216595\",\"216595\",\"216595\",\"216595\",\"216595\",\"216595\",\"216595\",\"216595\",\"216595\",\"216595\",\"216595\",\"216595\",\"216595\",\"216595\",\"216595\",\"216595\",\"216595\",\"216595\",\"216595\",\"216595\",\"216595\",\"216595\",\"216595\",\"216595\",\"216595\",\"216595\",\"216595\",\"216595\",\"216595\",\"216595\",\"216595\",\"216595\",\"216595\",\"216595\",\"216595\",\"216595\",\"216595\",\"216595\",\"216595\",\"216595\",\"216595\",\"216595\",\"216595\",\"216595\",\"216595\",\"216595\",\"216595\",\"216595\",\"216595\",\"216595\",\"216595\",\"216595\",\"216595\",\"216595\",\"216595\",\"216595\",\"216595\",\"216595\",\"216595\",\"216595\",\"216595\",\"216595\",\"216595\",\"216595\",\"216595\",\"216595\",\"216595\",\"216595\",\"216595\",\"216595\",\"216595\",\"216595\",\"216595\",\"216595\",\"216595\",\"216595\",\"216595\",\"216595\",\"216595\",\"216595\",\"216595\",\"216595\",\"216595\",\"216595\",\"216595\",\"216595\",\"216595\",\"216595\",\"216595\",\"216595\",\"216595\",\"216595\",\"216595\",\"216595\",\"216595\",\"216595\",\"216595\",\"216595\",\"216595\",\"216595\",\"216595\",\"216595\",\"216595\",\"216595\",\"216595\",\"216595\",\"216595\",\"216595\",\"216595\",\"216595\",\"216595\",\"216595\",\"216595\",\"216595\",\"216595\",\"216595\",\"216595\",\"216595\",\"216595\",\"216595\",\"216595\",\"216595\",\"216595\",\"216595\",\"216595\",\"216595\",\"216595\",\"216595\",\"216595\",\"216595\",\"216595\",\"216595\",\"216595\",\"216595\",\"216595\",\"216595\",\"216595\",\"216595\",\"216595\",\"216595\",\"216595\",\"216595\",\"216595\",\"216595\",\"216595\",\"216595\",\"216595\",\"216595\",\"216595\",\"216595\",\"216595\",\"216595\",\"216595\",\"216595\",\"216595\",\"216595\",\"216595\",\"216595\",\"216595\",\"216595\",\"216595\",\"216595\"],\"nscore\":{\"__ndarray__\":\"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\",\"dtype\":\"float64\",\"shape\":[226]},\"pscore\":{\"__ndarray__\":\"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\",\"dtype\":\"float64\",\"shape\":[226]},\"score\":{\"__ndarray__\":\"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\",\"dtype\":\"float64\",\"shape\":[226]},\"stringId_A\":[\"PFLU_0001\",\"PFLU_0001\",\"PFLU_0001\",\"PFLU_0001\",\"PFLU_0001\",\"PFLU_0001\",\"PFLU_0001\",\"PFLU_0001\",\"PFLU_0001\",\"PFLU_0001\",\"PFLU_0001\",\"PFLU_0001\",\"PFLU_0001\",\"PFLU_0001\",\"PFLU_0001\",\"PFLU_0001\",\"PFLU_0001\",\"PFLU_0001\",\"PFLU_0001\",\"PFLU_0001\",\"PFLU_0001\",\"PFLU_0001\",\"PFLU_0001\",\"PFLU_0001\",\"PFLU_0001\",\"PFLU_0001\",\"PFLU_0001\",\"PFLU_0001\",\"PFLU_0001\",\"PFLU_0001\",\"PFLU_0001\",\"PFLU_0001\",\"PFLU_0001\",\"PFLU_0001\",\"PFLU_0001\",\"PFLU_0001\",\"PFLU_0001\",\"PFLU_0001\",\"PFLU_0001\",\"PFLU_0001\",\"PFLU_0001\",\"PFLU_0001\",\"PFLU_0001\",\"PFLU_0001\",\"PFLU_0001\",\"PFLU_0001\",\"PFLU_0001\",\"PFLU_0001\",\"PFLU_0001\",\"PFLU_0001\",\"PFLU_0001\",\"PFLU_0001\",\"PFLU_0001\",\"PFLU_0001\",\"PFLU_0001\",\"PFLU_0001\",\"PFLU_0001\",\"PFLU_0001\",\"PFLU_0001\",\"PFLU_0001\",\"PFLU_0001\",\"PFLU_0001\",\"PFLU_0001\",\"PFLU_0001\",\"PFLU_0001\",\"PFLU_0001\",\"PFLU_0001\",\"PFLU_0001\",\"PFLU_0001\",\"PFLU_0001\",\"PFLU_0001\",\"PFLU_0001\",\"PFLU_0001\",\"PFLU_0001\",\"PFLU_0001\",\"PFLU_0001\",\"PFLU_0001\",\"PFLU_0001\",\"PFLU_0001\",\"PFLU_0001\",\"PFLU_0001\",\"PFLU_0001\",\"PFLU_0001\",\"PFLU_0001\",\"PFLU_0001\",\"PFLU_0001\",\"PFLU_0001\",\"PFLU_0001\",\"PFLU_0001\",\"PFLU_0001\",\"PFLU_0001\",\"PFLU_0001\",\"PFLU_0001\",\"PFLU_0001\",\"PFLU_0001\",\"PFLU_0001\",\"PFLU_0001\",\"PFLU_0001\",\"PFLU_0001\",\"PFLU_0001\",\"PFLU_0001\",\"PFLU_0001\",\"PFLU_0001\",\"PFLU_0001\",\"PFLU_0001\",\"PFLU_0001\",\"PFLU_0001\",\"PFLU_0001\",\"PFLU_0001\",\"PFLU_0001\",\"PFLU_0001\",\"PFLU_0001\",\"PFLU_0001\",\"PFLU_0001\",\"PFLU_0001\",\"PFLU_0001\",\"PFLU_0001\",\"PFLU_0001\",\"PFLU_0001\",\"PFLU_0001\",\"PFLU_0001\",\"PFLU_0001\",\"PFLU_0001\",\"PFLU_0001\",\"PFLU_0001\",\"PFLU_0001\",\"PFLU_0001\",\"PFLU_0001\",\"PFLU_0001\",\"PFLU_0001\",\"PFLU_0001\",\"PFLU_0001\",\"PFLU_0001\",\"PFLU_0001\",\"PFLU_0001\",\"PFLU_0001\",\"PFLU_0001\",\"PFLU_0001\",\"PFLU_0001\",\"PFLU_0001\",\"PFLU_0001\",\"PFLU_0001\",\"PFLU_0001\",\"PFLU_0001\",\"PFLU_0001\",\"PFLU_0001\",\"PFLU_0001\",\"PFLU_0001\",\"PFLU_0001\",\"PFLU_0001\",\"PFLU_0001\",\"PFLU_0001\",\"PFLU_0001\",\"PFLU_0001\",\"PFLU_0001\",\"PFLU_0001\",\"PFLU_0001\",\"PFLU_0001\",\"PFLU_0001\",\"PFLU_0001\",\"PFLU_0001\",\"PFLU_0001\",\"PFLU_0001\",\"PFLU_0001\",\"PFLU_0001\",\"PFLU_0001\",\"PFLU_0001\",\"PFLU_0001\",\"PFLU_0001\",\"PFLU_0001\",\"PFLU_0001\",\"PFLU_0001\",\"PFLU_0001\",\"PFLU_0001\",\"PFLU_0001\",\"PFLU_0001\",\"PFLU_0001\",\"PFLU_0001\",\"PFLU_0001\",\"PFLU_0001\",\"PFLU_0001\",\"PFLU_0001\",\"PFLU_0001\",\"PFLU_0001\",\"PFLU_0001\",\"PFLU_0001\",\"PFLU_0001\",\"PFLU_0001\",\"PFLU_0001\",\"PFLU_0001\",\"PFLU_0001\",\"PFLU_0001\",\"PFLU_0001\",\"PFLU_0001\",\"PFLU_0001\",\"PFLU_0001\",\"PFLU_0001\",\"PFLU_0001\",\"PFLU_0001\",\"PFLU_0001\",\"PFLU_0001\",\"PFLU_0001\",\"PFLU_0001\",\"PFLU_0001\",\"PFLU_0001\",\"PFLU_0001\",\"PFLU_0001\",\"PFLU_0001\",\"PFLU_0001\",\"PFLU_0001\",\"PFLU_0001\",\"PFLU_0001\",\"PFLU_0001\",\"PFLU_0001\",\"PFLU_0001\",\"PFLU_0001\",\"PFLU_0001\",\"PFLU_0001\",\"PFLU_0001\",\"PFLU_0001\",\"PFLU_0001\",\"PFLU_0001\",\"PFLU_0001\",\"PFLU_0001\",\"PFLU_0001\",\"PFLU_0001\"],\"stringId_B\":[\"PFLU_0002\",\"PFLU_0003\",\"PFLU_0004\",\"PFLU_0017\",\"PFLU_0079\",\"PFLU_0179\",\"PFLU_0309\",\"PFLU_0323\",\"PFLU_0349\",\"PFLU_0384\",\"PFLU_0389\",\"PFLU_0402\",\"PFLU_0416\",\"PFLU_0439\",\"PFLU_0499\",\"PFLU_0516\",\"PFLU_0518\",\"PFLU_0531\",\"PFLU_0534\",\"PFLU_0536\",\"PFLU_0537\",\"PFLU_0614\",\"PFLU_0706\",\"PFLU_0732\",\"PFLU_0738\",\"PFLU_0765\",\"PFLU_0797\",\"PFLU_0839\",\"PFLU_0840\",\"PFLU_0860\",\"PFLU_0863\",\"PFLU_0886\",\"PFLU_0894\",\"PFLU_0933\",\"PFLU_0938\",\"PFLU_0941\",\"PFLU_0943\",\"PFLU_0945\",\"PFLU_0946\",\"PFLU_0947\",\"PFLU_0950\",\"PFLU_0951\",\"PFLU_0952\",\"PFLU_0953\",\"PFLU_1025\",\"PFLU_1050\",\"PFLU_1058\",\"PFLU_1060\",\"PFLU_1062\",\"PFLU_1161\",\"PFLU_1189\",\"PFLU_1190\",\"PFLU_1240\",\"PFLU_1270\",\"PFLU_1271\",\"PFLU_1273\",\"PFLU_1276\",\"PFLU_1284\",\"PFLU_1285\",\"PFLU_1287\",\"PFLU_1289\",\"PFLU_1302\",\"PFLU_1412\",\"PFLU_1458\",\"PFLU_1560\",\"PFLU_1565\",\"PFLU_1587\",\"PFLU_1643\",\"PFLU_1651\",\"PFLU_1771\",\"PFLU_1878\",\"PFLU_1888\",\"PFLU_1980\",\"PFLU_2036\",\"PFLU_2064\",\"PFLU_2190\",\"PFLU_2488\",\"PFLU_2645\",\"PFLU_2646\",\"PFLU_2662\",\"PFLU_2682\",\"PFLU_2783\",\"PFLU_2817\",\"PFLU_2975\",\"PFLU_2988\",\"PFLU_3057\",\"PFLU_3191\",\"PFLU_3347\",\"PFLU_3600\",\"PFLU_3605\",\"PFLU_3775\",\"PFLU_3796\",\"PFLU_3801\",\"PFLU_3804\",\"PFLU_3811\",\"PFLU_3818\",\"PFLU_3830\",\"PFLU_3926\",\"PFLU_3928\",\"PFLU_3929\",\"PFLU_3930\",\"PFLU_4142\",\"PFLU_4143\",\"PFLU_4144\",\"PFLU_4145\",\"PFLU_4147\",\"PFLU_4148\",\"PFLU_4187\",\"PFLU_4197\",\"PFLU_4208\",\"PFLU_4409\",\"PFLU_4496\",\"PFLU_4505\",\"PFLU_4570\",\"PFLU_4575\",\"PFLU_4578\",\"PFLU_4588\",\"PFLU_4620\",\"PFLU_4698\",\"PFLU_4699\",\"PFLU_4706\",\"PFLU_4726\",\"PFLU_4768\",\"PFLU_4786\",\"PFLU_4852\",\"PFLU_4913\",\"PFLU_4914\",\"PFLU_4915\",\"PFLU_4917\",\"PFLU_4920\",\"PFLU_4933\",\"PFLU_4987\",\"PFLU_4988\",\"PFLU_4999\",\"PFLU_5008\",\"PFLU_5009\",\"PFLU_5010\",\"PFLU_5012\",\"PFLU_5013\",\"PFLU_5044\",\"PFLU_5048\",\"PFLU_5069\",\"PFLU_5079\",\"PFLU_5168\",\"PFLU_5170\",\"PFLU_5212\",\"PFLU_5213\",\"PFLU_5214\",\"PFLU_5239\",\"PFLU_5250\",\"PFLU_5251\",\"PFLU_5253\",\"PFLU_5254\",\"PFLU_5264\",\"PFLU_5269\",\"PFLU_5271\",\"PFLU_5276\",\"PFLU_5281\",\"PFLU_5283\",\"PFLU_5410\",\"PFLU_5412\",\"PFLU_5422\",\"PFLU_5423\",\"PFLU_5425\",\"PFLU_5462\",\"PFLU_5498\",\"PFLU_5502\",\"PFLU_5503\",\"PFLU_5504\",\"PFLU_5505\",\"PFLU_5507\",\"PFLU_5510\",\"PFLU_5512\",\"PFLU_5513\",\"PFLU_5515\",\"PFLU_5517\",\"PFLU_5520\",\"PFLU_5521\",\"PFLU_5523\",\"PFLU_5524\",\"PFLU_5526\",\"PFLU_5527\",\"PFLU_5528\",\"PFLU_5530\",\"PFLU_5531\",\"PFLU_5532\",\"PFLU_5533\",\"PFLU_5534\",\"PFLU_5535\",\"PFLU_5537\",\"PFLU_5538\",\"PFLU_5539\",\"PFLU_5543\",\"PFLU_5558\",\"PFLU_5564\",\"PFLU_5578\",\"PFLU_5591\",\"PFLU_5592\",\"PFLU_5705\",\"PFLU_5709\",\"PFLU_5756\",\"PFLU_5778\",\"PFLU_5779\",\"PFLU_5780\",\"PFLU_5791\",\"PFLU_5793\",\"PFLU_5815\",\"PFLU_5877\",\"PFLU_5900\",\"PFLU_5961\",\"PFLU_5993\",\"PFLU_5995\",\"PFLU_6002\",\"PFLU_6003\",\"PFLU_6032\",\"PFLU_6075\",\"PFLU_6116\",\"PFLU_6120\",\"PFLU_6126\",\"PFLU_6127\",\"PFLU_6128\",\"PFLU_6129\",\"PFLU_6133\",\"PFLU_6134\",\"PFLU_6135\",\"PFLU_6136\"],\"tscore\":{\"__ndarray__\":\"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\",\"dtype\":\"float64\",\"shape\":[226]}},\"selected\":{\"id\":\"1622\",\"type\":\"Selection\"},\"selection_policy\":{\"id\":\"1621\",\"type\":\"UnionRenderers\"}},\"id\":\"1470\",\"type\":\"ColumnDataSource\"},{\"attributes\":{\"source\":{\"id\":\"1455\",\"type\":\"ColumnDataSource\"}},\"id\":\"1468\",\"type\":\"CDSView\"},{\"attributes\":{\"editor\":{\"id\":\"1596\",\"type\":\"StringEditor\"},\"field\":\"tscore\",\"formatter\":{\"id\":\"1595\",\"type\":\"StringFormatter\"},\"title\":\"tscore\",\"width\":80},\"id\":\"1466\",\"type\":\"TableColumn\"},{\"attributes\":{\"columns\":[{\"id\":\"1456\",\"type\":\"TableColumn\"},{\"id\":\"1457\",\"type\":\"TableColumn\"},{\"id\":\"1458\",\"type\":\"TableColumn\"},{\"id\":\"1459\",\"type\":\"TableColumn\"},{\"id\":\"1460\",\"type\":\"TableColumn\"},{\"id\":\"1461\",\"type\":\"TableColumn\"},{\"id\":\"1462\",\"type\":\"TableColumn\"},{\"id\":\"1463\",\"type\":\"TableColumn\"},{\"id\":\"1464\",\"type\":\"TableColumn\"},{\"id\":\"1465\",\"type\":\"TableColumn\"},{\"id\":\"1466\",\"type\":\"TableColumn\"}],\"fit_columns\":false,\"source\":{\"id\":\"1455\",\"type\":\"ColumnDataSource\"},\"view\":{\"id\":\"1468\",\"type\":\"CDSView\"}},\"id\":\"1467\",\"type\":\"DataTable\"},{\"attributes\":{\"editor\":{\"id\":\"1584\",\"type\":\"StringEditor\"},\"field\":\"nscore\",\"formatter\":{\"id\":\"1583\",\"type\":\"StringFormatter\"},\"title\":\"nscore\",\"width\":80},\"id\":\"1460\",\"type\":\"TableColumn\"},{\"attributes\":{\"editor\":{\"id\":\"1576\",\"type\":\"StringEditor\"},\"field\":\"stringId_A\",\"formatter\":{\"id\":\"1575\",\"type\":\"StringFormatter\"},\"title\":\"stringId_A\",\"width\":80},\"id\":\"1456\",\"type\":\"TableColumn\"},{\"attributes\":{\"editor\":{\"id\":\"1592\",\"type\":\"StringEditor\"},\"field\":\"escore\",\"formatter\":{\"id\":\"1591\",\"type\":\"StringFormatter\"},\"title\":\"escore\",\"width\":80},\"id\":\"1464\",\"type\":\"TableColumn\"},{\"attributes\":{\"editor\":{\"id\":\"1578\",\"type\":\"StringEditor\"},\"field\":\"stringId_B\",\"formatter\":{\"id\":\"1577\",\"type\":\"StringFormatter\"},\"title\":\"stringId_B\",\"width\":80},\"id\":\"1457\",\"type\":\"TableColumn\"},{\"attributes\":{\"editor\":{\"id\":\"1594\",\"type\":\"StringEditor\"},\"field\":\"dscore\",\"formatter\":{\"id\":\"1593\",\"type\":\"StringFormatter\"},\"title\":\"dscore\",\"width\":80},\"id\":\"1465\",\"type\":\"TableColumn\"},{\"attributes\":{\"editor\":{\"id\":\"1590\",\"type\":\"StringEditor\"},\"field\":\"ascore\",\"formatter\":{\"id\":\"1589\",\"type\":\"StringFormatter\"},\"title\":\"ascore\",\"width\":80},\"id\":\"1463\",\"type\":\"TableColumn\"},{\"attributes\":{\"editor\":{\"id\":\"1588\",\"type\":\"StringEditor\"},\"field\":\"pscore\",\"formatter\":{\"id\":\"1587\",\"type\":\"StringFormatter\"},\"title\":\"pscore\",\"width\":80},\"id\":\"1462\",\"type\":\"TableColumn\"},{\"attributes\":{},\"id\":\"1639\",\"type\":\"StringFormatter\"},{\"attributes\":{\"editor\":{\"id\":\"1586\",\"type\":\"StringEditor\"},\"field\":\"fscore\",\"formatter\":{\"id\":\"1585\",\"type\":\"StringFormatter\"},\"title\":\"fscore\",\"width\":80},\"id\":\"1461\",\"type\":\"TableColumn\"},{\"attributes\":{},\"id\":\"1644\",\"type\":\"StringEditor\"},{\"attributes\":{\"editor\":{\"id\":\"1582\",\"type\":\"StringEditor\"},\"field\":\"score\",\"formatter\":{\"id\":\"1581\",\"type\":\"StringFormatter\"},\"title\":\"score\",\"width\":80},\"id\":\"1459\",\"type\":\"TableColumn\"},{\"attributes\":{},\"id\":\"1642\",\"type\":\"Selection\"},{\"attributes\":{\"callback\":null,\"data\":{\"ascore\":{\"__ndarray__\":\"y6FFtvP94D+e76fGSzfJP/7UeOkmMdg/AiuHFtnOtz/P91PjpZvgP1TjpZvEINg/nMQgsHJowT/HSzeJQWDpP6RwPQrXo8A/z/dT46Wb4D/P91PjpZvEPylcj8L1KKw/2c73U+Olqz/ZzvdT46WrPyPb+X5qvMQ/AAAAAAAAAAAAAAAAAAAAAFg5tMh2vq8/aJHtfD81rj8AAAAAAAAAAFg5tMh2vq8/AiuHFtnO1z9zaJHtfD/FP5zEILByaME/K4cW2c73wz8AAAAAAAAAAAAAAAAAAAAAVOOlm8QgsD9oke18PzWuP5qZmZmZmak/F9nO91PjxT8AAAAAAAAAAAAAAAAAAAAA\",\"dtype\":\"float64\",\"shape\":[33]},\"dscore\":{\"__ndarray__\":\"AAAAAAAAAAAAAAAAAAAAAAAAAAAAAAAAAAAAAAAAAAAAAAAAAAAAAAAAAAAAAAAAAAAAAAAAAADy0k1iEFjpPwAAAAAAAAAAAAAAAAAAAAAAAAAAAAAAAAAAAAAAAAAAAAAAAAAAAAAAAAAAAAAAAAAAAAAAAAAAAAAAAAAAAAC28/3UeOnmPwAAAAAAAAAAAAAAAAAAAABoke18PzXiPwAAAAAAAAAAAAAAAAAAAAAAAAAAAAAAAAAAAAAAAAAAAAAAAAAAAAAAAAAAAAAAAAAAAAAAAAAAAAAAAAAAAAAAAAAAAAAAAAAAAAAAAAAAAAAAAAAAAAAAAAAAAAAAAAAAAAAAAAAA\",\"dtype\":\"float64\",\"shape\":[33]},\"escore\":{\"__ndarray__\":\"AAAAAAAA6D8zMzMzMzPDPwAAAAAAAAAAAAAAAAAAAACBlUOLbOe7PwAAAAAAAAAAAAAAAAAAAAAX2c73U+PpPwAAAAAAAAAAYOXQItv5vj+iRbbz/dToP0SLbOf7qcE/AAAAAAAAAAAAAAAAAAAAAAAAAAAAAAAAlkOLbOf76T8AAAAAAAAAAAAAAAAAAAAARIts5/upwT8AAAAAAAAAAJhuEoPAyuk/I9v5fmq87D/fT42XbhLDPwAAAAAAAAAAjZduEoPA5j+Nl24Sg8DmP4ts5/up8eY/AAAAAAAAAAAAAAAAAAAAAIts5/up8eY/ke18PzVeuj+4HoXrUbjmPwRWDi2ynec/\",\"dtype\":\"float64\",\"shape\":[33]},\"fscore\":[0,0,0,0,0,0,0,0,0,0,0,0,0,0,0,0,0,0,0,0,0,0,0,0,0,0,0,0,0,0,0,0,0],\"index\":[0,1,2,3,4,5,6,7,8,9,10,11,12,13,14,15,16,17,18,19,20,21,22,23,24,25,26,27,28,29,30,31,32],\"ncbiTaxonId\":[\"216595\",\"216595\",\"216595\",\"216595\",\"216595\",\"216595\",\"216595\",\"216595\",\"216595\",\"216595\",\"216595\",\"216595\",\"216595\",\"216595\",\"216595\",\"216595\",\"216595\",\"216595\",\"216595\",\"216595\",\"216595\",\"216595\",\"216595\",\"216595\",\"216595\",\"216595\",\"216595\",\"216595\",\"216595\",\"216595\",\"216595\",\"216595\",\"216595\"],\"nscore\":{\"__ndarray__\":\"w/UoXI/C6T956SYxCKzoP90kBoGVQ+s/eekmMQis6D/dJAaBlUPrP/p+arx0k+w/VOOlm8QgsD85tMh2vp+6P6jGSzeJQdg/SgwCK4cWyT8K16NwPQq3P5qZmZmZmbk/i2zn+6nxwj+iRbbz/dS4PycxCKwcWtw/AAAAAAAAAADZzvdT46WrP1TjpZvEILA/AAAAAAAAAAAAAAAAAAAAAAAAAAAAAAAAPzVeukkMwj8/NV66SQzCPwAAAAAAAAAACtejcD0Ktz/ZzvdT46WrPwAAAAAAAAAACKwcWmQ7rz8AAAAAAAAAAAAAAAAAAAAAAAAAAAAAAAAAAAAAAAAAAAAAAAAAAAAA\",\"dtype\":\"float64\",\"shape\":[33]},\"pscore\":{\"__ndarray__\":\"FK5H4XoU4j+BlUOLbOfLP30/NV66Scw/2/l+arx0wz8pXI/C9SjUPwAAAAAAAAAAarx0kxgE4j/LoUW28/3cP7Kd76fGS8c/SgwCK4cWyT89CtejcD3aP+XQItv5ftI/AAAAAAAAAABeukkMAivHP4ts5/up8dI/AAAAAAAAAAAAAAAAAAAAAAAAAAAAAAAAAAAAAAAAAAAAAAAAAAAAAGe4AZ8fRtA/Di2yne+nxj+28/3UeOnWP0a28/3UeNE/vp8aL90kxj8AAAAAAAAAABKDwMqhRcY/f2q8dJMY1D9oke18PzXeP1pkO99Pjdc/4XoUrkfhyj8AAAAAAAAAAAAAAAAAAAAA\",\"dtype\":\"float64\",\"shape\":[33]},\"score\":{\"__ndarray__\":\"16NwPQrX7z/n+6nx0k3uPwrXo3A9Cu8/RIts5/up7T8xCKwcWmTvP4lBYOXQIu8/sp3vp8ZL6z9WDi2yne/vP7pJDAIrh+o/001iEFg57D9kO99PjZfuP5huEoPAyuU/nu+nxks34T/sUbgehevZP4GVQ4ts5+s/hxbZzvdT6z+HFtnO91PrP6jGSzeJQeQ/Rrbz/dR44T9cj8L1KFzjP3sUrkfheuw/tMh2vp8a7z97FK5H4XrkP9V46SYxCOg/ZDvfT42X6j+q8dJNYhDoP0w3iUFg5ew/XrpJDAIr3z9vEoPAyqHpP90kBoGVQ+s//tR46SYx6D97FK5H4XroPwaBlUOLbOs/\",\"dtype\":\"float64\",\"shape\":[33]},\"stringId_A\":[\"PFLU_0002\",\"PFLU_0003\",\"PFLU_0003\",\"PFLU_0004\",\"PFLU_0004\",\"PFLU_0004\",\"PFLU_0079\",\"PFLU_0079\",\"PFLU_0079\",\"PFLU_0079\",\"PFLU_0537\",\"PFLU_0537\",\"PFLU_0537\",\"PFLU_0537\",\"PFLU_0537\",\"PFLU_0933\",\"PFLU_1289\",\"PFLU_1289\",\"PFLU_1289\",\"PFLU_1289\",\"PFLU_4496\",\"PFLU_4496\",\"PFLU_4496\",\"PFLU_4496\",\"PFLU_4496\",\"PFLU_4496\",\"PFLU_5524\",\"PFLU_5524\",\"PFLU_5524\",\"PFLU_5524\",\"PFLU_5524\",\"PFLU_5524\",\"PFLU_6002\"],\"stringId_B\":[\"PFLU_0001\",\"PFLU_0001\",\"PFLU_0002\",\"PFLU_0001\",\"PFLU_0002\",\"PFLU_0003\",\"PFLU_0001\",\"PFLU_0002\",\"PFLU_0003\",\"PFLU_0004\",\"PFLU_0001\",\"PFLU_0002\",\"PFLU_0003\",\"PFLU_0004\",\"PFLU_0079\",\"PFLU_0001\",\"PFLU_0001\",\"PFLU_0004\",\"PFLU_0079\",\"PFLU_0537\",\"PFLU_0001\",\"PFLU_0002\",\"PFLU_0003\",\"PFLU_0079\",\"PFLU_0537\",\"PFLU_0933\",\"PFLU_0001\",\"PFLU_0002\",\"PFLU_0004\",\"PFLU_0537\",\"PFLU_1289\",\"PFLU_4496\",\"PFLU_0001\"],\"tscore\":{\"__ndarray__\":\"UrgehetR5D9SuB6F61HkP1K4HoXrUeQ/UrgehetR5D9SuB6F61HkP1K4HoXrUeQ/JzEIrBxa5D9KDAIrhxblP0oMAiuHFuU/JzEIrBxa5D9SuB6F61HkP7bz/dR46d4/EoPAyqFF3j+q8dJNYhDQP0oMAiuHFuU/UI2XbhKD0D9/arx0kxjgP4PAyqFFtuM/tMh2vp8a3z8IrBxaZDu/P5TeN772zM4/ZDvfT42X3j8lBoGVQ4vMPycxCKwcWuQ/JQaBlUOLzD8bL90kBoHFP6wcWmQ73+M/qvHSTWIQ0D+oxks3iUHkP8HKoUW2880/UrgehetR5D8lBoGVQ4vMP2Q730+Nl94/\",\"dtype\":\"float64\",\"shape\":[33]}},\"selected\":{\"id\":\"1598\",\"type\":\"Selection\"},\"selection_policy\":{\"id\":\"1597\",\"type\":\"UnionRenderers\"}},\"id\":\"1455\",\"type\":\"ColumnDataSource\"},{\"attributes\":{},\"id\":\"1652\",\"type\":\"StringEditor\"},{\"attributes\":{},\"id\":\"1654\",\"type\":\"StringEditor\"},{\"attributes\":{},\"id\":\"1653\",\"type\":\"StringFormatter\"},{\"attributes\":{},\"id\":\"1649\",\"type\":\"StringFormatter\"},{\"attributes\":{\"editor\":{\"id\":\"1580\",\"type\":\"StringEditor\"},\"field\":\"ncbiTaxonId\",\"formatter\":{\"id\":\"1579\",\"type\":\"StringFormatter\"},\"title\":\"ncbiTaxonId\",\"width\":80},\"id\":\"1458\",\"type\":\"TableColumn\"},{\"attributes\":{},\"id\":\"1646\",\"type\":\"StringEditor\"},{\"attributes\":{},\"id\":\"1655\",\"type\":\"UnionRenderers\"},{\"attributes\":{},\"id\":\"1638\",\"type\":\"StringEditor\"},{\"attributes\":{},\"id\":\"1645\",\"type\":\"StringFormatter\"},{\"attributes\":{},\"id\":\"1648\",\"type\":\"StringEditor\"},{\"attributes\":{},\"id\":\"1643\",\"type\":\"StringFormatter\"},{\"attributes\":{},\"id\":\"1647\",\"type\":\"StringFormatter\"},{\"attributes\":{},\"id\":\"1641\",\"type\":\"UnionRenderers\"},{\"attributes\":{},\"id\":\"1640\",\"type\":\"StringEditor\"},{\"attributes\":{},\"id\":\"1650\",\"type\":\"StringEditor\"},{\"attributes\":{},\"id\":\"1593\",\"type\":\"StringFormatter\"},{\"attributes\":{},\"id\":\"1595\",\"type\":\"StringFormatter\"},{\"attributes\":{\"source\":{\"id\":\"1470\",\"type\":\"ColumnDataSource\"}},\"id\":\"1483\",\"type\":\"CDSView\"},{\"attributes\":{},\"id\":\"1630\",\"type\":\"StringEditor\"},{\"attributes\":{\"editor\":{\"id\":\"1618\",\"type\":\"StringEditor\"},\"field\":\"dscore\",\"formatter\":{\"id\":\"1617\",\"type\":\"StringFormatter\"},\"title\":\"dscore\",\"width\":80},\"id\":\"1480\",\"type\":\"TableColumn\"},{\"attributes\":{},\"id\":\"1629\",\"type\":\"StringFormatter\"},{\"attributes\":{\"editor\":{\"id\":\"1620\",\"type\":\"StringEditor\"},\"field\":\"tscore\",\"formatter\":{\"id\":\"1619\",\"type\":\"StringFormatter\"},\"title\":\"tscore\",\"width\":80},\"id\":\"1481\",\"type\":\"TableColumn\"},{\"attributes\":{},\"id\":\"1594\",\"type\":\"StringEditor\"},{\"attributes\":{},\"id\":\"1628\",\"type\":\"StringEditor\"},{\"attributes\":{},\"id\":\"1592\",\"type\":\"StringEditor\"},{\"attributes\":{},\"id\":\"1627\",\"type\":\"StringFormatter\"},{\"attributes\":{\"editor\":{\"id\":\"1634\",\"type\":\"StringEditor\"},\"field\":\"inputGenes\",\"formatter\":{\"id\":\"1633\",\"type\":\"StringFormatter\"},\"title\":\"inputGenes\",\"width\":80},\"id\":\"1491\",\"type\":\"TableColumn\"},{\"attributes\":{\"callback\":null,\"data\":{\"category\":{\"__ndarray__\":\"\",\"dtype\":\"float64\",\"shape\":[0]},\"description\":{\"__ndarray__\":\"\",\"dtype\":\"float64\",\"shape\":[0]},\"fdr\":{\"__ndarray__\":\"\",\"dtype\":\"float64\",\"shape\":[0]},\"index\":[],\"inputGenes\":{\"__ndarray__\":\"\",\"dtype\":\"float64\",\"shape\":[0]},\"ncbiTaxonId\":{\"__ndarray__\":\"\",\"dtype\":\"float64\",\"shape\":[0]},\"number_of_genes\":{\"__ndarray__\":\"\",\"dtype\":\"float64\",\"shape\":[0]},\"number_of_genes_in_background\":{\"__ndarray__\":\"\",\"dtype\":\"float64\",\"shape\":[0]},\"p_value\":{\"__ndarray__\":\"\",\"dtype\":\"float64\",\"shape\":[0]},\"term\":{\"__ndarray__\":\"\",\"dtype\":\"float64\",\"shape\":[0]}},\"selected\":{\"id\":\"1642\",\"type\":\"Selection\"},\"selection_policy\":{\"id\":\"1641\",\"type\":\"UnionRenderers\"}},\"id\":\"1485\",\"type\":\"ColumnDataSource\"},{\"attributes\":{},\"id\":\"1590\",\"type\":\"StringEditor\"},{\"attributes\":{},\"id\":\"1626\",\"type\":\"StringEditor\"},{\"attributes\":{\"editor\":{\"id\":\"1612\",\"type\":\"StringEditor\"},\"field\":\"pscore\",\"formatter\":{\"id\":\"1611\",\"type\":\"StringFormatter\"},\"title\":\"pscore\",\"width\":80},\"id\":\"1477\",\"type\":\"TableColumn\"},{\"attributes\":{},\"id\":\"1591\",\"type\":\"StringFormatter\"},{\"attributes\":{\"child\":{\"id\":\"1482\",\"type\":\"DataTable\"},\"title\":\"Interaction Partners\"},\"id\":\"1484\",\"type\":\"Panel\"},{\"attributes\":{},\"id\":\"1625\",\"type\":\"StringFormatter\"},{\"attributes\":{},\"id\":\"1586\",\"type\":\"StringEditor\"},{\"attributes\":{\"columns\":[{\"id\":\"1499\",\"type\":\"TableColumn\"},{\"id\":\"1500\",\"type\":\"TableColumn\"},{\"id\":\"1501\",\"type\":\"TableColumn\"},{\"id\":\"1502\",\"type\":\"TableColumn\"},{\"id\":\"1503\",\"type\":\"TableColumn\"},{\"id\":\"1504\",\"type\":\"TableColumn\"}],\"fit_columns\":false,\"source\":{\"id\":\"1498\",\"type\":\"ColumnDataSource\"},\"view\":{\"id\":\"1506\",\"type\":\"CDSView\"}},\"id\":\"1505\",\"type\":\"DataTable\"},{\"attributes\":{},\"id\":\"1621\",\"type\":\"UnionRenderers\"},{\"attributes\":{},\"id\":\"1585\",\"type\":\"StringFormatter\"},{\"attributes\":{},\"id\":\"1623\",\"type\":\"StringFormatter\"},{\"attributes\":{},\"id\":\"1578\",\"type\":\"StringEditor\"},{\"attributes\":{},\"id\":\"1624\",\"type\":\"StringEditor\"},{\"attributes\":{\"editor\":{\"id\":\"1630\",\"type\":\"StringEditor\"},\"field\":\"number_of_genes_in_background\",\"formatter\":{\"id\":\"1629\",\"type\":\"StringFormatter\"},\"title\":\"number_of_genes_in_background\",\"width\":80},\"id\":\"1489\",\"type\":\"TableColumn\"},{\"attributes\":{},\"id\":\"1584\",\"type\":\"StringEditor\"},{\"attributes\":{},\"id\":\"1588\",\"type\":\"StringEditor\"},{\"attributes\":{\"editor\":{\"id\":\"1632\",\"type\":\"StringEditor\"},\"field\":\"ncbiTaxonId\",\"formatter\":{\"id\":\"1631\",\"type\":\"StringFormatter\"},\"title\":\"ncbiTaxonId\",\"width\":80},\"id\":\"1490\",\"type\":\"TableColumn\"},{\"attributes\":{},\"id\":\"1579\",\"type\":\"StringFormatter\"},{\"attributes\":{},\"id\":\"1622\",\"type\":\"Selection\"},{\"attributes\":{},\"id\":\"1620\",\"type\":\"StringEditor\"},{\"attributes\":{},\"id\":\"1583\",\"type\":\"StringFormatter\"},{\"attributes\":{},\"id\":\"1610\",\"type\":\"StringEditor\"},{\"attributes\":{\"editor\":{\"id\":\"1638\",\"type\":\"StringEditor\"},\"field\":\"fdr\",\"formatter\":{\"id\":\"1637\",\"type\":\"StringFormatter\"},\"title\":\"fdr\",\"width\":80},\"id\":\"1493\",\"type\":\"TableColumn\"},{\"attributes\":{},\"id\":\"1582\",\"type\":\"StringEditor\"},{\"attributes\":{\"editor\":{\"id\":\"1628\",\"type\":\"StringEditor\"},\"field\":\"number_of_genes\",\"formatter\":{\"id\":\"1627\",\"type\":\"StringFormatter\"},\"title\":\"number_of_genes\",\"width\":80},\"id\":\"1488\",\"type\":\"TableColumn\"},{\"attributes\":{},\"id\":\"1581\",\"type\":\"StringFormatter\"},{\"attributes\":{},\"id\":\"1580\",\"type\":\"StringEditor\"},{\"attributes\":{},\"id\":\"1576\",\"type\":\"StringEditor\"},{\"attributes\":{},\"id\":\"1619\",\"type\":\"StringFormatter\"},{\"attributes\":{\"editor\":{\"id\":\"1636\",\"type\":\"StringEditor\"},\"field\":\"p_value\",\"formatter\":{\"id\":\"1635\",\"type\":\"StringFormatter\"},\"title\":\"p_value\",\"width\":80},\"id\":\"1492\",\"type\":\"TableColumn\"},{\"attributes\":{},\"id\":\"1618\",\"type\":\"StringEditor\"},{\"attributes\":{\"editor\":{\"id\":\"1640\",\"type\":\"StringEditor\"},\"field\":\"description\",\"formatter\":{\"id\":\"1639\",\"type\":\"StringFormatter\"},\"title\":\"description\",\"width\":80},\"id\":\"1494\",\"type\":\"TableColumn\"},{\"attributes\":{},\"id\":\"1615\",\"type\":\"StringFormatter\"},{\"attributes\":{},\"id\":\"1617\",\"type\":\"StringFormatter\"},{\"attributes\":{\"editor\":{\"id\":\"1648\",\"type\":\"StringEditor\"},\"field\":\"average_node_degree\",\"formatter\":{\"id\":\"1647\",\"type\":\"StringFormatter\"},\"title\":\"average_node_degree\",\"width\":80},\"id\":\"1501\",\"type\":\"TableColumn\"},{\"attributes\":{},\"id\":\"1616\",\"type\":\"StringEditor\"},{\"attributes\":{\"editor\":{\"id\":\"1644\",\"type\":\"StringEditor\"},\"field\":\"number_of_nodes\",\"formatter\":{\"id\":\"1643\",\"type\":\"StringFormatter\"},\"title\":\"number_of_nodes\",\"width\":80},\"id\":\"1499\",\"type\":\"TableColumn\"},{\"attributes\":{\"editor\":{\"id\":\"1650\",\"type\":\"StringEditor\"},\"field\":\"local_clustering_coefficient\",\"formatter\":{\"id\":\"1649\",\"type\":\"StringFormatter\"},\"title\":\"local_clustering_coefficient\",\"width\":80},\"id\":\"1502\",\"type\":\"TableColumn\"},{\"attributes\":{},\"id\":\"1614\",\"type\":\"StringEditor\"},{\"attributes\":{\"callback\":null,\"tabs\":[{\"id\":\"1469\",\"type\":\"Panel\"},{\"id\":\"1484\",\"type\":\"Panel\"},{\"id\":\"1497\",\"type\":\"Panel\"},{\"id\":\"1507\",\"type\":\"Panel\"}]},\"id\":\"1508\",\"type\":\"Tabs\"},{\"attributes\":{},\"id\":\"1612\",\"type\":\"StringEditor\"},{\"attributes\":{},\"id\":\"1637\",\"type\":\"StringFormatter\"},{\"attributes\":{\"editor\":{\"id\":\"1626\",\"type\":\"StringEditor\"},\"field\":\"term\",\"formatter\":{\"id\":\"1625\",\"type\":\"StringFormatter\"},\"title\":\"term\",\"width\":80},\"id\":\"1487\",\"type\":\"TableColumn\"},{\"attributes\":{},\"id\":\"1613\",\"type\":\"StringFormatter\"},{\"attributes\":{},\"id\":\"1596\",\"type\":\"StringEditor\"},{\"attributes\":{\"editor\":{\"id\":\"1654\",\"type\":\"StringEditor\"},\"field\":\"p_value\",\"formatter\":{\"id\":\"1653\",\"type\":\"StringFormatter\"},\"title\":\"p_value\",\"width\":80},\"id\":\"1504\",\"type\":\"TableColumn\"},{\"attributes\":{},\"id\":\"1611\",\"type\":\"StringFormatter\"},{\"attributes\":{\"editor\":{\"id\":\"1652\",\"type\":\"StringEditor\"},\"field\":\"expected_number_of_edges\",\"formatter\":{\"id\":\"1651\",\"type\":\"StringFormatter\"},\"title\":\"expected_number_of_edges\",\"width\":80},\"id\":\"1503\",\"type\":\"TableColumn\"},{\"attributes\":{},\"id\":\"1600\",\"type\":\"StringEditor\"},{\"attributes\":{\"callback\":null,\"data\":{\"average_node_degree\":[0],\"expected_number_of_edges\":[0],\"index\":[0],\"local_clustering_coefficient\":[0],\"number_of_edges\":[0],\"number_of_nodes\":[1],\"p_value\":[\"1\"]},\"selected\":{\"id\":\"1656\",\"type\":\"Selection\"},\"selection_policy\":{\"id\":\"1655\",\"type\":\"UnionRenderers\"}},\"id\":\"1498\",\"type\":\"ColumnDataSource\"},{\"attributes\":{},\"id\":\"1575\",\"type\":\"StringFormatter\"},{\"attributes\":{},\"id\":\"1587\",\"type\":\"StringFormatter\"},{\"attributes\":{},\"id\":\"1609\",\"type\":\"StringFormatter\"},{\"attributes\":{\"source\":{\"id\":\"1485\",\"type\":\"ColumnDataSource\"}},\"id\":\"1496\",\"type\":\"CDSView\"},{\"attributes\":{},\"id\":\"1607\",\"type\":\"StringFormatter\"},{\"attributes\":{},\"id\":\"1608\",\"type\":\"StringEditor\"},{\"attributes\":{\"child\":{\"id\":\"1495\",\"type\":\"DataTable\"},\"title\":\"Functional Enrichments\"},\"id\":\"1497\",\"type\":\"Panel\"},{\"attributes\":{},\"id\":\"1597\",\"type\":\"UnionRenderers\"},{\"attributes\":{},\"id\":\"1635\",\"type\":\"StringFormatter\"},{\"attributes\":{},\"id\":\"1606\",\"type\":\"StringEditor\"},{\"attributes\":{\"editor\":{\"id\":\"1646\",\"type\":\"StringEditor\"},\"field\":\"number_of_edges\",\"formatter\":{\"id\":\"1645\",\"type\":\"StringFormatter\"},\"title\":\"number_of_edges\",\"width\":80},\"id\":\"1500\",\"type\":\"TableColumn\"},{\"attributes\":{},\"id\":\"1603\",\"type\":\"StringFormatter\"},{\"attributes\":{},\"id\":\"1605\",\"type\":\"StringFormatter\"},{\"attributes\":{},\"id\":\"1602\",\"type\":\"StringEditor\"},{\"attributes\":{\"source\":{\"id\":\"1498\",\"type\":\"ColumnDataSource\"}},\"id\":\"1506\",\"type\":\"CDSView\"},{\"attributes\":{},\"id\":\"1604\",\"type\":\"StringEditor\"},{\"attributes\":{},\"id\":\"1632\",\"type\":\"StringEditor\"},{\"attributes\":{},\"id\":\"1634\",\"type\":\"StringEditor\"},{\"attributes\":{\"child\":{\"id\":\"1505\",\"type\":\"DataTable\"},\"title\":\"Interaction Enrichments\"},\"id\":\"1507\",\"type\":\"Panel\"},{\"attributes\":{},\"id\":\"1577\",\"type\":\"StringFormatter\"},{\"attributes\":{},\"id\":\"1598\",\"type\":\"Selection\"},{\"attributes\":{},\"id\":\"1636\",\"type\":\"StringEditor\"},{\"attributes\":{},\"id\":\"1601\",\"type\":\"StringFormatter\"},{\"attributes\":{},\"id\":\"1631\",\"type\":\"StringFormatter\"},{\"attributes\":{},\"id\":\"1633\",\"type\":\"StringFormatter\"},{\"attributes\":{\"editor\":{\"id\":\"1616\",\"type\":\"StringEditor\"},\"field\":\"escore\",\"formatter\":{\"id\":\"1615\",\"type\":\"StringFormatter\"},\"title\":\"escore\",\"width\":80},\"id\":\"1479\",\"type\":\"TableColumn\"},{\"attributes\":{},\"id\":\"1599\",\"type\":\"StringFormatter\"},{\"attributes\":{\"editor\":{\"id\":\"1614\",\"type\":\"StringEditor\"},\"field\":\"ascore\",\"formatter\":{\"id\":\"1613\",\"type\":\"StringFormatter\"},\"title\":\"ascore\",\"width\":80},\"id\":\"1478\",\"type\":\"TableColumn\"}],\"root_ids\":[\"1509\"]},\"title\":\"Bokeh Application\",\"version\":\"1.1.0\"}};\n",
       "  var render_items = [{\"docid\":\"0e8b352b-fad5-45c0-85c0-7c627e0071f2\",\"roots\":{\"1509\":\"e47c47ff-5772-4280-b60e-563901e43c94\"}}];\n",
       "  root.Bokeh.embed.embed_items_notebook(docs_json, render_items);\n",
       "\n",
       "  }\n",
       "  if (root.Bokeh !== undefined) {\n",
       "    embed_document(root);\n",
       "  } else {\n",
       "    var attempts = 0;\n",
       "    var timer = setInterval(function(root) {\n",
       "      if (root.Bokeh !== undefined) {\n",
       "        embed_document(root);\n",
       "        clearInterval(timer);\n",
       "      }\n",
       "      attempts++;\n",
       "      if (attempts > 100) {\n",
       "        console.log(\"Bokeh: ERROR: Unable to run BokehJS code because BokehJS library is missing\");\n",
       "        clearInterval(timer);\n",
       "      }\n",
       "    }, 10, root)\n",
       "  }\n",
       "})(window);"
      ],
      "application/vnd.bokehjs_exec.v0+json": ""
     },
     "metadata": {
      "application/vnd.bokehjs_exec.v0+json": {
       "id": "1509"
      }
     },
     "output_type": "display_data"
    }
   ],
   "source": [
    "run_stdb(locus_tag)"
   ]
  },
  {
   "cell_type": "markdown",
   "metadata": {},
   "source": [
    "## OpenKnowledgeMaps\n",
    "Reference: OpenKnowldegeMaps.org - Overview of research on sbw25. Retrieved from https://openknowledgemaps.org/map/2b4a41a5661a99a129d60b6583444e67. "
   ]
  },
  {
   "cell_type": "code",
   "execution_count": 11,
   "metadata": {},
   "outputs": [
    {
     "data": {
      "text/html": [
       "\n",
       "        <iframe\n",
       "            width=\"1000\"\n",
       "            height=\"1000\"\n",
       "            src=\"https://openknowledgemaps.org/map/4aafb7d70516de0f56190d374bf398c8&embed=true\"\n",
       "            frameborder=\"0\"\n",
       "            allowfullscreen\n",
       "        ></iframe>\n",
       "        "
      ],
      "text/plain": [
       "<IPython.lib.display.IFrame at 0x7f24b4970ba8>"
      ]
     },
     "metadata": {},
     "output_type": "display_data"
    }
   ],
   "source": [
    "sbw25_okm()"
   ]
  },
  {
   "cell_type": "code",
   "execution_count": 12,
   "metadata": {
    "scrolled": false
   },
   "outputs": [
    {
     "data": {
      "text/html": [
       "\n",
       "        <iframe\n",
       "            width=\"900\"\n",
       "            height=\"800\"\n",
       "            src=\"https://openknowledgemaps.org/map/55bbb7a37f69705e028c0b32474c2c4e&embed=true\"\n",
       "            frameborder=\"0\"\n",
       "            allowfullscreen\n",
       "        ></iframe>\n",
       "        "
      ],
      "text/plain": [
       "<IPython.lib.display.IFrame at 0x7f24b48f8898>"
      ]
     },
     "metadata": {},
     "output_type": "display_data"
    }
   ],
   "source": [
    "feature_okm(locus_tag)"
   ]
  },
  {
   "cell_type": "code",
   "execution_count": null,
   "metadata": {},
   "outputs": [],
   "source": []
  }
 ],
 "metadata": {
  "hide_input": false,
  "kernelspec": {
   "display_name": "Python 3",
   "language": "python",
   "name": "python3"
  },
  "language_info": {
   "codemirror_mode": {
    "name": "ipython",
    "version": 3
   },
   "file_extension": ".py",
   "mimetype": "text/x-python",
   "name": "python",
   "nbconvert_exporter": "python",
   "pygments_lexer": "ipython3",
   "version": "3.7.2"
  }
 },
 "nbformat": 4,
 "nbformat_minor": 2
}
