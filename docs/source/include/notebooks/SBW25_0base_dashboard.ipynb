{
 "cells": [
  {
   "cell_type": "code",
   "execution_count": null,
   "metadata": {
    "nbsphinx": "hidden"
   },
   "outputs": [],
   "source": [
    "import ipywidgets as widgets\n",
    "import pandas\n",
    "\n",
    "from bokeh.io import output_notebook, show\n",
    "from bokeh.plotting import figure\n",
    "\n",
    "from bokeh.models import CustomJS\n",
    "from bokeh.models.sources import ColumnDataSource\n",
    "from bokeh.layouts import column, row\n",
    "from bokeh.models.widgets import DataTable, TableColumn, Button, Panel, Tabs, HTMLTemplateFormatter\n",
    "\n",
    "import re\n",
    "\n",
    "from IPython.display import IFrame, clear_output, Image\n",
    "from GenDBScraper.PseudomonasDotComScraper import PseudomonasDotComScraper, pdc_query\n",
    "\n",
    "from GenDBScraper.StringDBScraper import StringDBScraper, stringdb_query"
   ]
  },
  {
   "cell_type": "code",
   "execution_count": null,
   "metadata": {},
   "outputs": [],
   "source": [
    "output_notebook()"
   ]
  },
  {
   "cell_type": "code",
   "execution_count": null,
   "metadata": {},
   "outputs": [],
   "source": [
    "def run_pdc(locus_tag):\n",
    "\n",
    "    pdc = PseudomonasDotComScraper(query=pdc_query(strain='sbw25', feature=locus_tag))\n",
    "    query_string = \"__\".join([pdc.query[0].strain, pdc.query[0].feature])\n",
    "    pdc.connect()\n",
    "    pdc.run_query()\n",
    "    \n",
    "    clear_output(wait=True)\n",
    "    \n",
    "    results = pdc.results[query_string]\n",
    "    panels=list(results.keys())\n",
    "\n",
    "    children = []\n",
    "    for i,panel in enumerate(panels):\n",
    "        #print(panel)\n",
    "        df = results[panel]\n",
    "        if df is None:\n",
    "            continue\n",
    "        if isinstance(df, pandas.DataFrame):    \n",
    "            if df.empty:\n",
    "                continue\n",
    "            df = df.rename(str, axis='columns')\n",
    "            columns = [TableColumn(field=c, title=c) for c in list(df.columns)]\n",
    "            for col in columns:\n",
    "                if col.title == 'url':\n",
    "                    col.formatter=HTMLTemplateFormatter(template='<a href=\"<%= url %>\"><%= value %></a>')\n",
    "        elif isinstance(df, dict):\n",
    "            continue\n",
    "    #        columns = [TableColumn(field=c, title=c) for c in df.keys()]\n",
    "        elif isinstance(df, list):\n",
    "            continue\n",
    "    #        columns=[TableColumn(field=c, title=c) for c in df]\n",
    "\n",
    "        cds = ColumnDataSource(data=df)\n",
    "        data_table = DataTable(source=cds, columns=columns)\n",
    "        children.append(Panel(child=data_table, title=panel))\n",
    "\n",
    "    tabs = Tabs(tabs=children)\n",
    "\n",
    "    show(tabs)"
   ]
  },
  {
   "cell_type": "code",
   "execution_count": null,
   "metadata": {},
   "outputs": [],
   "source": [
    "def sbw25_okm():\n",
    "    clear_output()\n",
    "    frame = IFrame(src=\"https://openknowledgemaps.org/map/4aafb7d70516de0f56190d374bf398c8&embed=true\", width=1000, height=1000)\n",
    "    display(frame)\n",
    "    "
   ]
  },
  {
   "cell_type": "code",
   "execution_count": null,
   "metadata": {},
   "outputs": [],
   "source": [
    "\n",
    "def feature_okm(locus_tag):\n",
    "    okms = pandas.read_json(\"pflu_okm_urls_20190424.json\", typ='series', orient='records')\n",
    "\n",
    "    if locus_tag.upper() in okms.keys():\n",
    "        frame = IFrame(okms[locus_tag.upper()]+\"&embed=true\", width=900, height=800)\n",
    "\n",
    "    else:\n",
    "        frame = widgets.Label(\"No maps found for {}\".format(locus_tag))\n",
    "\n",
    "    clear_output(wait=True)    \n",
    "    display(frame)"
   ]
  },
  {
   "cell_type": "code",
   "execution_count": null,
   "metadata": {
    "nbsphinx": "hidden"
   },
   "outputs": [],
   "source": [
    "def run_stdb(locus_tag):\n",
    "    gene_sub_pattern = re.compile(r'([a-z](?=[0-9]))')\n",
    "    gene=gene_sub_pattern.sub(r'\\1_', locus_tag)\n",
    "    \n",
    "    stdb = StringDBScraper(query=stringdb_query(taxonId=216595, features=[gene]))\n",
    "\n",
    "    stdb.connect()\n",
    "\n",
    "    stdb.update_features()\n",
    "\n",
    "    stdb_results = dict()\n",
    "\n",
    "    stdb_results['Network Image'] = stdb.network_image()\n",
    "    stdb_results['Network Interactions'] = stdb.network_interactions()\n",
    "    stdb_results['Interaction Partners'] = stdb.interaction_partners(required_score=300)\n",
    "    stdb_results['Functional Enrichments'] = stdb.functional_enrichments()\n",
    "    stdb_results['Interaction Enrichments'] = stdb.interaction_enrichments()\n",
    "  \n",
    "    clear_output(wait=True)\n",
    "    with open(stdb_results['Network Image'], 'rb') as fp:\n",
    "        image_widget = widgets.Image(value=fp.read(), format='svg')\n",
    "\n",
    "    tabs = []\n",
    "    for key in stdb_results.keys():\n",
    "        if key == 'Network Image':\n",
    "            continue\n",
    "        result = stdb_results[key]\n",
    "        cds = ColumnDataSource(result)\n",
    "        data_table = DataTable(source=cds,\n",
    "                               columns=[TableColumn(field=c, title=c, width=80) for c in list(result.columns)],\n",
    "                               fit_columns=False\n",
    "                              )\n",
    "        tabs.append(Panel(child=data_table, title=key))\n",
    "        \n",
    "    stdb_tabs = Tabs(tabs=tabs)\n",
    "    display(image_widget)\n",
    "    show(column(stdb_tabs, width=500))"
   ]
  },
  {
   "cell_type": "markdown",
   "metadata": {},
   "source": [
    "# The pseudomonas-fluorescens SBW25 knowledge base "
   ]
  },
  {
   "cell_type": "code",
   "execution_count": null,
   "metadata": {},
   "outputs": [],
   "source": [
    "lt = r'pflu0001'\n",
    "locus_tag = lt.lower()"
   ]
  },
  {
   "cell_type": "markdown",
   "metadata": {
    "variables": {
     "lt.upper()": "PFLU0001"
    }
   },
   "source": [
    "# Displaying data for locus tag {{lt.upper()}}"
   ]
  },
  {
   "cell_type": "markdown",
   "metadata": {},
   "source": [
    "## Data from pseudomonas.com "
   ]
  },
  {
   "cell_type": "code",
   "execution_count": null,
   "metadata": {},
   "outputs": [],
   "source": [
    "run_pdc(locus_tag)"
   ]
  },
  {
   "cell_type": "markdown",
   "metadata": {},
   "source": [
    "## Data from string-db.org "
   ]
  },
  {
   "cell_type": "code",
   "execution_count": null,
   "metadata": {
    "scrolled": false
   },
   "outputs": [],
   "source": [
    "run_stdb(locus_tag)"
   ]
  },
  {
   "cell_type": "markdown",
   "metadata": {},
   "source": [
    "## OpenKnowledgeMaps\n",
    "Reference: OpenKnowldegeMaps.org - Overview of research on sbw25. Retrieved from https://openknowledgemaps.org/map/2b4a41a5661a99a129d60b6583444e67. "
   ]
  },
  {
   "cell_type": "code",
   "execution_count": null,
   "metadata": {},
   "outputs": [],
   "source": [
    "sbw25_okm()"
   ]
  },
  {
   "cell_type": "code",
   "execution_count": null,
   "metadata": {
    "scrolled": false
   },
   "outputs": [],
   "source": [
    "feature_okm(locus_tag)"
   ]
  },
  {
   "cell_type": "code",
   "execution_count": null,
   "metadata": {},
   "outputs": [],
   "source": []
  }
 ],
 "metadata": {
  "hide_input": false,
  "kernelspec": {
   "display_name": "Python 3",
   "language": "python",
   "name": "python3"
  },
  "language_info": {
   "codemirror_mode": {
    "name": "ipython",
    "version": 3
   },
   "file_extension": ".py",
   "mimetype": "text/x-python",
   "name": "python",
   "nbconvert_exporter": "python",
   "pygments_lexer": "ipython3",
   "version": "3.7.2"
  }
 },
 "nbformat": 4,
 "nbformat_minor": 2
}
