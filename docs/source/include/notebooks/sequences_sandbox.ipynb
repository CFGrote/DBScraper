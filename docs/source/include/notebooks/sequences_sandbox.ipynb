{
 "cells": [
  {
   "cell_type": "code",
   "execution_count": 12,
   "metadata": {},
   "outputs": [
    {
     "name": "stdout",
     "output_type": "stream",
     "text": [
      ">putative signaling-related membrane protein\n",
      "MKQKRTLGTPRLLGIVWPFIAVVLFQALLGCVSLYVLSAVRGYVAGESLWSKGQKDAIYYLTLYADNRDETTYLKYQQAIAVPQGGHELRIALDRSTPDAARLGILKGGNHPDDVSSLIWLYLNFRHFSYLEKAIELWTVGDGYLVQLDELAREMHSSITRDQVSANDVQQWKAHIIAINEGVTPAAKAFSDALGEGMILGLLLITNLATALGLIVLALLRTHKLLAQRHAFADALQQEKERAQITLESIGDGVITTDVDGAISYMNPAAEALTHWNSAQAQGLPLAALFNLLDDQPDGFTLIEHIVKGQLSGGSEHSKTIQRLDGSTVSVTLVGAPIRSGGKVTGAVLVLHDMTQERQYIANLSWQATHDALTGLANRREFEFRLEQVLHPAQYGGRHALMFLDLDQFKLVNDTCGHAAGDELLRHICALLQSDLREGDTLARLGGDEFGILLENCPAAVAEKIAESLRHTVQSLHFVWKGRPFMTTVSIVHLGHTPTTLETSLRAADMACYMAKEKGRNRVQVYHADDSELSLRFGEMAWVQRLHMALEENRFCLYAQEISPLGQTDGGDGHIEILLRLHDEAGRIIDSFIPAAERYGLMTSLDRWVVENVFKIIARCLHERPGRPMAMCAINLSGITIGDDDFLGFLREKFHTYAIPPGMICFEITETSAIANLGSAIRFINELLGCQFSLDDFCAGMSSFAYLKHLPVDFLKIDGSFVKDMLDDPINRAMVEVINHIGHVMGKRTIAEFVETPQIEQALLEIGVDYAQGYLIERPQLFTFDQCRPVRPQPLLFKAPGTFR\n"
     ]
    }
   ],
   "source": [
    "print(results[\"Sequences\"][1][4])"
   ]
  },
  {
   "cell_type": "code",
   "execution_count": 13,
   "metadata": {},
   "outputs": [],
   "source": [
    "stream = StringIO(results[\"Sequences\"][1][4])"
   ]
  },
  {
   "cell_type": "code",
   "execution_count": 14,
   "metadata": {},
   "outputs": [],
   "source": [
    "gene = SeqIO.read(stream, 'fasta')"
   ]
  },
  {
   "cell_type": "code",
   "execution_count": 15,
   "metadata": {},
   "outputs": [
    {
     "data": {
      "text/plain": [
       "SeqRecord(seq=Seq('MKQKRTLGTPRLLGIVWPFIAVVLFQALLGCVSLYVLSAVRGYVAGESLWSKGQ...TFR', SingleLetterAlphabet()), id='putative', name='putative', description='putative signaling-related membrane protein', dbxrefs=[])"
      ]
     },
     "execution_count": 15,
     "metadata": {},
     "output_type": "execute_result"
    }
   ],
   "source": [
    "gene"
   ]
  },
  {
   "cell_type": "code",
   "execution_count": null,
   "metadata": {},
   "outputs": [],
   "source": [
    ">putative signaling-related membrane protein\n",
    "MKQKRTLGTPRLLGIVWPFIAVVLFQALLGCVSLYVLSAVRGYVAGESLWSKGQKDAIYYLTLYADNRDETTYLKYQQAIAVPQGGHELRIALDRSTPDAARLGILKGGNHPDDVSSLIWLYLNFRHFSYLEKAIELWTVGDGYLVQLDELAREMHSSITRDQVSANDVQQWKAHIIAINEGVTPAAKAFSDALGEGMILGLLLITNLATALGLIVLALLRTHKLLAQRHAFADALQQEKERAQITLESIGDGVITTDVDGAISYMNPAAEALTHWNSAQAQGLPLAALFNLLDDQPDGFTLIEHIVKGQLSGGSEHSKTIQRLDGSTVSVTLVGAPIRSGGKVTGAVLVLHDMTQERQYIANLSWQATHDALTGLANRREFEFRLEQVLHPAQYGGRHALMFLDLDQFKLVNDTCGHAAGDELLRHICALLQSDLREGDTLARLGGDEFGILLENCPAAVAEKIAESLRHTVQSLHFVWKGRPFMTTVSIVHLGHTPTTLETSLRAADMACYMAKEKGRNRVQVYHADDSELSLRFGEMAWVQRLHMALEENRFCLYAQEISPLGQTDGGDGHIEILLRLHDEAGRIIDSFIPAAERYGLMTSLDRWVVENVFKIIARCLHERPGRPMAMCAINLSGITIGDDDFLGFLREKFHTYAIPPGMICFEITETSAIANLGSAIRFINELLGCQFSLDDFCAGMSSFAYLKHLPVDFLKIDGSFVKDMLDDPINRAMVEVINHIGHVMGKRTIAEFVETPQIEQALLEIGVDYAQGYLIERPQLFTFDQCRPVRPQPLLFKAPGTFR"
   ]
  },
  {
   "cell_type": "code",
   "execution_count": 58,
   "metadata": {},
   "outputs": [],
   "source": [
    "sequences = results[\"Sequences\"]"
   ]
  },
  {
   "cell_type": "code",
   "execution_count": 91,
   "metadata": {},
   "outputs": [
    {
     "data": {
      "text/plain": [
       "'GGCCGCGAGCGCAGTGACCAAGCCTGCTGGCAGGCACTGGAAATTGCGCAGTTGGAGGCTACCGTCAAGGCATTGCCGATGGGCCTGGATAGTGTGGTGG GGCGTTCCGGGGTGCGGTTTTCCGGCGGGCAGCGTCAGCGCCTGGCGATTGCGCGCATGGTGTTGGCTGAGCCGAAAGTGGTGATCCTCGACGAAGCGAC TTCCGCCCTGGACGCCGCCACCGAGTACAACCTGCACCAGGCGCTCGCGCGCTTCCTCAGCGGGCGTACTACACTGATTATTGCCCACCGCCTGTCGGCG GTTAAGCAGGCCGATCGAGTATTAGTCTTCGACGGCGGTCACATTGCTGAAGATGGTGATCATCAACAGTTGATTGCCGACGGCGGCCTGTACGCCAAAC TCTATGGACACCTGCAACAAGTGCGTTGATTTAGCCTAGGCTGAGCTATCAGAAGCGGATTTTCGCGTGCGTATCCAGCAGTGCATGTGCAAGGGACTTC BLASTN Search'"
      ]
     },
     "execution_count": 91,
     "metadata": {},
     "output_type": "execute_result"
    }
   ],
   "source": [
    "up = sequences.loc[sequences[0]==\"DNA Sequence Upstream of Gene\",1].values[0]\n",
    "\n",
    "up"
   ]
  },
  {
   "cell_type": "code",
   "execution_count": null,
   "metadata": {},
   "outputs": [],
   "source": [
    "pattern = re.compile(\"BLAST.+$\")\n",
    "\n",
    "pattern.findall(up)"
   ]
  },
  {
   "cell_type": "code",
   "execution_count": null,
   "metadata": {},
   "outputs": [],
   "source": [
    "seq = pattern.sub(\"\",up)\n",
    "\n",
    "seq"
   ]
  },
  {
   "cell_type": "code",
   "execution_count": 78,
   "metadata": {},
   "outputs": [],
   "source": [
    "pattern = re.compile(\"[A-Z]\\s[A-Z]\")\n",
    "\n",
    "pattern.sub(\"\",seq)"
   ]
  },
  {
   "cell_type": "code",
   "execution_count": 93,
   "metadata": {},
   "outputs": [
    {
     "data": {
      "text/plain": [
       "'>putative signaling-related membrane proteinMKQKRTLGTPRLLGIVWPFIAVVLFQALLGCVSLYVLSAVRGYVAGESLWSKGQKDAIYYLTLYADNRDETTYLKYQQAIAVPQGGHELRIALDRSTPDL SAARLGILKGGNHPDDVSSLIWLYLNFRHFSYLEKAIELWTVGDGYLVQLDELAREMHSSITRDQVSANDVQQWKAHIIAINEGVTPAAKAFSDALGEGS RMILGLLLITNLATALGLIVLALLRTHKLLAQRHAFADALQQEKERAQITLESIGDGVITTDVDGAISYMNPAAEALTHWNSAQAQGLPLAALFNLLDDN AQPDGFTLIEHIVKGQLSGGSEHSKTIQRLDGSTVSVTLVGAPIRSGGKVTGAVLVLHDMTQERQYIANLSWQATHDALTGLANRREFEFRLEQVLHPAA QQYGGRHALMFLDLDQFKLVNDTCGHAAGDELLRHICALLQSDLREGDTLARLGGDEFGILLENCPAAVAEKIAESLRHTVQSLHFVWKGRPFMTTVSIG LVHLGHTPTTLETSLRAADMACYMAKEKGRNRVQVYHADDSELSLRFGEMAWVQRLHMALEENRFCLYAQEISPLGQTDGGDGHIEILLRLHDEAGRIIL PDSFIPAAERYGLMTSLDRWVVENVFKIIARCLHERPGRPMAMCAINLSGITIGDDDFLGFLREKFHTYAIPPGMICFEITETSAIANLGSAIRFINELK ALGCQFSLDDFCAGMSSFAYLKHLPVDFLKIDGSFVKDMLDDPINRAMVEVINHIGHVMGKRTIAEFVETPQIEQALLEIGVDYAQGYLIERPQLFTFDS LQCRPVRPQPLLFKAPGTFRBLASTP | DIAMOND BLASTP (very fast)Search for conserved domains in this protein at NCBI CDD site'"
      ]
     },
     "execution_count": 93,
     "metadata": {},
     "output_type": "execute_result"
    }
   ],
   "source": [
    "aa = sequences.loc[sequences[0]==\"Amino Acid Sequence\"][1].values[0]\n",
    "\n",
    "aa"
   ]
  },
  {
   "cell_type": "code",
   "execution_count": 157,
   "metadata": {},
   "outputs": [
    {
     "data": {
      "text/plain": [
       "['BLASTP | DIAMOND BLASTP (very fast)Search for conserved domains in this protein at NCBI CDD site']"
      ]
     },
     "execution_count": 157,
     "metadata": {},
     "output_type": "execute_result"
    }
   ],
   "source": [
    "pattern = re.compile(\"BLAST.+$\")\n",
    "\n",
    "pattern.findall(aa)"
   ]
  },
  {
   "cell_type": "code",
   "execution_count": 158,
   "metadata": {},
   "outputs": [
    {
     "data": {
      "text/plain": [
       "'>putative signaling-related membrane proteinMKQKRTLGTPRLLGIVWPFIAVVLFQALLGCVSLYVLSAVRGYVAGESLWSKGQKDAIYYLTLYADNRDETTYLKYQQAIAVPQGGHELRIALDRSTPDL SAARLGILKGGNHPDDVSSLIWLYLNFRHFSYLEKAIELWTVGDGYLVQLDELAREMHSSITRDQVSANDVQQWKAHIIAINEGVTPAAKAFSDALGEGS RMILGLLLITNLATALGLIVLALLRTHKLLAQRHAFADALQQEKERAQITLESIGDGVITTDVDGAISYMNPAAEALTHWNSAQAQGLPLAALFNLLDDN AQPDGFTLIEHIVKGQLSGGSEHSKTIQRLDGSTVSVTLVGAPIRSGGKVTGAVLVLHDMTQERQYIANLSWQATHDALTGLANRREFEFRLEQVLHPAA QQYGGRHALMFLDLDQFKLVNDTCGHAAGDELLRHICALLQSDLREGDTLARLGGDEFGILLENCPAAVAEKIAESLRHTVQSLHFVWKGRPFMTTVSIG LVHLGHTPTTLETSLRAADMACYMAKEKGRNRVQVYHADDSELSLRFGEMAWVQRLHMALEENRFCLYAQEISPLGQTDGGDGHIEILLRLHDEAGRIIL PDSFIPAAERYGLMTSLDRWVVENVFKIIARCLHERPGRPMAMCAINLSGITIGDDDFLGFLREKFHTYAIPPGMICFEITETSAIANLGSAIRFINELK ALGCQFSLDDFCAGMSSFAYLKHLPVDFLKIDGSFVKDMLDDPINRAMVEVINHIGHVMGKRTIAEFVETPQIEQALLEIGVDYAQGYLIERPQLFTFDS LQCRPVRPQPLLFKAPGTFR'"
      ]
     },
     "execution_count": 158,
     "metadata": {},
     "output_type": "execute_result"
    }
   ],
   "source": [
    "seq = pattern.sub(\"\",aa)\n",
    "\n",
    "seq"
   ]
  },
  {
   "cell_type": "code",
   "execution_count": 159,
   "metadata": {},
   "outputs": [],
   "source": [
    "pattern = re.compile(\"[A-Z]\\s[A-Z]\")\n",
    "\n",
    "seq = pattern.sub(\"\",seq)"
   ]
  },
  {
   "cell_type": "code",
   "execution_count": 160,
   "metadata": {},
   "outputs": [
    {
     "data": {
      "text/plain": [
       "'>putative signaling-related membrane proteinMKQKRTLGTPRLLGIVWPFIAVVLFQALLGCVSLYVLSAVRGYVAGESLWSKGQKDAIYYLTLYADNRDETTYLKYQQAIAVPQGGHELRIALDRSTPDAARLGILKGGNHPDDVSSLIWLYLNFRHFSYLEKAIELWTVGDGYLVQLDELAREMHSSITRDQVSANDVQQWKAHIIAINEGVTPAAKAFSDALGEGMILGLLLITNLATALGLIVLALLRTHKLLAQRHAFADALQQEKERAQITLESIGDGVITTDVDGAISYMNPAAEALTHWNSAQAQGLPLAALFNLLDDQPDGFTLIEHIVKGQLSGGSEHSKTIQRLDGSTVSVTLVGAPIRSGGKVTGAVLVLHDMTQERQYIANLSWQATHDALTGLANRREFEFRLEQVLHPAQYGGRHALMFLDLDQFKLVNDTCGHAAGDELLRHICALLQSDLREGDTLARLGGDEFGILLENCPAAVAEKIAESLRHTVQSLHFVWKGRPFMTTVSIVHLGHTPTTLETSLRAADMACYMAKEKGRNRVQVYHADDSELSLRFGEMAWVQRLHMALEENRFCLYAQEISPLGQTDGGDGHIEILLRLHDEAGRIIDSFIPAAERYGLMTSLDRWVVENVFKIIARCLHERPGRPMAMCAINLSGITIGDDDFLGFLREKFHTYAIPPGMICFEITETSAIANLGSAIRFINELLGCQFSLDDFCAGMSSFAYLKHLPVDFLKIDGSFVKDMLDDPINRAMVEVINHIGHVMGKRTIAEFVETPQIEQALLEIGVDYAQGYLIERPQLFTFDQCRPVRPQPLLFKAPGTFR'"
      ]
     },
     "execution_count": 160,
     "metadata": {},
     "output_type": "execute_result"
    }
   ],
   "source": [
    "seq"
   ]
  },
  {
   "cell_type": "code",
   "execution_count": 164,
   "metadata": {},
   "outputs": [],
   "source": [
    "sep_pattern = re.compile(r\"([a-z])([A-Z]*$)\")"
   ]
  },
  {
   "cell_type": "code",
   "execution_count": 165,
   "metadata": {},
   "outputs": [
    {
     "data": {
      "text/plain": [
       "[('n',\n",
       "  'MKQKRTLGTPRLLGIVWPFIAVVLFQALLGCVSLYVLSAVRGYVAGESLWSKGQKDAIYYLTLYADNRDETTYLKYQQAIAVPQGGHELRIALDRSTPDAARLGILKGGNHPDDVSSLIWLYLNFRHFSYLEKAIELWTVGDGYLVQLDELAREMHSSITRDQVSANDVQQWKAHIIAINEGVTPAAKAFSDALGEGMILGLLLITNLATALGLIVLALLRTHKLLAQRHAFADALQQEKERAQITLESIGDGVITTDVDGAISYMNPAAEALTHWNSAQAQGLPLAALFNLLDDQPDGFTLIEHIVKGQLSGGSEHSKTIQRLDGSTVSVTLVGAPIRSGGKVTGAVLVLHDMTQERQYIANLSWQATHDALTGLANRREFEFRLEQVLHPAQYGGRHALMFLDLDQFKLVNDTCGHAAGDELLRHICALLQSDLREGDTLARLGGDEFGILLENCPAAVAEKIAESLRHTVQSLHFVWKGRPFMTTVSIVHLGHTPTTLETSLRAADMACYMAKEKGRNRVQVYHADDSELSLRFGEMAWVQRLHMALEENRFCLYAQEISPLGQTDGGDGHIEILLRLHDEAGRIIDSFIPAAERYGLMTSLDRWVVENVFKIIARCLHERPGRPMAMCAINLSGITIGDDDFLGFLREKFHTYAIPPGMICFEITETSAIANLGSAIRFINELLGCQFSLDDFCAGMSSFAYLKHLPVDFLKIDGSFVKDMLDDPINRAMVEVINHIGHVMGKRTIAEFVETPQIEQALLEIGVDYAQGYLIERPQLFTFDQCRPVRPQPLLFKAPGTFR')]"
      ]
     },
     "execution_count": 165,
     "metadata": {},
     "output_type": "execute_result"
    }
   ],
   "source": [
    "sep_pattern.findall(seq)"
   ]
  },
  {
   "cell_type": "code",
   "execution_count": 170,
   "metadata": {},
   "outputs": [
    {
     "data": {
      "text/plain": [
       "'>putative signaling-related membrane protein\\nMKQKRTLGTPRLLGIVWPFIAVVLFQALLGCVSLYVLSAVRGYVAGESLWSKGQKDAIYYLTLYADNRDETTYLKYQQAIAVPQGGHELRIALDRSTPDAARLGILKGGNHPDDVSSLIWLYLNFRHFSYLEKAIELWTVGDGYLVQLDELAREMHSSITRDQVSANDVQQWKAHIIAINEGVTPAAKAFSDALGEGMILGLLLITNLATALGLIVLALLRTHKLLAQRHAFADALQQEKERAQITLESIGDGVITTDVDGAISYMNPAAEALTHWNSAQAQGLPLAALFNLLDDQPDGFTLIEHIVKGQLSGGSEHSKTIQRLDGSTVSVTLVGAPIRSGGKVTGAVLVLHDMTQERQYIANLSWQATHDALTGLANRREFEFRLEQVLHPAQYGGRHALMFLDLDQFKLVNDTCGHAAGDELLRHICALLQSDLREGDTLARLGGDEFGILLENCPAAVAEKIAESLRHTVQSLHFVWKGRPFMTTVSIVHLGHTPTTLETSLRAADMACYMAKEKGRNRVQVYHADDSELSLRFGEMAWVQRLHMALEENRFCLYAQEISPLGQTDGGDGHIEILLRLHDEAGRIIDSFIPAAERYGLMTSLDRWVVENVFKIIARCLHERPGRPMAMCAINLSGITIGDDDFLGFLREKFHTYAIPPGMICFEITETSAIANLGSAIRFINELLGCQFSLDDFCAGMSSFAYLKHLPVDFLKIDGSFVKDMLDDPINRAMVEVINHIGHVMGKRTIAEFVETPQIEQALLEIGVDYAQGYLIERPQLFTFDQCRPVRPQPLLFKAPGTFR'"
      ]
     },
     "execution_count": 170,
     "metadata": {},
     "output_type": "execute_result"
    }
   ],
   "source": [
    "sep_pattern.sub(r'\\1\\n\\2', seq)"
   ]
  },
  {
   "cell_type": "code",
   "execution_count": 98,
   "metadata": {},
   "outputs": [],
   "source": []
  },
  {
   "cell_type": "code",
   "execution_count": 134,
   "metadata": {},
   "outputs": [],
   "source": [
    "stream = StringIO(seq)"
   ]
  },
  {
   "cell_type": "code",
   "execution_count": 135,
   "metadata": {},
   "outputs": [],
   "source": [
    "fastp = SeqIO.read(stream, 'fasta')"
   ]
  },
  {
   "cell_type": "code",
   "execution_count": 136,
   "metadata": {},
   "outputs": [
    {
     "data": {
      "text/plain": [
       "SeqRecord(seq=Seq('', SingleLetterAlphabet()), id='putative', name='putative', description='putative signaling-related membrane protein MKQKRTLGTPRLLGIVWPFIAVVLFQALLGCVSLYVLSAVRGYVAGESLWSKGQKDAIYYLTLYADNRDETTYLKYQQAIAVPQGGHELRIALDRSTPDAARLGILKGGNHPDDVSSLIWLYLNFRHFSYLEKAIELWTVGDGYLVQLDELAREMHSSITRDQVSANDVQQWKAHIIAINEGVTPAAKAFSDALGEGMILGLLLITNLATALGLIVLALLRTHKLLAQRHAFADALQQEKERAQITLESIGDGVITTDVDGAISYMNPAAEALTHWNSAQAQGLPLAALFNLLDDQPDGFTLIEHIVKGQLSGGSEHSKTIQRLDGSTVSVTLVGAPIRSGGKVTGAVLVLHDMTQERQYIANLSWQATHDALTGLANRREFEFRLEQVLHPAQYGGRHALMFLDLDQFKLVNDTCGHAAGDELLRHICALLQSDLREGDTLARLGGDEFGILLENCPAAVAEKIAESLRHTVQSLHFVWKGRPFMTTVSIVHLGHTPTTLETSLRAADMACYMAKEKGRNRVQVYHADDSELSLRFGEMAWVQRLHMALEENRFCLYAQEISPLGQTDGGDGHIEILLRLHDEAGRIIDSFIPAAERYGLMTSLDRWVVENVFKIIARCLHERPGRPMAMCAINLSGITIGDDDFLGFLREKFHTYAIPPGMICFEITETSAIANLGSAIRFINELLGCQFSLDDFCAGMSSFAYLKHLPVDFLKIDGSFVKDMLDDPINRAMVEVINHIGHVMGKRTIAEFVETPQIEQALLEIGVDYAQGYLIERPQLFTFDQCRPVRPQPLLFKAPGTFR', dbxrefs=[])"
      ]
     },
     "execution_count": 136,
     "metadata": {},
     "output_type": "execute_result"
    }
   ],
   "source": [
    "fastp"
   ]
  },
  {
   "cell_type": "code",
   "execution_count": 114,
   "metadata": {},
   "outputs": [
    {
     "ename": "AttributeError",
     "evalue": "'generator' object has no attribute 'records'",
     "output_type": "error",
     "traceback": [
      "\u001b[0;31m---------------------------------------------------------------------------\u001b[0m",
      "\u001b[0;31mAttributeError\u001b[0m                            Traceback (most recent call last)",
      "\u001b[0;32m<ipython-input-114-a29956d401a9>\u001b[0m in \u001b[0;36m<module>\u001b[0;34m\u001b[0m\n\u001b[0;32m----> 1\u001b[0;31m \u001b[0;32mfor\u001b[0m \u001b[0mrecord\u001b[0m \u001b[0;32min\u001b[0m \u001b[0mfastp\u001b[0m\u001b[0;34m.\u001b[0m\u001b[0mrecords\u001b[0m\u001b[0;34m:\u001b[0m\u001b[0;34m\u001b[0m\u001b[0;34m\u001b[0m\u001b[0m\n\u001b[0m\u001b[1;32m      2\u001b[0m     \u001b[0mprint\u001b[0m\u001b[0;34m(\u001b[0m\u001b[0;34m\"%s %i\"\u001b[0m \u001b[0;34m%\u001b[0m \u001b[0;34m(\u001b[0m\u001b[0mrecord\u001b[0m\u001b[0;34m.\u001b[0m\u001b[0mid\u001b[0m\u001b[0;34m,\u001b[0m \u001b[0mlen\u001b[0m\u001b[0;34m(\u001b[0m\u001b[0mrecord\u001b[0m\u001b[0;34m)\u001b[0m\u001b[0;34m)\u001b[0m\u001b[0;34m)\u001b[0m\u001b[0;34m\u001b[0m\u001b[0;34m\u001b[0m\u001b[0m\n",
      "\u001b[0;31mAttributeError\u001b[0m: 'generator' object has no attribute 'records'"
     ]
    }
   ],
   "source": [
    "for record in fastp.records:\n",
    "    print(\"%s %i\" % (record.id, len(record)))"
   ]
  },
  {
   "cell_type": "code",
   "execution_count": 109,
   "metadata": {},
   "outputs": [
    {
     "data": {
      "text/plain": [
       "'>putative signaling-related membrane proteinMKQKRTLGTPRLLGIVWPFIAVVLFQALLGCVSLYVLSAVRGYVAGESLWSKGQKDAIYYLTLYADNRDETTYLKYQQAIAVPQGGHELRIALDRSTPDAARLGILKGGNHPDDVSSLIWLYLNFRHFSYLEKAIELWTVGDGYLVQLDELAREMHSSITRDQVSANDVQQWKAHIIAINEGVTPAAKAFSDALGEGMILGLLLITNLATALGLIVLALLRTHKLLAQRHAFADALQQEKERAQITLESIGDGVITTDVDGAISYMNPAAEALTHWNSAQAQGLPLAALFNLLDDQPDGFTLIEHIVKGQLSGGSEHSKTIQRLDGSTVSVTLVGAPIRSGGKVTGAVLVLHDMTQERQYIANLSWQATHDALTGLANRREFEFRLEQVLHPAQYGGRHALMFLDLDQFKLVNDTCGHAAGDELLRHICALLQSDLREGDTLARLGGDEFGILLENCPAAVAEKIAESLRHTVQSLHFVWKGRPFMTTVSIVHLGHTPTTLETSLRAADMACYMAKEKGRNRVQVYHADDSELSLRFGEMAWVQRLHMALEENRFCLYAQEISPLGQTDGGDGHIEILLRLHDEAGRIIDSFIPAAERYGLMTSLDRWVVENVFKIIARCLHERPGRPMAMCAINLSGITIGDDDFLGFLREKFHTYAIPPGMICFEITETSAIANLGSAIRFINELLGCQFSLDDFCAGMSSFAYLKHLPVDFLKIDGSFVKDMLDDPINRAMVEVINHIGHVMGKRTIAEFVETPQIEQALLEIGVDYAQGYLIERPQLFTFDQCRPVRPQPLLFKAPGTFR'"
      ]
     },
     "execution_count": 109,
     "metadata": {},
     "output_type": "execute_result"
    }
   ],
   "source": [
    "stream.getvalue()"
   ]
  },
  {
   "cell_type": "code",
   "execution_count": 1,
   "metadata": {},
   "outputs": [
    {
     "ename": "NameError",
     "evalue": "name 'results' is not defined",
     "output_type": "error",
     "traceback": [
      "\u001b[0;31m---------------------------------------------------------------------------\u001b[0m",
      "\u001b[0;31mNameError\u001b[0m                                 Traceback (most recent call last)",
      "\u001b[0;32m<ipython-input-1-67a5d07fdfd9>\u001b[0m in \u001b[0;36m<module>\u001b[0;34m\u001b[0m\n\u001b[0;32m----> 1\u001b[0;31m \u001b[0mu\u001b[0m \u001b[0;34m=\u001b[0m \u001b[0mresults\u001b[0m\u001b[0;34m[\u001b[0m\u001b[0;34m\"Sequences\"\u001b[0m\u001b[0;34m]\u001b[0m\u001b[0;34m\u001b[0m\u001b[0;34m\u001b[0m\u001b[0m\n\u001b[0m",
      "\u001b[0;31mNameError\u001b[0m: name 'results' is not defined"
     ]
    }
   ],
   "source": [
    "u = results[\"Sequences\"]"
   ]
  },
  {
   "cell_type": "code",
   "execution_count": 146,
   "metadata": {},
   "outputs": [],
   "source": [
    "df = results[\"Sequences\"]"
   ]
  },
  {
   "cell_type": "code",
   "execution_count": 153,
   "metadata": {},
   "outputs": [],
   "source": []
  },
  {
   "cell_type": "code",
   "execution_count": 170,
   "metadata": {},
   "outputs": [
    {
     "data": {
      "text/plain": [
       "1     True\n",
       "2    False\n",
       "3    False\n",
       "4    False\n",
       "Name: 0, dtype: bool"
      ]
     },
     "execution_count": 170,
     "metadata": {},
     "output_type": "execute_result"
    }
   ],
   "source": [
    "df[0] == \"DNA Sequence Upstream of Gene\""
   ]
  },
  {
   "cell_type": "code",
   "execution_count": 169,
   "metadata": {},
   "outputs": [
    {
     "data": {
      "text/plain": [
       "1    GGCCGCGAGCGCAGTGACCAAGCCTGCTGGCAGGCACTGGAAATTG...\n",
       "2    >PFLU4308ATGAAGCAAAAGCGGACTCTCGGAACGCCAAGGCTGT...\n",
       "3    AACATTTGCTGGTCTGTACAATCACACTTAAAAAGGAGCCTTAACA...\n",
       "4    >putative signaling-related membrane proteinMK...\n",
       "Name: 1, dtype: object"
      ]
     },
     "execution_count": 169,
     "metadata": {},
     "output_type": "execute_result"
    }
   ],
   "source": [
    "df[1] "
   ]
  },
  {
   "cell_type": "code",
   "execution_count": 136,
   "metadata": {},
   "outputs": [
    {
     "data": {
      "text/plain": [
       "'GGCCGCGAGCGCAGTGACCAAGCCTGCTGGCAGGCACTGGAAATTGCGCAGTTGGAGGCTACCGTCAAGGCATTGCCGATGGGCCTGGATAGTGTGGTGG GGCGTTCCGGGGTGCGGTTTTCCGGCGGGCAGCGTCAGCGCCTGGCGATTGCGCGCATGGTGTTGGCTGAGCCGAAAGTGGTGATCCTCGACGAAGCGAC TTCCGCCCTGGACGCCGCCACCGAGTACAACCTGCACCAGGCGCTCGCGCGCTTCCTCAGCGGGCGTACTACACTGATTATTGCCCACCGCCTGTCGGCG GTTAAGCAGGCCGATCGAGTATTAGTCTTCGACGGCGGTCACATTGCTGAAGATGGTGATCATCAACAGTTGATTGCCGACGGCGGCCTGTACGCCAAAC TCTATGGACACCTGCAACAAGTGCGTTGATTTAGCCTAGGCTGAGCTATCAGAAGCGGATTTTCGCGTGCGTATCCAGCAGTGCATGTGCAAGGGACTTC '"
      ]
     },
     "execution_count": 136,
     "metadata": {},
     "output_type": "execute_result"
    }
   ],
   "source": [
    "seqs"
   ]
  },
  {
   "cell_type": "code",
   "execution_count": 137,
   "metadata": {},
   "outputs": [],
   "source": []
  },
  {
   "cell_type": "code",
   "execution_count": 138,
   "metadata": {},
   "outputs": [
    {
     "data": {
      "text/plain": [
       "'GGCCGCGAGCGCAGTGACCAAGCCTGCTGGCAGGCACTGGAAATTGCGCAGTTGGAGGCTACCGTCAAGGCATTGCCGATGGGCCTGGATAGTGTGGTGGGGCGTTCCGGGGTGCGGTTTTCCGGCGGGCAGCGTCAGCGCCTGGCGATTGCGCGCATGGTGTTGGCTGAGCCGAAAGTGGTGATCCTCGACGAAGCGACTTCCGCCCTGGACGCCGCCACCGAGTACAACCTGCACCAGGCGCTCGCGCGCTTCCTCAGCGGGCGTACTACACTGATTATTGCCCACCGCCTGTCGGCGGTTAAGCAGGCCGATCGAGTATTAGTCTTCGACGGCGGTCACATTGCTGAAGATGGTGATCATCAACAGTTGATTGCCGACGGCGGCCTGTACGCCAAACTCTATGGACACCTGCAACAAGTGCGTTGATTTAGCCTAGGCTGAGCTATCAGAAGCGGATTTTCGCGTGCGTATCCAGCAGTGCATGTGCAAGGGACTTC'"
      ]
     },
     "execution_count": 138,
     "metadata": {},
     "output_type": "execute_result"
    }
   ],
   "source": [
    "pattern.sub('',seqs)"
   ]
  },
  {
   "cell_type": "code",
   "execution_count": 114,
   "metadata": {},
   "outputs": [
    {
     "data": {
      "text/plain": [
       "'GGCCGCGAGCGCAGTGACCAAGCCTGCTGGCAGGCACTGGAAATTGCGCAGTTGGAGGCTACCGTCAAGGCATTGCCGATGGGCCTGGATAGTGTGGTGG GGCGTTCCGGGGTGCGGTTTTCCGGCGGGCAGCGTCAGCGCCTGGCGATTGCGCGCATGGTGTTGGCTGAGCCGAAAGTGGTGATCCTCGACGAAGCGAC TTCCGCCCTGGACGCCGCCACCGAGTACAACCTGCACCAGGCGCTCGCGCGCTTCCTCAGCGGGCGTACTACACTGATTATTGCCCACCGCCTGTCGGCG GTTAAGCAGGCCGATCGAGTATTAGTCTTCGACGGCGGTCACATTGCTGAAGATGGTGATCATCAACAGTTGATTGCCGACGGCGGCCTGTACGCCAAAC TCTATGGACACCTGCAACAAGTGCGTTGATTTAGCCTAGGCTGAGCTATCAGAAGCGGATTTTCGCGTGCGTATCCAGCAGTGCATGTGCAAGGGACTTC BLASTN Search'"
      ]
     },
     "execution_count": 114,
     "metadata": {},
     "output_type": "execute_result"
    }
   ],
   "source": [
    "u"
   ]
  },
  {
   "cell_type": "code",
   "execution_count": 89,
   "metadata": {},
   "outputs": [],
   "source": [
    "pattern = "
   ]
  },
  {
   "cell_type": "code",
   "execution_count": 92,
   "metadata": {},
   "outputs": [],
   "source": [
    "m = pattern.match(u)"
   ]
  },
  {
   "cell_type": "code",
   "execution_count": 95,
   "metadata": {},
   "outputs": [
    {
     "data": {
      "text/plain": [
       "'GGCCGCGAGCGCAGTGACCAAGCCTGCTGGCAGGCACTGGAAATTGCGCAGTTGGAGGCTACCGTCAAGGCATTGCCGATGGGCCTGGATAGTGTGGTGG'"
      ]
     },
     "execution_count": 95,
     "metadata": {},
     "output_type": "execute_result"
    }
   ],
   "source": [
    "m.group()"
   ]
  },
  {
   "cell_type": "code",
   "execution_count": null,
   "metadata": {},
   "outputs": [],
   "source": [
    "MKRKRELGTPRLLGIVWPFIAVVLFQALLGCVSLYMLSAVRGYVAGESLWSKGQKDAIYYLNLYADSRDPAIFDKYHQAIRVPQGGHNLRLALDQSPPDLNAAREGILQGGNSPDDVTSIIWFYRNFRHFSYLDTAIQKWTVGDDYLIQLDTLAQEMHQKISANQATDADVQRWKQRIFEINEGVTPAAKAFSDALGEGSRFIQQLLIFINLATALMLILLALLRTHKILAQRRAFAEALQVEKERALVTLESIGDGVITTDVNGAIDYMNPAAEHLTHWNSKQAQGVPLAALFRLLDENAPDDGFKLIDHILSGQLGNSSDHSKLIQRMDGTTVAVTLVGAPIFSAGKVSGAVLVLHDMTQERQYIANLSWQATHDALTGLANRREFEYRLDLVLQNLGRQQGRHALMFLDLDQFKLVNDTCGHAAGDELLRHICALLHSGLREGDTLARLGGDEFGILLENCAPDMAEKIAEGLRQTVQSLHFAWKGRPFLNTISIGLVHIHQAPVTLEGSLRAADMACYMAKEKGRNRVQVYHADDSELSLRFGEMAWVQRLHVALEENRFCLYSQEIAPLGQGVQDGHIEILLRLHDESGHIILPDSFIPAAERYGLMTSIDRWVVENVFKVIAECSALGSDQPMAMCAINLSGSTIGDEDFLQFLHEQFACYGVAPERVCFEITETSAISNLGSAIRFINDLKALGCHFSLDDFCAGMSSFAYLKHLPVDFLKIDGSFVKDMLDDPINRAMVEVINHIGHVMGKRTIAEFVESPQIEQALIEIGVDYAQGYIIERPRLFTSDSLLSRPKRSWPLALKAPGSLR"
   ]
  },
  {
   "cell_type": "code",
   "execution_count": 12,
   "metadata": {},
   "outputs": [
    {
     "name": "stdout",
     "output_type": "stream",
     "text": [
      ">putative signaling-related membrane protein\n",
      "MKQKRTLGTPRLLGIVWPFIAVVLFQALLGCVSLYVLSAVRGYVAGESLWSKGQKDAIYYLTLYADNRDETTYLKYQQAIAVPQGGHELRIALDRSTPDAARLGILKGGNHPDDVSSLIWLYLNFRHFSYLEKAIELWTVGDGYLVQLDELAREMHSSITRDQVSANDVQQWKAHIIAINEGVTPAAKAFSDALGEGMILGLLLITNLATALGLIVLALLRTHKLLAQRHAFADALQQEKERAQITLESIGDGVITTDVDGAISYMNPAAEALTHWNSAQAQGLPLAALFNLLDDQPDGFTLIEHIVKGQLSGGSEHSKTIQRLDGSTVSVTLVGAPIRSGGKVTGAVLVLHDMTQERQYIANLSWQATHDALTGLANRREFEFRLEQVLHPAQYGGRHALMFLDLDQFKLVNDTCGHAAGDELLRHICALLQSDLREGDTLARLGGDEFGILLENCPAAVAEKIAESLRHTVQSLHFVWKGRPFMTTVSIVHLGHTPTTLETSLRAADMACYMAKEKGRNRVQVYHADDSELSLRFGEMAWVQRLHMALEENRFCLYAQEISPLGQTDGGDGHIEILLRLHDEAGRIIDSFIPAAERYGLMTSLDRWVVENVFKIIARCLHERPGRPMAMCAINLSGITIGDDDFLGFLREKFHTYAIPPGMICFEITETSAIANLGSAIRFINELLGCQFSLDDFCAGMSSFAYLKHLPVDFLKIDGSFVKDMLDDPINRAMVEVINHIGHVMGKRTIAEFVETPQIEQALLEIGVDYAQGYLIERPQLFTFDQCRPVRPQPLLFKAPGTFR\n"
     ]
    }
   ],
   "source": [
    "print(results[\"Sequences\"][1][4])"
   ]
  },
  {
   "cell_type": "code",
   "execution_count": 13,
   "metadata": {},
   "outputs": [],
   "source": [
    "stream = StringIO(results[\"Sequences\"][1][4])"
   ]
  },
  {
   "cell_type": "code",
   "execution_count": 14,
   "metadata": {},
   "outputs": [],
   "source": [
    "gene = SeqIO.read(stream, 'fasta')"
   ]
  },
  {
   "cell_type": "code",
   "execution_count": 15,
   "metadata": {},
   "outputs": [
    {
     "data": {
      "text/plain": [
       "SeqRecord(seq=Seq('MKQKRTLGTPRLLGIVWPFIAVVLFQALLGCVSLYVLSAVRGYVAGESLWSKGQ...TFR', SingleLetterAlphabet()), id='putative', name='putative', description='putative signaling-related membrane protein', dbxrefs=[])"
      ]
     },
     "execution_count": 15,
     "metadata": {},
     "output_type": "execute_result"
    }
   ],
   "source": [
    "gene"
   ]
  },
  {
   "cell_type": "code",
   "execution_count": null,
   "metadata": {},
   "outputs": [],
   "source": [
    ">putative signaling-related membrane protein\n",
    "MKQKRTLGTPRLLGIVWPFIAVVLFQALLGCVSLYVLSAVRGYVAGESLWSKGQKDAIYYLTLYADNRDETTYLKYQQAIAVPQGGHELRIALDRSTPDAARLGILKGGNHPDDVSSLIWLYLNFRHFSYLEKAIELWTVGDGYLVQLDELAREMHSSITRDQVSANDVQQWKAHIIAINEGVTPAAKAFSDALGEGMILGLLLITNLATALGLIVLALLRTHKLLAQRHAFADALQQEKERAQITLESIGDGVITTDVDGAISYMNPAAEALTHWNSAQAQGLPLAALFNLLDDQPDGFTLIEHIVKGQLSGGSEHSKTIQRLDGSTVSVTLVGAPIRSGGKVTGAVLVLHDMTQERQYIANLSWQATHDALTGLANRREFEFRLEQVLHPAQYGGRHALMFLDLDQFKLVNDTCGHAAGDELLRHICALLQSDLREGDTLARLGGDEFGILLENCPAAVAEKIAESLRHTVQSLHFVWKGRPFMTTVSIVHLGHTPTTLETSLRAADMACYMAKEKGRNRVQVYHADDSELSLRFGEMAWVQRLHMALEENRFCLYAQEISPLGQTDGGDGHIEILLRLHDEAGRIIDSFIPAAERYGLMTSLDRWVVENVFKIIARCLHERPGRPMAMCAINLSGITIGDDDFLGFLREKFHTYAIPPGMICFEITETSAIANLGSAIRFINELLGCQFSLDDFCAGMSSFAYLKHLPVDFLKIDGSFVKDMLDDPINRAMVEVINHIGHVMGKRTIAEFVETPQIEQALLEIGVDYAQGYLIERPQLFTFDQCRPVRPQPLLFKAPGTFR"
   ]
  },
  {
   "cell_type": "code",
   "execution_count": 58,
   "metadata": {},
   "outputs": [],
   "source": [
    "sequences = results[\"Sequences\"]"
   ]
  },
  {
   "cell_type": "code",
   "execution_count": 91,
   "metadata": {},
   "outputs": [
    {
     "data": {
      "text/plain": [
       "'GGCCGCGAGCGCAGTGACCAAGCCTGCTGGCAGGCACTGGAAATTGCGCAGTTGGAGGCTACCGTCAAGGCATTGCCGATGGGCCTGGATAGTGTGGTGG GGCGTTCCGGGGTGCGGTTTTCCGGCGGGCAGCGTCAGCGCCTGGCGATTGCGCGCATGGTGTTGGCTGAGCCGAAAGTGGTGATCCTCGACGAAGCGAC TTCCGCCCTGGACGCCGCCACCGAGTACAACCTGCACCAGGCGCTCGCGCGCTTCCTCAGCGGGCGTACTACACTGATTATTGCCCACCGCCTGTCGGCG GTTAAGCAGGCCGATCGAGTATTAGTCTTCGACGGCGGTCACATTGCTGAAGATGGTGATCATCAACAGTTGATTGCCGACGGCGGCCTGTACGCCAAAC TCTATGGACACCTGCAACAAGTGCGTTGATTTAGCCTAGGCTGAGCTATCAGAAGCGGATTTTCGCGTGCGTATCCAGCAGTGCATGTGCAAGGGACTTC BLASTN Search'"
      ]
     },
     "execution_count": 91,
     "metadata": {},
     "output_type": "execute_result"
    }
   ],
   "source": [
    "up = sequences.loc[sequences[0]==\"DNA Sequence Upstream of Gene\",1].values[0]\n",
    "\n",
    "up"
   ]
  },
  {
   "cell_type": "code",
   "execution_count": null,
   "metadata": {},
   "outputs": [],
   "source": [
    "pattern = re.compile(\"BLAST.+$\")\n",
    "\n",
    "pattern.findall(up)"
   ]
  },
  {
   "cell_type": "code",
   "execution_count": null,
   "metadata": {},
   "outputs": [],
   "source": [
    "seq = pattern.sub(\"\",up)\n",
    "\n",
    "seq"
   ]
  },
  {
   "cell_type": "code",
   "execution_count": 78,
   "metadata": {},
   "outputs": [],
   "source": [
    "pattern = re.compile(\"[A-Z]\\s[A-Z]\")\n",
    "\n",
    "pattern.sub(\"\",seq)"
   ]
  },
  {
   "cell_type": "code",
   "execution_count": 93,
   "metadata": {},
   "outputs": [
    {
     "data": {
      "text/plain": [
       "'>putative signaling-related membrane proteinMKQKRTLGTPRLLGIVWPFIAVVLFQALLGCVSLYVLSAVRGYVAGESLWSKGQKDAIYYLTLYADNRDETTYLKYQQAIAVPQGGHELRIALDRSTPDL SAARLGILKGGNHPDDVSSLIWLYLNFRHFSYLEKAIELWTVGDGYLVQLDELAREMHSSITRDQVSANDVQQWKAHIIAINEGVTPAAKAFSDALGEGS RMILGLLLITNLATALGLIVLALLRTHKLLAQRHAFADALQQEKERAQITLESIGDGVITTDVDGAISYMNPAAEALTHWNSAQAQGLPLAALFNLLDDN AQPDGFTLIEHIVKGQLSGGSEHSKTIQRLDGSTVSVTLVGAPIRSGGKVTGAVLVLHDMTQERQYIANLSWQATHDALTGLANRREFEFRLEQVLHPAA QQYGGRHALMFLDLDQFKLVNDTCGHAAGDELLRHICALLQSDLREGDTLARLGGDEFGILLENCPAAVAEKIAESLRHTVQSLHFVWKGRPFMTTVSIG LVHLGHTPTTLETSLRAADMACYMAKEKGRNRVQVYHADDSELSLRFGEMAWVQRLHMALEENRFCLYAQEISPLGQTDGGDGHIEILLRLHDEAGRIIL PDSFIPAAERYGLMTSLDRWVVENVFKIIARCLHERPGRPMAMCAINLSGITIGDDDFLGFLREKFHTYAIPPGMICFEITETSAIANLGSAIRFINELK ALGCQFSLDDFCAGMSSFAYLKHLPVDFLKIDGSFVKDMLDDPINRAMVEVINHIGHVMGKRTIAEFVETPQIEQALLEIGVDYAQGYLIERPQLFTFDS LQCRPVRPQPLLFKAPGTFRBLASTP | DIAMOND BLASTP (very fast)Search for conserved domains in this protein at NCBI CDD site'"
      ]
     },
     "execution_count": 93,
     "metadata": {},
     "output_type": "execute_result"
    }
   ],
   "source": [
    "aa = sequences.loc[sequences[0]==\"Amino Acid Sequence\"][1].values[0]\n",
    "\n",
    "aa"
   ]
  },
  {
   "cell_type": "code",
   "execution_count": 157,
   "metadata": {},
   "outputs": [
    {
     "data": {
      "text/plain": [
       "['BLASTP | DIAMOND BLASTP (very fast)Search for conserved domains in this protein at NCBI CDD site']"
      ]
     },
     "execution_count": 157,
     "metadata": {},
     "output_type": "execute_result"
    }
   ],
   "source": [
    "pattern = re.compile(\"BLAST.+$\")\n",
    "\n",
    "pattern.findall(aa)"
   ]
  },
  {
   "cell_type": "code",
   "execution_count": 158,
   "metadata": {},
   "outputs": [
    {
     "data": {
      "text/plain": [
       "'>putative signaling-related membrane proteinMKQKRTLGTPRLLGIVWPFIAVVLFQALLGCVSLYVLSAVRGYVAGESLWSKGQKDAIYYLTLYADNRDETTYLKYQQAIAVPQGGHELRIALDRSTPDL SAARLGILKGGNHPDDVSSLIWLYLNFRHFSYLEKAIELWTVGDGYLVQLDELAREMHSSITRDQVSANDVQQWKAHIIAINEGVTPAAKAFSDALGEGS RMILGLLLITNLATALGLIVLALLRTHKLLAQRHAFADALQQEKERAQITLESIGDGVITTDVDGAISYMNPAAEALTHWNSAQAQGLPLAALFNLLDDN AQPDGFTLIEHIVKGQLSGGSEHSKTIQRLDGSTVSVTLVGAPIRSGGKVTGAVLVLHDMTQERQYIANLSWQATHDALTGLANRREFEFRLEQVLHPAA QQYGGRHALMFLDLDQFKLVNDTCGHAAGDELLRHICALLQSDLREGDTLARLGGDEFGILLENCPAAVAEKIAESLRHTVQSLHFVWKGRPFMTTVSIG LVHLGHTPTTLETSLRAADMACYMAKEKGRNRVQVYHADDSELSLRFGEMAWVQRLHMALEENRFCLYAQEISPLGQTDGGDGHIEILLRLHDEAGRIIL PDSFIPAAERYGLMTSLDRWVVENVFKIIARCLHERPGRPMAMCAINLSGITIGDDDFLGFLREKFHTYAIPPGMICFEITETSAIANLGSAIRFINELK ALGCQFSLDDFCAGMSSFAYLKHLPVDFLKIDGSFVKDMLDDPINRAMVEVINHIGHVMGKRTIAEFVETPQIEQALLEIGVDYAQGYLIERPQLFTFDS LQCRPVRPQPLLFKAPGTFR'"
      ]
     },
     "execution_count": 158,
     "metadata": {},
     "output_type": "execute_result"
    }
   ],
   "source": [
    "seq = pattern.sub(\"\",aa)\n",
    "\n",
    "seq"
   ]
  },
  {
   "cell_type": "code",
   "execution_count": 159,
   "metadata": {},
   "outputs": [],
   "source": [
    "pattern = re.compile(\"[A-Z]\\s[A-Z]\")\n",
    "\n",
    "seq = pattern.sub(\"\",seq)"
   ]
  },
  {
   "cell_type": "code",
   "execution_count": 160,
   "metadata": {},
   "outputs": [
    {
     "data": {
      "text/plain": [
       "'>putative signaling-related membrane proteinMKQKRTLGTPRLLGIVWPFIAVVLFQALLGCVSLYVLSAVRGYVAGESLWSKGQKDAIYYLTLYADNRDETTYLKYQQAIAVPQGGHELRIALDRSTPDAARLGILKGGNHPDDVSSLIWLYLNFRHFSYLEKAIELWTVGDGYLVQLDELAREMHSSITRDQVSANDVQQWKAHIIAINEGVTPAAKAFSDALGEGMILGLLLITNLATALGLIVLALLRTHKLLAQRHAFADALQQEKERAQITLESIGDGVITTDVDGAISYMNPAAEALTHWNSAQAQGLPLAALFNLLDDQPDGFTLIEHIVKGQLSGGSEHSKTIQRLDGSTVSVTLVGAPIRSGGKVTGAVLVLHDMTQERQYIANLSWQATHDALTGLANRREFEFRLEQVLHPAQYGGRHALMFLDLDQFKLVNDTCGHAAGDELLRHICALLQSDLREGDTLARLGGDEFGILLENCPAAVAEKIAESLRHTVQSLHFVWKGRPFMTTVSIVHLGHTPTTLETSLRAADMACYMAKEKGRNRVQVYHADDSELSLRFGEMAWVQRLHMALEENRFCLYAQEISPLGQTDGGDGHIEILLRLHDEAGRIIDSFIPAAERYGLMTSLDRWVVENVFKIIARCLHERPGRPMAMCAINLSGITIGDDDFLGFLREKFHTYAIPPGMICFEITETSAIANLGSAIRFINELLGCQFSLDDFCAGMSSFAYLKHLPVDFLKIDGSFVKDMLDDPINRAMVEVINHIGHVMGKRTIAEFVETPQIEQALLEIGVDYAQGYLIERPQLFTFDQCRPVRPQPLLFKAPGTFR'"
      ]
     },
     "execution_count": 160,
     "metadata": {},
     "output_type": "execute_result"
    }
   ],
   "source": [
    "seq"
   ]
  },
  {
   "cell_type": "code",
   "execution_count": 164,
   "metadata": {},
   "outputs": [],
   "source": [
    "sep_pattern = re.compile(r\"([a-z])([A-Z]*$)\")"
   ]
  },
  {
   "cell_type": "code",
   "execution_count": 165,
   "metadata": {},
   "outputs": [
    {
     "data": {
      "text/plain": [
       "[('n',\n",
       "  'MKQKRTLGTPRLLGIVWPFIAVVLFQALLGCVSLYVLSAVRGYVAGESLWSKGQKDAIYYLTLYADNRDETTYLKYQQAIAVPQGGHELRIALDRSTPDAARLGILKGGNHPDDVSSLIWLYLNFRHFSYLEKAIELWTVGDGYLVQLDELAREMHSSITRDQVSANDVQQWKAHIIAINEGVTPAAKAFSDALGEGMILGLLLITNLATALGLIVLALLRTHKLLAQRHAFADALQQEKERAQITLESIGDGVITTDVDGAISYMNPAAEALTHWNSAQAQGLPLAALFNLLDDQPDGFTLIEHIVKGQLSGGSEHSKTIQRLDGSTVSVTLVGAPIRSGGKVTGAVLVLHDMTQERQYIANLSWQATHDALTGLANRREFEFRLEQVLHPAQYGGRHALMFLDLDQFKLVNDTCGHAAGDELLRHICALLQSDLREGDTLARLGGDEFGILLENCPAAVAEKIAESLRHTVQSLHFVWKGRPFMTTVSIVHLGHTPTTLETSLRAADMACYMAKEKGRNRVQVYHADDSELSLRFGEMAWVQRLHMALEENRFCLYAQEISPLGQTDGGDGHIEILLRLHDEAGRIIDSFIPAAERYGLMTSLDRWVVENVFKIIARCLHERPGRPMAMCAINLSGITIGDDDFLGFLREKFHTYAIPPGMICFEITETSAIANLGSAIRFINELLGCQFSLDDFCAGMSSFAYLKHLPVDFLKIDGSFVKDMLDDPINRAMVEVINHIGHVMGKRTIAEFVETPQIEQALLEIGVDYAQGYLIERPQLFTFDQCRPVRPQPLLFKAPGTFR')]"
      ]
     },
     "execution_count": 165,
     "metadata": {},
     "output_type": "execute_result"
    }
   ],
   "source": [
    "sep_pattern.findall(seq)"
   ]
  },
  {
   "cell_type": "code",
   "execution_count": 170,
   "metadata": {},
   "outputs": [
    {
     "data": {
      "text/plain": [
       "'>putative signaling-related membrane protein\\nMKQKRTLGTPRLLGIVWPFIAVVLFQALLGCVSLYVLSAVRGYVAGESLWSKGQKDAIYYLTLYADNRDETTYLKYQQAIAVPQGGHELRIALDRSTPDAARLGILKGGNHPDDVSSLIWLYLNFRHFSYLEKAIELWTVGDGYLVQLDELAREMHSSITRDQVSANDVQQWKAHIIAINEGVTPAAKAFSDALGEGMILGLLLITNLATALGLIVLALLRTHKLLAQRHAFADALQQEKERAQITLESIGDGVITTDVDGAISYMNPAAEALTHWNSAQAQGLPLAALFNLLDDQPDGFTLIEHIVKGQLSGGSEHSKTIQRLDGSTVSVTLVGAPIRSGGKVTGAVLVLHDMTQERQYIANLSWQATHDALTGLANRREFEFRLEQVLHPAQYGGRHALMFLDLDQFKLVNDTCGHAAGDELLRHICALLQSDLREGDTLARLGGDEFGILLENCPAAVAEKIAESLRHTVQSLHFVWKGRPFMTTVSIVHLGHTPTTLETSLRAADMACYMAKEKGRNRVQVYHADDSELSLRFGEMAWVQRLHMALEENRFCLYAQEISPLGQTDGGDGHIEILLRLHDEAGRIIDSFIPAAERYGLMTSLDRWVVENVFKIIARCLHERPGRPMAMCAINLSGITIGDDDFLGFLREKFHTYAIPPGMICFEITETSAIANLGSAIRFINELLGCQFSLDDFCAGMSSFAYLKHLPVDFLKIDGSFVKDMLDDPINRAMVEVINHIGHVMGKRTIAEFVETPQIEQALLEIGVDYAQGYLIERPQLFTFDQCRPVRPQPLLFKAPGTFR'"
      ]
     },
     "execution_count": 170,
     "metadata": {},
     "output_type": "execute_result"
    }
   ],
   "source": [
    "sep_pattern.sub(r'\\1\\n\\2', seq)"
   ]
  },
  {
   "cell_type": "code",
   "execution_count": 98,
   "metadata": {},
   "outputs": [],
   "source": []
  },
  {
   "cell_type": "code",
   "execution_count": 134,
   "metadata": {},
   "outputs": [],
   "source": [
    "stream = StringIO(seq)"
   ]
  },
  {
   "cell_type": "code",
   "execution_count": 135,
   "metadata": {},
   "outputs": [],
   "source": [
    "fastp = SeqIO.read(stream, 'fasta')"
   ]
  },
  {
   "cell_type": "code",
   "execution_count": 136,
   "metadata": {},
   "outputs": [
    {
     "data": {
      "text/plain": [
       "SeqRecord(seq=Seq('', SingleLetterAlphabet()), id='putative', name='putative', description='putative signaling-related membrane protein MKQKRTLGTPRLLGIVWPFIAVVLFQALLGCVSLYVLSAVRGYVAGESLWSKGQKDAIYYLTLYADNRDETTYLKYQQAIAVPQGGHELRIALDRSTPDAARLGILKGGNHPDDVSSLIWLYLNFRHFSYLEKAIELWTVGDGYLVQLDELAREMHSSITRDQVSANDVQQWKAHIIAINEGVTPAAKAFSDALGEGMILGLLLITNLATALGLIVLALLRTHKLLAQRHAFADALQQEKERAQITLESIGDGVITTDVDGAISYMNPAAEALTHWNSAQAQGLPLAALFNLLDDQPDGFTLIEHIVKGQLSGGSEHSKTIQRLDGSTVSVTLVGAPIRSGGKVTGAVLVLHDMTQERQYIANLSWQATHDALTGLANRREFEFRLEQVLHPAQYGGRHALMFLDLDQFKLVNDTCGHAAGDELLRHICALLQSDLREGDTLARLGGDEFGILLENCPAAVAEKIAESLRHTVQSLHFVWKGRPFMTTVSIVHLGHTPTTLETSLRAADMACYMAKEKGRNRVQVYHADDSELSLRFGEMAWVQRLHMALEENRFCLYAQEISPLGQTDGGDGHIEILLRLHDEAGRIIDSFIPAAERYGLMTSLDRWVVENVFKIIARCLHERPGRPMAMCAINLSGITIGDDDFLGFLREKFHTYAIPPGMICFEITETSAIANLGSAIRFINELLGCQFSLDDFCAGMSSFAYLKHLPVDFLKIDGSFVKDMLDDPINRAMVEVINHIGHVMGKRTIAEFVETPQIEQALLEIGVDYAQGYLIERPQLFTFDQCRPVRPQPLLFKAPGTFR', dbxrefs=[])"
      ]
     },
     "execution_count": 136,
     "metadata": {},
     "output_type": "execute_result"
    }
   ],
   "source": [
    "fastp"
   ]
  },
  {
   "cell_type": "code",
   "execution_count": 114,
   "metadata": {},
   "outputs": [
    {
     "ename": "AttributeError",
     "evalue": "'generator' object has no attribute 'records'",
     "output_type": "error",
     "traceback": [
      "\u001b[0;31m---------------------------------------------------------------------------\u001b[0m",
      "\u001b[0;31mAttributeError\u001b[0m                            Traceback (most recent call last)",
      "\u001b[0;32m<ipython-input-114-a29956d401a9>\u001b[0m in \u001b[0;36m<module>\u001b[0;34m\u001b[0m\n\u001b[0;32m----> 1\u001b[0;31m \u001b[0;32mfor\u001b[0m \u001b[0mrecord\u001b[0m \u001b[0;32min\u001b[0m \u001b[0mfastp\u001b[0m\u001b[0;34m.\u001b[0m\u001b[0mrecords\u001b[0m\u001b[0;34m:\u001b[0m\u001b[0;34m\u001b[0m\u001b[0;34m\u001b[0m\u001b[0m\n\u001b[0m\u001b[1;32m      2\u001b[0m     \u001b[0mprint\u001b[0m\u001b[0;34m(\u001b[0m\u001b[0;34m\"%s %i\"\u001b[0m \u001b[0;34m%\u001b[0m \u001b[0;34m(\u001b[0m\u001b[0mrecord\u001b[0m\u001b[0;34m.\u001b[0m\u001b[0mid\u001b[0m\u001b[0;34m,\u001b[0m \u001b[0mlen\u001b[0m\u001b[0;34m(\u001b[0m\u001b[0mrecord\u001b[0m\u001b[0;34m)\u001b[0m\u001b[0;34m)\u001b[0m\u001b[0;34m)\u001b[0m\u001b[0;34m\u001b[0m\u001b[0;34m\u001b[0m\u001b[0m\n",
      "\u001b[0;31mAttributeError\u001b[0m: 'generator' object has no attribute 'records'"
     ]
    }
   ],
   "source": [
    "for record in fastp.records:\n",
    "    print(\"%s %i\" % (record.id, len(record)))"
   ]
  },
  {
   "cell_type": "code",
   "execution_count": 109,
   "metadata": {},
   "outputs": [
    {
     "data": {
      "text/plain": [
       "'>putative signaling-related membrane proteinMKQKRTLGTPRLLGIVWPFIAVVLFQALLGCVSLYVLSAVRGYVAGESLWSKGQKDAIYYLTLYADNRDETTYLKYQQAIAVPQGGHELRIALDRSTPDAARLGILKGGNHPDDVSSLIWLYLNFRHFSYLEKAIELWTVGDGYLVQLDELAREMHSSITRDQVSANDVQQWKAHIIAINEGVTPAAKAFSDALGEGMILGLLLITNLATALGLIVLALLRTHKLLAQRHAFADALQQEKERAQITLESIGDGVITTDVDGAISYMNPAAEALTHWNSAQAQGLPLAALFNLLDDQPDGFTLIEHIVKGQLSGGSEHSKTIQRLDGSTVSVTLVGAPIRSGGKVTGAVLVLHDMTQERQYIANLSWQATHDALTGLANRREFEFRLEQVLHPAQYGGRHALMFLDLDQFKLVNDTCGHAAGDELLRHICALLQSDLREGDTLARLGGDEFGILLENCPAAVAEKIAESLRHTVQSLHFVWKGRPFMTTVSIVHLGHTPTTLETSLRAADMACYMAKEKGRNRVQVYHADDSELSLRFGEMAWVQRLHMALEENRFCLYAQEISPLGQTDGGDGHIEILLRLHDEAGRIIDSFIPAAERYGLMTSLDRWVVENVFKIIARCLHERPGRPMAMCAINLSGITIGDDDFLGFLREKFHTYAIPPGMICFEITETSAIANLGSAIRFINELLGCQFSLDDFCAGMSSFAYLKHLPVDFLKIDGSFVKDMLDDPINRAMVEVINHIGHVMGKRTIAEFVETPQIEQALLEIGVDYAQGYLIERPQLFTFDQCRPVRPQPLLFKAPGTFR'"
      ]
     },
     "execution_count": 109,
     "metadata": {},
     "output_type": "execute_result"
    }
   ],
   "source": [
    "stream.getvalue()"
   ]
  },
  {
   "cell_type": "code",
   "execution_count": 1,
   "metadata": {},
   "outputs": [
    {
     "ename": "NameError",
     "evalue": "name 'results' is not defined",
     "output_type": "error",
     "traceback": [
      "\u001b[0;31m---------------------------------------------------------------------------\u001b[0m",
      "\u001b[0;31mNameError\u001b[0m                                 Traceback (most recent call last)",
      "\u001b[0;32m<ipython-input-1-67a5d07fdfd9>\u001b[0m in \u001b[0;36m<module>\u001b[0;34m\u001b[0m\n\u001b[0;32m----> 1\u001b[0;31m \u001b[0mu\u001b[0m \u001b[0;34m=\u001b[0m \u001b[0mresults\u001b[0m\u001b[0;34m[\u001b[0m\u001b[0;34m\"Sequences\"\u001b[0m\u001b[0;34m]\u001b[0m\u001b[0;34m\u001b[0m\u001b[0;34m\u001b[0m\u001b[0m\n\u001b[0m",
      "\u001b[0;31mNameError\u001b[0m: name 'results' is not defined"
     ]
    }
   ],
   "source": [
    "u = results[\"Sequences\"]"
   ]
  },
  {
   "cell_type": "code",
   "execution_count": 146,
   "metadata": {},
   "outputs": [],
   "source": [
    "df = results[\"Sequences\"]"
   ]
  },
  {
   "cell_type": "code",
   "execution_count": 153,
   "metadata": {},
   "outputs": [],
   "source": []
  },
  {
   "cell_type": "code",
   "execution_count": 170,
   "metadata": {},
   "outputs": [
    {
     "data": {
      "text/plain": [
       "1     True\n",
       "2    False\n",
       "3    False\n",
       "4    False\n",
       "Name: 0, dtype: bool"
      ]
     },
     "execution_count": 170,
     "metadata": {},
     "output_type": "execute_result"
    }
   ],
   "source": [
    "df[0] == \"DNA Sequence Upstream of Gene\""
   ]
  },
  {
   "cell_type": "code",
   "execution_count": 169,
   "metadata": {},
   "outputs": [
    {
     "data": {
      "text/plain": [
       "1    GGCCGCGAGCGCAGTGACCAAGCCTGCTGGCAGGCACTGGAAATTG...\n",
       "2    >PFLU4308ATGAAGCAAAAGCGGACTCTCGGAACGCCAAGGCTGT...\n",
       "3    AACATTTGCTGGTCTGTACAATCACACTTAAAAAGGAGCCTTAACA...\n",
       "4    >putative signaling-related membrane proteinMK...\n",
       "Name: 1, dtype: object"
      ]
     },
     "execution_count": 169,
     "metadata": {},
     "output_type": "execute_result"
    }
   ],
   "source": [
    "df[1] "
   ]
  },
  {
   "cell_type": "code",
   "execution_count": 136,
   "metadata": {},
   "outputs": [
    {
     "data": {
      "text/plain": [
       "'GGCCGCGAGCGCAGTGACCAAGCCTGCTGGCAGGCACTGGAAATTGCGCAGTTGGAGGCTACCGTCAAGGCATTGCCGATGGGCCTGGATAGTGTGGTGG GGCGTTCCGGGGTGCGGTTTTCCGGCGGGCAGCGTCAGCGCCTGGCGATTGCGCGCATGGTGTTGGCTGAGCCGAAAGTGGTGATCCTCGACGAAGCGAC TTCCGCCCTGGACGCCGCCACCGAGTACAACCTGCACCAGGCGCTCGCGCGCTTCCTCAGCGGGCGTACTACACTGATTATTGCCCACCGCCTGTCGGCG GTTAAGCAGGCCGATCGAGTATTAGTCTTCGACGGCGGTCACATTGCTGAAGATGGTGATCATCAACAGTTGATTGCCGACGGCGGCCTGTACGCCAAAC TCTATGGACACCTGCAACAAGTGCGTTGATTTAGCCTAGGCTGAGCTATCAGAAGCGGATTTTCGCGTGCGTATCCAGCAGTGCATGTGCAAGGGACTTC '"
      ]
     },
     "execution_count": 136,
     "metadata": {},
     "output_type": "execute_result"
    }
   ],
   "source": [
    "seqs"
   ]
  },
  {
   "cell_type": "code",
   "execution_count": 137,
   "metadata": {},
   "outputs": [],
   "source": []
  },
  {
   "cell_type": "code",
   "execution_count": 138,
   "metadata": {},
   "outputs": [
    {
     "data": {
      "text/plain": [
       "'GGCCGCGAGCGCAGTGACCAAGCCTGCTGGCAGGCACTGGAAATTGCGCAGTTGGAGGCTACCGTCAAGGCATTGCCGATGGGCCTGGATAGTGTGGTGGGGCGTTCCGGGGTGCGGTTTTCCGGCGGGCAGCGTCAGCGCCTGGCGATTGCGCGCATGGTGTTGGCTGAGCCGAAAGTGGTGATCCTCGACGAAGCGACTTCCGCCCTGGACGCCGCCACCGAGTACAACCTGCACCAGGCGCTCGCGCGCTTCCTCAGCGGGCGTACTACACTGATTATTGCCCACCGCCTGTCGGCGGTTAAGCAGGCCGATCGAGTATTAGTCTTCGACGGCGGTCACATTGCTGAAGATGGTGATCATCAACAGTTGATTGCCGACGGCGGCCTGTACGCCAAACTCTATGGACACCTGCAACAAGTGCGTTGATTTAGCCTAGGCTGAGCTATCAGAAGCGGATTTTCGCGTGCGTATCCAGCAGTGCATGTGCAAGGGACTTC'"
      ]
     },
     "execution_count": 138,
     "metadata": {},
     "output_type": "execute_result"
    }
   ],
   "source": [
    "pattern.sub('',seqs)"
   ]
  },
  {
   "cell_type": "code",
   "execution_count": 114,
   "metadata": {},
   "outputs": [
    {
     "data": {
      "text/plain": [
       "'GGCCGCGAGCGCAGTGACCAAGCCTGCTGGCAGGCACTGGAAATTGCGCAGTTGGAGGCTACCGTCAAGGCATTGCCGATGGGCCTGGATAGTGTGGTGG GGCGTTCCGGGGTGCGGTTTTCCGGCGGGCAGCGTCAGCGCCTGGCGATTGCGCGCATGGTGTTGGCTGAGCCGAAAGTGGTGATCCTCGACGAAGCGAC TTCCGCCCTGGACGCCGCCACCGAGTACAACCTGCACCAGGCGCTCGCGCGCTTCCTCAGCGGGCGTACTACACTGATTATTGCCCACCGCCTGTCGGCG GTTAAGCAGGCCGATCGAGTATTAGTCTTCGACGGCGGTCACATTGCTGAAGATGGTGATCATCAACAGTTGATTGCCGACGGCGGCCTGTACGCCAAAC TCTATGGACACCTGCAACAAGTGCGTTGATTTAGCCTAGGCTGAGCTATCAGAAGCGGATTTTCGCGTGCGTATCCAGCAGTGCATGTGCAAGGGACTTC BLASTN Search'"
      ]
     },
     "execution_count": 114,
     "metadata": {},
     "output_type": "execute_result"
    }
   ],
   "source": [
    "u"
   ]
  },
  {
   "cell_type": "code",
   "execution_count": 89,
   "metadata": {},
   "outputs": [],
   "source": [
    "pattern = "
   ]
  },
  {
   "cell_type": "code",
   "execution_count": 92,
   "metadata": {},
   "outputs": [],
   "source": [
    "m = pattern.match(u)"
   ]
  },
  {
   "cell_type": "code",
   "execution_count": 95,
   "metadata": {},
   "outputs": [
    {
     "data": {
      "text/plain": [
       "'GGCCGCGAGCGCAGTGACCAAGCCTGCTGGCAGGCACTGGAAATTGCGCAGTTGGAGGCTACCGTCAAGGCATTGCCGATGGGCCTGGATAGTGTGGTGG'"
      ]
     },
     "execution_count": 95,
     "metadata": {},
     "output_type": "execute_result"
    }
   ],
   "source": [
    "m.group()"
   ]
  },
  {
   "cell_type": "code",
   "execution_count": null,
   "metadata": {},
   "outputs": [],
   "source": [
    "MKRKRELGTPRLLGIVWPFIAVVLFQALLGCVSLYMLSAVRGYVAGESLWSKGQKDAIYYLNLYADSRDPAIFDKYHQAIRVPQGGHNLRLALDQSPPDLNAAREGILQGGNSPDDVTSIIWFYRNFRHFSYLDTAIQKWTVGDDYLIQLDTLAQEMHQKISANQATDADVQRWKQRIFEINEGVTPAAKAFSDALGEGSRFIQQLLIFINLATALMLILLALLRTHKILAQRRAFAEALQVEKERALVTLESIGDGVITTDVNGAIDYMNPAAEHLTHWNSKQAQGVPLAALFRLLDENAPDDGFKLIDHILSGQLGNSSDHSKLIQRMDGTTVAVTLVGAPIFSAGKVSGAVLVLHDMTQERQYIANLSWQATHDALTGLANRREFEYRLDLVLQNLGRQQGRHALMFLDLDQFKLVNDTCGHAAGDELLRHICALLHSGLREGDTLARLGGDEFGILLENCAPDMAEKIAEGLRQTVQSLHFAWKGRPFLNTISIGLVHIHQAPVTLEGSLRAADMACYMAKEKGRNRVQVYHADDSELSLRFGEMAWVQRLHVALEENRFCLYSQEIAPLGQGVQDGHIEILLRLHDESGHIILPDSFIPAAERYGLMTSIDRWVVENVFKVIAECSALGSDQPMAMCAINLSGSTIGDEDFLQFLHEQFACYGVAPERVCFEITETSAISNLGSAIRFINDLKALGCHFSLDDFCAGMSSFAYLKHLPVDFLKIDGSFVKDMLDDPINRAMVEVINHIGHVMGKRTIAEFVESPQIEQALIEIGVDYAQGYIIERPRLFTSDSLLSRPKRSWPLALKAPGSLR"
   ]
  },
  {
   "cell_type": "code",
   "execution_count": null,
   "metadata": {},
   "outputs": [],
   "source": []
  }
 ],
 "metadata": {
  "hide_input": false,
  "kernelspec": {
   "display_name": "Python 3",
   "language": "python",
   "name": "python3"
  },
  "language_info": {
   "codemirror_mode": {
    "name": "ipython",
    "version": 3
   },
   "file_extension": ".py",
   "mimetype": "text/x-python",
   "name": "python",
   "nbconvert_exporter": "python",
   "pygments_lexer": "ipython3",
   "version": "3.7.2"
  }
 },
 "nbformat": 4,
 "nbformat_minor": 2
}
