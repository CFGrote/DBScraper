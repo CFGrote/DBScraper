{
 "cells": [
  {
   "cell_type": "markdown",
   "metadata": {
    "slideshow": {
     "slide_type": "-"
    }
   },
   "source": [
    "# The pseudomonas-fluorescens SBW25 knowledge base "
   ]
  },
  {
   "cell_type": "code",
   "execution_count": 1,
   "metadata": {},
   "outputs": [],
   "source": [
    "%load_ext autoreload"
   ]
  },
  {
   "cell_type": "code",
   "execution_count": 2,
   "metadata": {},
   "outputs": [],
   "source": [
    "%autoreload 2"
   ]
  },
  {
   "cell_type": "code",
   "execution_count": 3,
   "metadata": {
    "nbsphinx": "hidden",
    "slideshow": {
     "slide_type": "fragment"
    },
    "tags": [
     "html_no_show"
    ]
   },
   "outputs": [],
   "source": [
    "from IPython.display import IFrame, clear_output, Image\n",
    "\n",
    "#from GenDBScraper.Utilities import nb_utilities as nbu\n",
    "# Configure logging.\n",
    "\n",
    "from GenDBScraper.StringDBScraper import StringDBScraper, stringdb_query\n",
    "import ipywidgets as widgets\n",
    "import pandas\n",
    "import logging\n",
    "import ipyaggrid\n",
    "from Bio import SeqIO\n",
    "from io import StringIO\n",
    "\n",
    "import re\n",
    "\n",
    "from GenDBScraper.PseudomonasDotComScraper import PseudomonasDotComScraper, pdc_query"
   ]
  },
  {
   "cell_type": "code",
   "execution_count": 6,
   "metadata": {},
   "outputs": [],
   "source": [
    "# %load /home/grotec/repos/GenDBScraper/GenDBScraper/Utilities/nb_utilities.py\n",
    "\n",
    "\n",
    "\n",
    "logging.basicConfig(format='%(asctime)s %(levelname)s: %(message)s', level=logging.DEBUG)"
   ]
  },
  {
   "cell_type": "code",
   "execution_count": 7,
   "metadata": {},
   "outputs": [],
   "source": [
    "logging.debug(\"ha\")"
   ]
  },
  {
   "cell_type": "code",
   "execution_count": 10,
   "metadata": {},
   "outputs": [],
   "source": [
    "def make_table(strain, locus_tag):\n",
    "    \"\"\" Get the data for strain and locus_tag from pseudomonas.com and render as a table. \"\"\"\n",
    "\n",
    "    display(nbu.get_grids(data_tables=nbu.run_pdc(strain, locus_tag)))\n",
    "\n",
    "\n",
    "def make_table_button(strain, locus_tag):\n",
    "    \"\"\" Return a button. If clicked, display a table for the corresponding data from pdc. \"\"\"\n",
    "\n",
    "    def table_button_clicked(b):\n",
    "        \"\"\" Callback for click on the button \"\"\"\n",
    "        make_table(strain, locus_tag)\n",
    "\n",
    "    button = widgets.Button(description=locus_tag)\n",
    "    button.on_click(table_button_clicked)\n",
    "\n",
    "    return button\n",
    "\n",
    "def run_pdc(strain, locus_tag):\n",
    "    \"\"\" Get data for strain and locus tag from pseudomonas.com \"\"\"\n",
    "\n",
    "\n",
    "    pdc = PseudomonasDotComScraper(query=pdc_query(strain=strain, feature=locus_tag))\n",
    "    query_string = \"__\".join([pdc.query[0].strain, pdc.query[0].feature])\n",
    "    pdc.connect()\n",
    "    pdc.run_query()\n",
    "\n",
    "    results = pdc.results[query_string]\n",
    "\n",
    "    return results\n",
    "\n",
    "\n",
    "def get_grids(data_tables):\n",
    "    \"\"\" Create grid view of all data tables\"\"\"\n",
    "\n",
    "    if not isinstance(data_tables, dict):\n",
    "        raise TypeError(\"Input parameter 'data_tables' must be of type dict. Received type is {}\".format(type(data_tables)))\n",
    "\n",
    "    tabs = widgets.Tab()\n",
    "\n",
    "    children = []\n",
    "    titles = []\n",
    "\n",
    "    skipped = [\"Ortholog xml\"]\n",
    "\n",
    "    for i, title in enumerate(data_tables.keys()):\n",
    "        if title in skipped:\n",
    "            logging.debug(\"Skipping %s\", title)\n",
    "            continue\n",
    "\n",
    "        df = data_tables[title]\n",
    "        if df is None:\n",
    "            logging.debug(\"Skipping %s\", title)\n",
    "            continue\n",
    "\n",
    "        if isinstance(df, pandas.DataFrame):\n",
    "            if df.empty:\n",
    "                logging.debug(\"Skipping %s\", title)\n",
    "                continue\n",
    "\n",
    "            df = df.rename(str, axis='columns')\n",
    "\n",
    "            grid_options={'columnDefs' : [{'field': c} for c in df.columns],\n",
    "                          'enableSorting': True,\n",
    "                          'enableFilter': True,\n",
    "                          'enableColResize': True,\n",
    "                          'enableRangeSelection': True,\n",
    "                          }\n",
    "\n",
    "            if title.lower() == \"ortholog group\":\n",
    "                for column_def in grid_options['columnDefs']:\n",
    "                    pattern = re.compile(r\"^GI$\")\n",
    "                    if pattern.match(column_def['field']):\n",
    "                        column_def['cellRenderer'] = \"\"\"function(params) { return '<a href=http://www.ncbi.nlm.nih.gov/protein/'+params.value+' target=_blank>'+params.value+'</a>'; }\"\"\"\n",
    "\n",
    "            if title.lower() == \"ortholog cluster\":\n",
    "                for column_def in grid_options['columnDefs']:\n",
    "                    pattern = re.compile(r\"^GI \\(Strain [1,2]\\)$\")\n",
    "                    if pattern.match(column_def['field']):\n",
    "                        column_def['cellRenderer'] = \"\"\"function(params) { return '<a href=http://www.ncbi.nlm.nih.gov/protein/'+params.value+' target=_blank>'+params.value+'</a>'; }\"\"\"\n",
    "\n",
    "            if title.lower() == \"cross-references\":\n",
    "                for column_def in grid_options['columnDefs']:\n",
    "                    pattern = re.compile(r\"^[U,u]rl$\")\n",
    "                    if pattern.match(column_def['field']):\n",
    "                        column_def['cellRenderer'] = \"\"\"function(params) { return '<a href='+params.value+' target=_blank>'+params.value+'</a>'; }\"\"\"\n",
    "\n",
    "            if title.lower() == \"individual mappings\":\n",
    "                for column_def in grid_options['columnDefs']:\n",
    "                    pattern = re.compile(r\"^PMID$\")\n",
    "                    if pattern.match(column_def['field']):\n",
    "                        column_def['cellRenderer'] = \"\"\"function(params) { return '<a href=http://ncbi.nlm.nih.gov/pubmed/'+params.value+' target=_blank>'+params.value+'</a>'; }\"\"\"\n",
    "\n",
    "            if title.lower() == \"gene ontology\":\n",
    "                for column_def in grid_options['columnDefs']:\n",
    "                    # GO Accession\n",
    "                    pattern = re.compile(r\"^Accession$\")\n",
    "                    if pattern.match(column_def['field']):\n",
    "                        column_def['cellRenderer'] = \"\"\"function(params) { return '<a href=http://www.ebi.ac.uk/QuickGO/GTerm?id='+params.value+' target=_blank>'+params.value+'</a>'; }\"\"\"\n",
    "\n",
    "                    # ECO accession\n",
    "                    pattern = re.compile(r\"^Evidence Ontology \\(ECO\\) Code$\")\n",
    "                    if pattern.match(column_def['field']):\n",
    "                        column_def['cellRenderer'] = \"\"\"function(params) { return '<a href=http://www.ebi.ac.uk/ontology-lookup/?termId='+params.value+' target=_blank>'+params.value+'</a>'; }\"\"\"\n",
    "\n",
    "                    pattern = re.compile(r\"^Reference$\")\n",
    "                    if pattern.match(column_def['field']):\n",
    "                        column_def['cellRenderer'] = \"\"\"function(params) { return '<a http://ncbi.nlm.nih.gov/pubmed/'+params.value+' target=_blank>'+params.value+'</a>'; }\"\"\"\n",
    "\n",
    "            if title.lower() == \"functional predictions from interpro\":\n",
    "                for column_def in grid_options['columnDefs']:\n",
    "\n",
    "                    pattern = re.compile(r\"^Interpro Accession$\")\n",
    "                    if pattern.match(column_def['field']):\n",
    "                        column_def['cellRenderer'] = \"\"\"function(params) { return '<a href=http://www.ebi.ac.uk/interpro/entry/'+params.value+' target=_blank>'+params.value+'</a>'; }\"\"\"\n",
    "\n",
    "            if re.match(r'^transposon.*$', title.lower() ):\n",
    "                for column_def in grid_options['columnDefs']:\n",
    "                    pattern = re.compile(r\"^Reference$\")\n",
    "                    if pattern.match(column_def['field']):\n",
    "                        column_def['cellRenderer'] = \"\"\"function(params) { return '<a href=http://ncbi.nlm.nih.gov/pubmed/'+params.value+' target=_blank>'+params.value+'</a>'; }\"\"\"\n",
    "\n",
    "#            if title.lower() == 'genes':\n",
    "#                for column_def in grid_options['columnDefs']:\n",
    "#                    pattern = re.compile(r\"^Unnamed: 7$\",flags=re.IGNORECASE)\n",
    "#                    if pattern.match(column_def['field']):\n",
    "#                        column_def['cellRenderer'] = \"\"\"function(params) { \n",
    "#    let v = params.value;\n",
    "#    function clicked(){\n",
    "#        let new_cell = Jupyter.notebook.insert_cell_below().set_text(\"This feature is not implemented yet.\");\n",
    "#    }\n",
    "#\n",
    "#    let b = document.createElement('button');\n",
    "#    b.innerHTML = v;\n",
    "#    b.style = \"background-color:bisque; margin:1px 10px 1px 2px;\";\n",
    "#    b.title = \"Open gene table\";\n",
    "#    b.addEventListener(\"click\", function (){clicked()}, false);\n",
    "#    // b.addEventListener(\"click\", function (){clicked()}, false);\n",
    "#\n",
    "#    return b;\n",
    "#} \"\"\"\n",
    "\n",
    "            if title.lower() == 'references':\n",
    "                for column_def in grid_options['columnDefs']:\n",
    "                    pattern = re.compile(r\"^Pubmed_id$\",flags=re.IGNORECASE)\n",
    "                    if pattern.match(column_def['field']):\n",
    "                        column_def['cellRenderer'] = \"\"\"function(params) { return '<a href=http://ncbi.nlm.nih.gov/pubmed/'+params.value+' target=_blank>'+params.value+'</a>'; }\"\"\"\n",
    "\n",
    "            g = ipyaggrid.Grid(grid_data = df,\n",
    "                               grid_options=grid_options,\n",
    "                               center=False,\n",
    "                               theme='ag-theme-fresh',\n",
    "                               grid_options_multi=[],\n",
    "                               columns_fit='',\n",
    "                               index=True,\n",
    "                               keep_multiindex=False,\n",
    "                               compress_data=True,\n",
    "                               quick_filter=True,\n",
    "                               export_csv=True,\n",
    "                               export_excel=True,\n",
    "                               show_toggle_delete=False,\n",
    "                               show_toggle_edit=False,\n",
    "                               paste_from_excel=True,\n",
    "                               export_mode='disabled',\n",
    "                               export_to_df=True,\n",
    "                               hide_grid=False,\n",
    "                               menu=None,\n",
    "                               )\n",
    "            children.append(g)\n",
    "\n",
    "        elif isinstance(df, dict):\n",
    "            if df == {}:\n",
    "                logging.debug(\"Skipping %s\", title)\n",
    "\n",
    "            g = get_grids(df)\n",
    "            children.append(g)\n",
    "\n",
    "        elif isinstance(df, list):\n",
    "            if len(df) == 0:\n",
    "                logging.debug(\"Skipping %s\", title)\n",
    "            continue\n",
    "\n",
    "        titles.append(title)\n",
    "\n",
    "    tabs.children = children\n",
    "\n",
    "    assert len(children) == len(titles)\n",
    "\n",
    "    for i, title in enumerate(titles):\n",
    "        tabs.set_title(i, title)\n",
    "\n",
    "    return tabs\n",
    "\n",
    "# Need to treat each tab and subtabs individually\n",
    "def get_single_grid(df, title, column_formatting):\n",
    "\n",
    "    df = df.rename(str, axis='columns')\n",
    "    grid_options={'columnDefs' : [{'field': c} for c in df.columns],\n",
    "                          'enableSorting': True,\n",
    "                          'enableFilter': True,\n",
    "                          'enableColResize': True,\n",
    "                          'enableRangeSelection': True,\n",
    "                          }\n",
    "\n",
    "    for cd in grid_options['columnDefs']:\n",
    "        field = cd['field']\n",
    "        if cd['field'] in column_formatting.keys():\n",
    "            cd['cellRenderer'] = column_formatting[field]\n",
    "\n",
    "\n",
    "    grid =  ipyaggrid.Grid(grid_data = df,\n",
    "                               grid_options=grid_options,\n",
    "                               center=False,\n",
    "                               theme='ag-theme-fresh',\n",
    "                               grid_options_multi=[],\n",
    "                               columns_fit='',\n",
    "                               index=False,\n",
    "                               keep_multiindex=False,\n",
    "                               compress_data=True,\n",
    "                               quick_filter=True,\n",
    "                               export_csv=True,\n",
    "                               export_excel=True,\n",
    "                               show_toggle_delete=False,\n",
    "                               show_toggle_edit=False,\n",
    "                               paste_from_excel=True,\n",
    "                               export_mode='disabled',\n",
    "                               export_to_df=True,\n",
    "                               hide_grid=False,\n",
    "                               menu=None,\n",
    "                               )\n",
    "\n",
    "    return grid\n",
    "\n",
    "\n",
    "\n",
    "\n",
    "def apply_column_formatting(tabs, titles=[], formatting_string=\"\"\" \"\"\"):\n",
    "    \"\"\" Apply the given formatting string to the tab specified by titles\n",
    "\n",
    "    :param tabs: The tab widget to apply the formatting to.\n",
    "    :type  tabs: ipywidgets.Tab\n",
    "\n",
    "    :param titles: Sequence of tab titles and column titles needed to navigate to the tab in question\n",
    "    :type  titles: list\n",
    "\n",
    "    :param formatting_string: The formatting string to apply to the specified column.\n",
    "    :type  formatting_string: str\n",
    "\n",
    "    \"\"\"\n",
    "    t = tabs\n",
    "    # Navigate to the correct tab by searching for tab titles [vomit].\n",
    "    for title in titles[:-1]:\n",
    "        kids = t.children\n",
    "        # Find index.\n",
    "        logging.debug(\"Getting index for title %s\", title)\n",
    "        current_titles = [t.get_title(i) for i in range(len(kids))]\n",
    "        logging.debug(\"Current available titles are %s\", str(current_titles))\n",
    "        idx = [ct == title for ct in current_titles].index(True)\n",
    "        logging.debug(\"Found idx = %s\", str(idx))\n",
    "        t = kids[idx]\n",
    "\n",
    "    column_defs = t.grid_options[\"columnDefs\"]\n",
    "\n",
    "    locate_key = None\n",
    "    for cd in column_defs:\n",
    "        if cd['field'] == titles[-1]:\n",
    "            cd[\"cellRenderer\"] = formatting_string\n",
    "\n",
    "\n",
    "\n",
    "def run_stdb(locus_tag):\n",
    "    clear_output(wait=True)\n",
    "\n",
    "    gene_sub_pattern = re.compile(r'([a-z](?=[0-9]))')\n",
    "    gene=gene_sub_pattern.sub(r'\\1_', locus_tag)\n",
    "\n",
    "    stdb = StringDBScraper(query=stringdb_query(taxonId=216595, features=[gene]))\n",
    "\n",
    "    stdb.connect()\n",
    "\n",
    "    stdb.update_features()\n",
    "\n",
    "    stdb_results = dict()\n",
    "\n",
    "    stdb_results['Network Image'] = stdb.network_image()\n",
    "    stdb_results['Network Interactions'] = stdb.network_interactions()\n",
    "    stdb_results['Interaction Partners'] = stdb.interaction_partners(required_score=300)\n",
    "    stdb_results['Functional Enrichments'] = stdb.functional_enrichments()\n",
    "    stdb_results['Interaction Enrichments'] = stdb.interaction_enrichments()\n",
    "\n",
    "\n",
    "    with open(stdb_results['Network Image'], 'rb') as fp:\n",
    "        image_widget = widgets.Image(value=fp.read(), format='svg')\n",
    "\n",
    "    tabs = []\n",
    "    for key in stdb_results.keys():\n",
    "        if key == 'Network Image':\n",
    "            continue\n",
    "        result = stdb_results[key]\n",
    "        cds = ColumnDataSource(result)\n",
    "        data_table = DataTable(source=cds,\n",
    "                               columns=[TableColumn(field=c, title=c, width=80) for c in list(result.columns)],\n",
    "                               fit_columns=False\n",
    "                              )\n",
    "        tabs.append(Panel(child=data_table, title=key))\n",
    "\n",
    "    stdb_tabs = Tabs(tabs=tabs)\n",
    "    display(image_widget)\n",
    "    show(column(stdb_tabs, width=500))"
   ]
  },
  {
   "cell_type": "code",
   "execution_count": 11,
   "metadata": {
    "scrolled": true,
    "slideshow": {
     "slide_type": "-"
    }
   },
   "outputs": [
    {
     "name": "stderr",
     "output_type": "stream",
     "text": [
      "2019-07-15 11:12:03,792 INFO: Connected to https://www.pseudomonas.com .\n",
      "2019-07-15 11:12:04,513 INFO: Connected to https://www.pseudomonas.com/primarySequenceFeature/list?c1=name&v1=pa14_67150&e1=1&term1=UCBPP-PA14&assembly=complete .\n",
      "2019-07-15 11:12:05,249 INFO: Connected to https://www.pseudomonas.com/feature/show?id=1661770&view=overview .\n",
      "2019-07-15 11:12:05,988 INFO: Connected to https://www.pseudomonas.com/feature/show?id=1661770&view=overview .\n",
      "2019-07-15 11:12:07,608 INFO: Connected to https://www.pseudomonas.com/feature/show?id=1661770&view=sequence .\n",
      "2019-07-15 11:12:08,347 INFO: Connected to https://www.pseudomonas.com/feature/show?id=1661770&view=functions .\n",
      "2019-07-15 11:12:08,575 INFO: Querying Motifs is not implemented yet.\n",
      "2019-07-15 11:12:09,270 INFO: Connected to https://www.pseudomonas.com/feature/show?id=1661770&view=operons .\n",
      "2019-07-15 11:12:09,995 INFO: Connected to https://www.pseudomonas.com/feature/show?id=1661770&view=transposons .\n",
      "2019-07-15 11:12:10,735 INFO: Connected to https://www.pseudomonas.com/feature/show?id=1661770&view=updates .\n",
      "2019-07-15 11:12:11,749 INFO: Connected to https://www.pseudomonas.com/orthologs/list?format=tab&extension=tab&id=1661770 .\n",
      "2019-07-15 11:12:12,659 INFO: Connected to http://pseudoluge.pseudomonas.com/named/download/xml?gene_id=1661770 .\n"
     ]
    }
   ],
   "source": [
    "results = run_pdc(strain=\"UCBPP-PA14\", locus_tag=r'pa14_67150')"
   ]
  },
  {
   "cell_type": "markdown",
   "metadata": {
    "slideshow": {
     "slide_type": "-"
    }
   },
   "source": [
    "## Data from pseudomonas.com "
   ]
  },
  {
   "cell_type": "code",
   "execution_count": 12,
   "metadata": {
    "scrolled": false,
    "slideshow": {
     "slide_type": "fragment"
    }
   },
   "outputs": [
    {
     "data": {
      "application/vnd.jupyter.widget-view+json": {
       "model_id": "a0b591e814b64bf4b9ae1d997a24184a",
       "version_major": 2,
       "version_minor": 0
      },
      "text/plain": [
       "Tab(children=(Tab(children=(Grid(compress_data=True, export_mode='disabled', height='350px', menu={'buttons': …"
      ]
     },
     "metadata": {},
     "output_type": "display_data"
    }
   ],
   "source": [
    "get_grids(data_tables=results)"
   ]
  },
  {
   "cell_type": "code",
   "execution_count": 14,
   "metadata": {},
   "outputs": [],
   "source": [
    "logger=logging.getLogger()"
   ]
  },
  {
   "cell_type": "code",
   "execution_count": 15,
   "metadata": {},
   "outputs": [
    {
     "data": {
      "text/plain": [
       "20"
      ]
     },
     "execution_count": 15,
     "metadata": {},
     "output_type": "execute_result"
    }
   ],
   "source": [
    "logger.getEffectiveLevel()"
   ]
  },
  {
   "cell_type": "code",
   "execution_count": 16,
   "metadata": {},
   "outputs": [
    {
     "data": {
      "text/plain": [
       "'INFO'"
      ]
     },
     "execution_count": 16,
     "metadata": {},
     "output_type": "execute_result"
    }
   ],
   "source": [
    "logging.getLevelName(20)"
   ]
  },
  {
   "cell_type": "code",
   "execution_count": 11,
   "metadata": {},
   "outputs": [],
   "source": [
    "grids=get_grids(data_tables=results)"
   ]
  },
  {
   "cell_type": "code",
   "execution_count": 12,
   "metadata": {},
   "outputs": [
    {
     "data": {
      "text/plain": [
       "ipywidgets.widgets.widget_selectioncontainer.Tab"
      ]
     },
     "execution_count": 12,
     "metadata": {},
     "output_type": "execute_result"
    }
   ],
   "source": [
    "type(grids.children[0])"
   ]
  },
  {
   "cell_type": "code",
   "execution_count": null,
   "metadata": {},
   "outputs": [],
   "source": []
  }
 ],
 "metadata": {
  "hide_input": false,
  "kernelspec": {
   "display_name": "Python 3",
   "language": "python",
   "name": "python3"
  },
  "language_info": {
   "codemirror_mode": {
    "name": "ipython",
    "version": 3
   },
   "file_extension": ".py",
   "mimetype": "text/x-python",
   "name": "python",
   "nbconvert_exporter": "python",
   "pygments_lexer": "ipython3",
   "version": "3.7.2"
  }
 },
 "nbformat": 4,
 "nbformat_minor": 2
}
