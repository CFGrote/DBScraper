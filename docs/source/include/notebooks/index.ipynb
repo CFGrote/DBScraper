{
 "cells": [
  {
   "cell_type": "code",
   "execution_count": 51,
   "metadata": {},
   "outputs": [],
   "source": [
    "import os\n",
    "from ipyaggrid import *\n",
    "import pandas\n"
   ]
  },
  {
   "cell_type": "code",
   "execution_count": 24,
   "metadata": {},
   "outputs": [],
   "source": [
    "wwwdir = os.path.join(os.path.abspath(os.sep), \"var\", \"www\", \"sbw25\")\n",
    "sbw25_pages = os.listdir(wwwdir)\n",
    "sbw25_pages.sort()\n",
    "sbw25_pages=[page for page in sbw25_pages if page[:5]=='sbw25']"
   ]
  },
  {
   "cell_type": "code",
   "execution_count": 26,
   "metadata": {},
   "outputs": [],
   "source": [
    "locus_tags = [page.split(\".\")[0].split(\"_\")[-1] for page in sbw25_pages]"
   ]
  },
  {
   "cell_type": "code",
   "execution_count": 27,
   "metadata": {},
   "outputs": [],
   "source": [
    "locus_tags.sort()"
   ]
  },
  {
   "cell_type": "code",
   "execution_count": 28,
   "metadata": {},
   "outputs": [],
   "source": [
    "server_url = \"http://172.16.5.1\""
   ]
  },
  {
   "cell_type": "code",
   "execution_count": 29,
   "metadata": {},
   "outputs": [],
   "source": [
    "tag_urls = [\"/\".join([server_url, lt]) for lt in sbw25_pages]"
   ]
  },
  {
   "cell_type": "code",
   "execution_count": 42,
   "metadata": {},
   "outputs": [],
   "source": [
    "df = pandas.DataFrame({\"locus tag\" : locus_tags})"
   ]
  },
  {
   "cell_type": "markdown",
   "metadata": {},
   "source": [
    "## Welcome to the SBW25 knowledge base\n",
    "Click on a locus tag in the table below (opens a new browser tab for the selected data). "
   ]
  },
  {
   "cell_type": "code",
   "execution_count": 49,
   "metadata": {},
   "outputs": [],
   "source": [
    "grid_options={'columnDefs' : [{'field': c} for c in df.columns],\n",
    "                          'enableSorting': True,\n",
    "                          'enableFilter': True,\n",
    "                          'enableColResize': True,\n",
    "                          'enableRangeSelection': True,\n",
    "                          }\n",
    "for column_def in grid_options['columnDefs']:\n",
    "    column_def['cellRenderer'] = \"\"\"function(params) { return '<a href=http://172.16.5.1/sbw25_'+params.value+'.html target=_blank>'+params.value+'</a>'; }\"\"\"\n",
    "\n",
    "grid =  Grid(grid_data = df,\n",
    "                               grid_options=grid_options,\n",
    "                               center=False,\n",
    "                               theme='ag-theme-fresh',\n",
    "                               grid_options_multi=[],\n",
    "                               columns_fit='',\n",
    "                               index=False,\n",
    "                               keep_multiindex=False,\n",
    "                               compress_data=True,\n",
    "                               quick_filter=True,\n",
    "                               export_csv=False,\n",
    "                               export_excel=False,\n",
    "                               show_toggle_delete=False,\n",
    "                               show_toggle_edit=False,\n",
    "                               paste_from_excel=False,\n",
    "                               export_mode='disabled',\n",
    "                               export_to_df='false',\n",
    "                               hide_grid=False,\n",
    "                               menu=None,\n",
    "                               )\n",
    "\n"
   ]
  },
  {
   "cell_type": "code",
   "execution_count": 50,
   "metadata": {
    "scrolled": false
   },
   "outputs": [
    {
     "data": {
      "application/vnd.jupyter.widget-view+json": {
       "model_id": "7df7654317044e1193322900b00ad2e5",
       "version_major": 2,
       "version_minor": 0
      },
      "text/plain": [
       "Grid(compress_data=True, export_mode='disabled', height='350px', menu={'buttons': [], 'inputs': [{'name': 'Qui…"
      ]
     },
     "metadata": {},
     "output_type": "display_data"
    }
   ],
   "source": [
    "grid"
   ]
  }
 ],
 "metadata": {
  "hide_input": false,
  "kernelspec": {
   "display_name": "Python 3",
   "language": "python",
   "name": "python3"
  },
  "language_info": {
   "codemirror_mode": {
    "name": "ipython",
    "version": 3
   },
   "file_extension": ".py",
   "mimetype": "text/x-python",
   "name": "python",
   "nbconvert_exporter": "python",
   "pygments_lexer": "ipython3",
   "version": "3.7.2"
  }
 },
 "nbformat": 4,
 "nbformat_minor": 2
}
