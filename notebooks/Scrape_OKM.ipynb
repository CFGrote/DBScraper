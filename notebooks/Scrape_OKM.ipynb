{
 "cells": [
  {
   "cell_type": "markdown",
   "metadata": {},
   "source": [
    "# Get knowledge maps for all genes in SBW25 "
   ]
  },
  {
   "cell_type": "code",
   "execution_count": 237,
   "metadata": {},
   "outputs": [],
   "source": [
    "import pandas, numpy\n",
    "\n",
    "from selenium import webdriver\n",
    "from selenium.webdriver.support.ui import WebDriverWait\n",
    "from selenium.webdriver.common.by import By\n",
    "from selenium.webdriver.support import expected_conditions\n",
    "import logging"
   ]
  },
  {
   "cell_type": "code",
   "execution_count": 251,
   "metadata": {},
   "outputs": [],
   "source": [
    "logging.getLogger().setLevel(logging.INFO)"
   ]
  },
  {
   "cell_type": "code",
   "execution_count": 252,
   "metadata": {},
   "outputs": [
    {
     "name": "stderr",
     "output_type": "stream",
     "text": [
      "INFO:root:test\n"
     ]
    }
   ],
   "source": [
    "logging.info(\"test\")"
   ]
  },
  {
   "cell_type": "code",
   "execution_count": 6,
   "metadata": {},
   "outputs": [],
   "source": [
    "features = pandas.read_csv(\"/opt/data/sbw25/features.csv\")"
   ]
  },
  {
   "cell_type": "code",
   "execution_count": 7,
   "metadata": {},
   "outputs": [],
   "source": [
    "gene_names = features[\"Gene Name\"]\n",
    "\n",
    "gene_names.index = features[\"Locus Tag\"]\n",
    "\n",
    "non_nan_tags = [t for t in gene_names.index if isinstance(gene_names.loc[t], str)]\n",
    "\n",
    "gene_names = gene_names.loc[non_nan_tags]"
   ]
  },
  {
   "cell_type": "code",
   "execution_count": 8,
   "metadata": {},
   "outputs": [
    {
     "data": {
      "text/plain": [
       "Locus Tag\n",
       "PFLU0001    dnaA\n",
       "PFLU0002    dnaN\n",
       "PFLU0003    recF\n",
       "PFLU0004    gyrB\n",
       "PFLU0009    gmhB\n",
       "PFLU0010    glyS\n",
       "PFLU0011    glyQ\n",
       "PFLU0013    htrB\n",
       "PFLU0015    trkA\n",
       "PFLU0016    rsmB\n",
       "Name: Gene Name, dtype: object"
      ]
     },
     "execution_count": 8,
     "metadata": {},
     "output_type": "execute_result"
    }
   ],
   "source": [
    "gene_names.head(10)"
   ]
  },
  {
   "cell_type": "code",
   "execution_count": 102,
   "metadata": {},
   "outputs": [],
   "source": [
    "okm_urls = pandas.Series(index=gene_names.index, data=[None]*len(gene_names))"
   ]
  },
  {
   "cell_type": "code",
   "execution_count": 281,
   "metadata": {},
   "outputs": [],
   "source": [
    "driver = webdriver.Firefox()"
   ]
  },
  {
   "cell_type": "code",
   "execution_count": 282,
   "metadata": {},
   "outputs": [],
   "source": [
    "driver.get('https://openknowledgemaps.org')"
   ]
  },
  {
   "cell_type": "code",
   "execution_count": 278,
   "metadata": {},
   "outputs": [],
   "source": [
    "def query_okm(gene):\n",
    "    idx = gene_names[gene_names==gene].index[0]\n",
    "    logging.info(\"Querying %s aka %s\", gene, idx)\n",
    "    search_box = driver.find_element_by_id(\"searchterm\")\n",
    "    search_box.clear()\n",
    "    search_box.send_keys(gene)\n",
    "                         \n",
    "    search_box.submit()\n",
    "    \n",
    "    driver.switch_to.window(window_name=driver.window_handles[1])\n",
    "    \n",
    "    try:\n",
    "        element = WebDriverWait(driver, 60).until(\n",
    "            expected_conditions.presence_of_element_located((By.ID, \"chart_canvas\"))\n",
    "        )\n",
    "    \n",
    "        get_okm(gene)\n",
    "    \n",
    "    except:\n",
    "        logging.error(\"No map found after waiting for 60 seconds\")\n",
    "        \n",
    "    finally:\n",
    "        driver.close()\n",
    "        driver.switch_to.window(window_name=driver.window_handles[0])\n",
    "    \n",
    "    "
   ]
  },
  {
   "cell_type": "code",
   "execution_count": 279,
   "metadata": {},
   "outputs": [],
   "source": [
    "def get_okm(gene):\n",
    "\n",
    "    okm_url = driver.current_url\n",
    "    logging.info(\"url = %s\", okm_url)\n",
    "    \n",
    "    idx = gene_names[gene_names==gene].index[0]\n",
    "    okm_urls.loc[idx] = okm_url\n",
    "        "
   ]
  },
  {
   "cell_type": "code",
   "execution_count": 286,
   "metadata": {},
   "outputs": [
    {
     "name": "stderr",
     "output_type": "stream",
     "text": [
      "INFO:root:Querying mdoG aka PFLU0373\n",
      "INFO:root:url = https://openknowledgemaps.org/map/577109df00879082b4801193b5a647c5\n",
      "INFO:root:Querying mdoH aka PFLU0374\n",
      "ERROR:root:No map found after waiting for 60 seconds\n",
      "INFO:root:Querying tatC aka PFLU0382\n",
      "INFO:root:url = https://openknowledgemaps.org/map/d3ae8d00b1401f0bb1cec12afd34a86c\n",
      "INFO:root:Querying tatB aka PFLU0383\n",
      "INFO:root:url = https://openknowledgemaps.org/map/dcba7941d6432fd49ae16ed8100f631b\n",
      "INFO:root:Querying tatA aka PFLU0384\n",
      "INFO:root:url = https://openknowledgemaps.org/map/9840a5ebdadaf358501f0506f77dd2a9\n",
      "INFO:root:Querying hisE aka PFLU0385\n",
      "INFO:root:url = https://openknowledgemaps.org/map/81e4b37d9fe1787c0884b8643dc5bee4\n",
      "INFO:root:Querying hisI aka PFLU0386\n",
      "INFO:root:url = https://openknowledgemaps.org/map/96884dffe80cd4529c8785957af036bc\n",
      "INFO:root:Querying ubiE aka PFLU0389\n",
      "INFO:root:url = https://openknowledgemaps.org/map/1a8e0094a2448183ee0ea8ef51f20c40\n",
      "INFO:root:Querying phaI aka PFLU0391\n",
      "INFO:root:url = https://openknowledgemaps.org/map/e0d32d709ef2c710b90a2c9c6bea655e\n",
      "INFO:root:Querying algP2 aka PFLU0392\n",
      "ERROR:root:No map found after waiting for 60 seconds\n",
      "INFO:root:Querying phaC aka PFLU0394\n",
      "INFO:root:url = https://openknowledgemaps.org/map/5732810f1fa46137a2073f925d56f434\n",
      "INFO:root:Querying phaB aka PFLU0395\n",
      "INFO:root:url = https://openknowledgemaps.org/map/8fbff0f61131e93c644b39125c26a94c\n",
      "INFO:root:Querying phaA aka PFLU0396\n",
      "INFO:root:url = https://openknowledgemaps.org/map/21c07da65a6ff507919d33ad618f1bac\n",
      "INFO:root:Querying hslU aka PFLU0398\n",
      "INFO:root:url = https://openknowledgemaps.org/map/3eaf83f9ba644e666741958e59b330d8\n",
      "INFO:root:Querying hslV aka PFLU0399\n",
      "INFO:root:url = https://openknowledgemaps.org/map/c45bbec603e449e0403f97e9923e4ad8\n",
      "INFO:root:Querying argS aka PFLU0401\n",
      "INFO:root:url = https://openknowledgemaps.org/map/ef1e5fb067b79cec5f76c1b3d74c6630\n",
      "INFO:root:Querying priA aka PFLU0402\n",
      "INFO:root:url = https://openknowledgemaps.org/map/a36225988f40f2641cf96dc987b75847\n",
      "INFO:root:Querying rpmE aka PFLU0403\n",
      "INFO:root:url = https://openknowledgemaps.org/map/6cef6e75ea9db875956a323f24e851df\n",
      "INFO:root:Querying aroK aka PFLU0411\n",
      "ERROR:root:No map found after waiting for 60 seconds\n",
      "INFO:root:Querying aroB aka PFLU0412\n",
      "INFO:root:url = https://openknowledgemaps.org/map/14b1c297066a5421b3389489808a728b\n",
      "INFO:root:Querying gltB aka PFLU0414\n",
      "INFO:root:url = https://openknowledgemaps.org/map/e421d514efa7c94a483b4eae98577dba\n",
      "INFO:root:Querying gltD aka PFLU0415\n",
      "INFO:root:url = https://openknowledgemaps.org/map/d9a1663a0eddfab1abdcddebc78b0705\n",
      "INFO:root:Querying hemE aka PFLU0416\n",
      "INFO:root:url = https://openknowledgemaps.org/map/f95f22e5222de45f948082ea8ff6fc0e\n",
      "INFO:root:Querying fabF aka PFLU0420\n",
      "INFO:root:url = https://openknowledgemaps.org/map/487ae8f2f41ccb4fc52df820220cdc79\n",
      "INFO:root:Querying fabG aka PFLU0421\n",
      "INFO:root:url = https://openknowledgemaps.org/map/6cf84d65297065cbb2628c3abf535af2\n",
      "INFO:root:Querying trxC aka PFLU0441\n",
      "INFO:root:url = https://openknowledgemaps.org/map/5e00e740e7d3ce28c52cea1d7aeece63\n",
      "INFO:root:Querying cvrA aka PFLU0446\n",
      "INFO:root:url = https://openknowledgemaps.org/map/14bf017f52bf49e1b243dc2195875171\n",
      "INFO:root:Querying putA aka PFLU0451\n",
      "INFO:root:url = https://openknowledgemaps.org/map/e03b52f2445292b6bbc78d0ac05790e7\n",
      "INFO:root:Querying putP aka PFLU0452\n",
      "INFO:root:url = https://openknowledgemaps.org/map/f567a2d61d7d9c2bbed183370ba71fc8\n",
      "INFO:root:Querying msrA aka PFLU0457\n",
      "INFO:root:url = https://openknowledgemaps.org/map/4108db109d94bbd9f4854a0199b39f27\n",
      "INFO:root:Querying aceF aka PFLU0459\n",
      "INFO:root:url = https://openknowledgemaps.org/map/ab90a3105a302f9282c4eed65b3d1862\n",
      "INFO:root:Querying aceE aka PFLU0460\n",
      "INFO:root:url = https://openknowledgemaps.org/map/3abe22fb6e56cbad7c30584292d7d907\n",
      "INFO:root:Querying rfaF aka PFLU0462\n",
      "INFO:root:url = https://openknowledgemaps.org/map/096504c895c80feb5f0d5f7f63a7e846\n",
      "INFO:root:Querying rfaC aka PFLU0463\n",
      "INFO:root:url = https://openknowledgemaps.org/map/9a17401778b06f5ef966e3890c98f5f2\n",
      "INFO:root:Querying rfaG aka PFLU0464\n",
      "INFO:root:url = https://openknowledgemaps.org/map/29a44cfd3027a9f7300d874119ad4141\n",
      "INFO:root:Querying rfaP aka PFLU0465\n",
      "INFO:root:url = https://openknowledgemaps.org/map/914ad2dc24701bd92f2f734799a34941\n",
      "INFO:root:Querying msbA aka PFLU0481\n",
      "INFO:root:url = https://openknowledgemaps.org/map/a5cc208754934554bdc32011dbb6188a\n",
      "INFO:root:Querying hldE aka PFLU0482\n",
      "INFO:root:url = https://openknowledgemaps.org/map/acade6a9afcb5e534d246b86cedc0225\n",
      "INFO:root:Querying qacE aka PFLU0488\n",
      "INFO:root:url = https://openknowledgemaps.org/map/2ec6b6f6ef22171cfae7229d22cfe8fe\n",
      "INFO:root:Querying kdtA aka PFLU0490\n",
      "INFO:root:url = https://openknowledgemaps.org/map/fe34a6bc59f45ce0e307b7411aa79174\n",
      "INFO:root:Querying thiC aka PFLU0492\n",
      "INFO:root:url = https://openknowledgemaps.org/map/cdfd61528ce7b33e0d3a240ae2ba11a8\n",
      "INFO:root:Querying parE aka PFLU0499\n",
      "INFO:root:url = https://openknowledgemaps.org/map/a0ed157422992ebae8d9cd80271dc0d3\n",
      "INFO:root:Querying parC aka PFLU0501\n",
      "INFO:root:url = https://openknowledgemaps.org/map/96b48e843f1dabbca69ab72381c2f851\n",
      "INFO:root:Querying psd aka PFLU0505\n",
      "INFO:root:url = https://openknowledgemaps.org/map/6b4931078d3feb8e809202b886c895f3\n",
      "INFO:root:Querying rhdA aka PFLU0506\n",
      "INFO:root:url = https://openknowledgemaps.org/map/d73d4e895532c92e4be42e8a4fbd9622\n",
      "INFO:root:Querying motA aka PFLU0508\n",
      "INFO:root:url = https://openknowledgemaps.org/map/4de12e315b4b5472b8cdc2f3d995bc43\n",
      "INFO:root:Querying motB aka PFLU0509\n",
      "INFO:root:url = https://openknowledgemaps.org/map/6dc8b052afa58101fee09c49e4180edb\n",
      "INFO:root:Querying orn aka PFLU0512\n",
      "INFO:root:url = https://openknowledgemaps.org/map/c243a3ac608249816870f4531e50e9f3\n",
      "INFO:root:Querying amiC aka PFLU0517\n",
      "INFO:root:url = https://openknowledgemaps.org/map/9adef7d3045929e0c7abba3a3f58c366\n",
      "INFO:root:Querying mutL aka PFLU0518\n",
      "INFO:root:url = https://openknowledgemaps.org/map/adac355281bb2a11eb48f21434c621b1\n",
      "INFO:root:Querying miaA aka PFLU0519\n",
      "INFO:root:url = https://openknowledgemaps.org/map/39d56cf60fc6c9dc062bd33f9af44247\n",
      "INFO:root:Querying hfq aka PFLU0520\n",
      "INFO:root:url = https://openknowledgemaps.org/map/c963cd953137c09f323a0b74883f7817\n",
      "INFO:root:Querying hflX aka PFLU0521\n",
      "INFO:root:url = https://openknowledgemaps.org/map/ae34c92857df80836a0a5e07f4d1a1aa\n",
      "INFO:root:Querying hisZ aka PFLU0524\n",
      "INFO:root:url = https://openknowledgemaps.org/map/e986f7c361c7eeecd7fba7709a7a42fd\n",
      "INFO:root:Querying purA aka PFLU0525\n",
      "INFO:root:url = https://openknowledgemaps.org/map/6dedb0a43f19b1e0480c3ba8c0dd3f5e\n",
      "INFO:root:Querying fbpB aka PFLU0527\n",
      "INFO:root:url = https://openknowledgemaps.org/map/6056e226124b83f38aea7f18dc53c6d6\n",
      "INFO:root:Querying rnr aka PFLU0530\n",
      "INFO:root:url = https://openknowledgemaps.org/map/0d506fbea7f08adac317b81cc3aa1c83\n",
      "INFO:root:Querying rlmB aka PFLU0531\n",
      "INFO:root:url = https://openknowledgemaps.org/map/211e6d7bc20dcc63d5faab568789b4ae\n",
      "INFO:root:Querying rpsF aka PFLU0533\n",
      "INFO:root:url = https://openknowledgemaps.org/map/983eef3f5b73d9c12e0ab75d66a982de\n",
      "INFO:root:Querying rpsR aka PFLU0534\n",
      "INFO:root:url = https://openknowledgemaps.org/map/8d0e496ae72e03a3318889e90ec8288c\n",
      "INFO:root:Querying rplI aka PFLU0536\n",
      "INFO:root:url = https://openknowledgemaps.org/map/853bcbc3cf4ac6d9df1ecc590607283a\n",
      "INFO:root:Querying dnaB aka PFLU0537\n",
      "INFO:root:url = https://openknowledgemaps.org/map/2da081bac7fc973f3bde34926d347192\n",
      "INFO:root:Querying azu aka PFLU0545\n",
      "INFO:root:url = https://openknowledgemaps.org/map/7a2f5c1ca9888d70378fb3d92d8ac23f\n",
      "INFO:root:Querying nadE aka PFLU0546\n",
      "INFO:root:url = https://openknowledgemaps.org/map/8ae3cd363faa64929504a9caea0d72e3\n",
      "INFO:root:Querying pncB aka PFLU0547\n",
      "INFO:root:url = https://openknowledgemaps.org/map/bd585c34659fcbc4f8ebfc3fe9a95124\n",
      "INFO:root:Querying livJ2 aka PFLU0551\n",
      "ERROR:root:No map found after waiting for 60 seconds\n",
      "INFO:root:Querying livH2 aka PFLU0553\n",
      "ERROR:root:No map found after waiting for 60 seconds\n",
      "INFO:root:Querying livM2 aka PFLU0554\n",
      "INFO:root:url = https://openknowledgemaps.org/map/04c458bef4f876e1be88bd2dc0e15697\n",
      "INFO:root:Querying livG2 aka PFLU0555\n",
      "ERROR:root:No map found after waiting for 60 seconds\n",
      "INFO:root:Querying livF2 aka PFLU0556\n",
      "ERROR:root:No map found after waiting for 60 seconds\n",
      "INFO:root:Querying ureG aka PFLU0561\n"
     ]
    },
    {
     "name": "stderr",
     "output_type": "stream",
     "text": [
      "INFO:root:url = https://openknowledgemaps.org/map/a4ec62c11a76455159c26cf554fe708b\n",
      "INFO:root:Querying ureE aka PFLU0563\n",
      "INFO:root:url = https://openknowledgemaps.org/map/b386727c75d6115bee4259872de7f7db\n",
      "INFO:root:Querying lipA aka PFLU0569\n",
      "INFO:root:url = https://openknowledgemaps.org/map/1a2d1e32ae5982fcb5d9b31ead2db493\n",
      "INFO:root:Querying psiF aka PFLU0572\n",
      "INFO:root:url = https://openknowledgemaps.org/map/1dc56d15b70ea6a1bca83a53b0d993dd\n",
      "INFO:root:Querying cbpA aka PFLU0575\n",
      "INFO:root:url = https://openknowledgemaps.org/map/35f62ede33c339fcd29cdc1a4ff2a93b\n",
      "INFO:root:Querying ureC aka PFLU0578\n",
      "INFO:root:url = https://openknowledgemaps.org/map/f9233f59b9e7f17bc3239cadb5c60815\n",
      "INFO:root:Querying ureB aka PFLU0579\n",
      "INFO:root:url = https://openknowledgemaps.org/map/aea4373f7bf329d2c5ad62d10bf395e6\n",
      "INFO:root:Querying ureA aka PFLU0582\n",
      "INFO:root:url = https://openknowledgemaps.org/map/cc6b2ca4a33a0f95c4385e9e2ea438e5\n",
      "INFO:root:Querying cobK aka PFLU0602\n",
      "INFO:root:url = https://openknowledgemaps.org/map/487dabb94ece178ce8a5e094821f36fe\n",
      "INFO:root:Querying cobL aka PFLU0603\n",
      "INFO:root:url = https://openknowledgemaps.org/map/9202729d54b4e5a260e73ca4d1f33eb8\n",
      "INFO:root:Querying cobH aka PFLU0605\n",
      "INFO:root:url = https://openknowledgemaps.org/map/6c81f8117a312f5c2b1760c70e39bff1\n",
      "INFO:root:Querying cobI aka PFLU0606\n",
      "INFO:root:url = https://openknowledgemaps.org/map/894cc92bbb3cfe90e9473d8b531db162\n",
      "INFO:root:Querying purD aka PFLU0611\n",
      "INFO:root:url = https://openknowledgemaps.org/map/dcd3d711a17aefe3debb437ac3b64911\n",
      "INFO:root:Querying purH aka PFLU0612\n",
      "INFO:root:url = https://openknowledgemaps.org/map/86f6d435511435ab403cf7e51a107f39\n",
      "INFO:root:Querying fis aka PFLU0613\n",
      "INFO:root:url = https://openknowledgemaps.org/map/b27d559cf1fd145c6d8aa0400eb1a785\n",
      "INFO:root:Querying dusB aka PFLU0614\n",
      "INFO:root:url = https://openknowledgemaps.org/map/cea5a075461355d7128c6c27b441cb7b\n",
      "INFO:root:Querying prmA aka PFLU0616\n",
      "INFO:root:url = https://openknowledgemaps.org/map/7a2bfe9356afac06b00848825c97e8b2\n",
      "INFO:root:Querying accC aka PFLU0617\n",
      "INFO:root:url = https://openknowledgemaps.org/map/1fa5c7e788259faf014a96964f9d1141\n",
      "INFO:root:Querying accB aka PFLU0618\n",
      "INFO:root:url = https://openknowledgemaps.org/map/0ccfe1745960d74b26185262ea4de80f\n",
      "INFO:root:Querying yqhS aka PFLU0619\n",
      "ERROR:root:No map found after waiting for 60 seconds\n",
      "INFO:root:Querying speA aka PFLU0626\n",
      "INFO:root:url = https://openknowledgemaps.org/map/50855bb774fb3ad9d255d42d11b12abf\n",
      "INFO:root:Querying dinF aka PFLU0628\n",
      "INFO:root:url = https://openknowledgemaps.org/map/b87e042fa1b663e8a2848c4f926b30c4\n",
      "INFO:root:Querying fabG aka PFLU0421\n",
      "INFO:root:url = https://openknowledgemaps.org/map/6cf84d65297065cbb2628c3abf535af2\n",
      "INFO:root:Querying cueR aka PFLU0657\n",
      "INFO:root:url = https://openknowledgemaps.org/map/33fd0933e3fe3c4c1fcb9c2c43b8519f\n",
      "INFO:root:Querying copA aka PFLU0658\n",
      "INFO:root:url = https://openknowledgemaps.org/map/f502543db8fc07f0f9f3ed4dd17139e2\n",
      "INFO:root:Querying mmsA aka PFLU0676\n",
      "INFO:root:url = https://openknowledgemaps.org/map/a0b4b7004e88eda9ff4c6f6bbf749350\n",
      "INFO:root:Querying cynT1 aka PFLU0686\n",
      "ERROR:root:No map found after waiting for 60 seconds\n",
      "INFO:root:Querying czcD aka PFLU0696\n",
      "INFO:root:url = https://openknowledgemaps.org/map/075bb7aa08353bc78aac5e82207d4a63\n",
      "INFO:root:Querying czcA aka PFLU0699\n",
      "INFO:root:url = https://openknowledgemaps.org/map/39890fbe61cfe8319835dc05cf744adb\n",
      "INFO:root:Querying czcR aka PFLU0701\n",
      "INFO:root:url = https://openknowledgemaps.org/map/a49c9ebd0d6de26e6fe04f0efda4d223\n"
     ]
    }
   ],
   "source": [
    "for i in range(100,200):\n",
    "    gn = gene_names.iloc[i]\n",
    "    query_okm(gn)"
   ]
  },
  {
   "cell_type": "code",
   "execution_count": 287,
   "metadata": {},
   "outputs": [
    {
     "name": "stderr",
     "output_type": "stream",
     "text": [
      "INFO:root:Querying ddl aka PFLU0706\n",
      "ERROR:root:No map found after waiting for 60 seconds\n",
      "WARNING:urllib3.connectionpool:Retrying (Retry(total=2, connect=None, read=None, redirect=None, status=None)) after connection broken by 'ProtocolError('Connection aborted.', ConnectionResetError(104, 'Connection reset by peer'))': /session/bea6fc9e-e608-4f08-9076-b7fc81ddd350/window\n",
      "WARNING:urllib3.connectionpool:Retrying (Retry(total=1, connect=None, read=None, redirect=None, status=None)) after connection broken by 'NewConnectionError('<urllib3.connection.HTTPConnection object at 0x7f6fac2e7748>: Failed to establish a new connection: [Errno 111] Connection refused')': /session/bea6fc9e-e608-4f08-9076-b7fc81ddd350/window\n",
      "WARNING:urllib3.connectionpool:Retrying (Retry(total=0, connect=None, read=None, redirect=None, status=None)) after connection broken by 'NewConnectionError('<urllib3.connection.HTTPConnection object at 0x7f6fac2e7198>: Failed to establish a new connection: [Errno 111] Connection refused')': /session/bea6fc9e-e608-4f08-9076-b7fc81ddd350/window\n"
     ]
    },
    {
     "ename": "MaxRetryError",
     "evalue": "HTTPConnectionPool(host='127.0.0.1', port=32897): Max retries exceeded with url: /session/bea6fc9e-e608-4f08-9076-b7fc81ddd350/window (Caused by NewConnectionError('<urllib3.connection.HTTPConnection object at 0x7f6fac2e7fd0>: Failed to establish a new connection: [Errno 111] Connection refused'))",
     "output_type": "error",
     "traceback": [
      "\u001b[0;31m---------------------------------------------------------------------------\u001b[0m",
      "\u001b[0;31mConnectionRefusedError\u001b[0m                    Traceback (most recent call last)",
      "\u001b[0;32m~/pflu_sbw25/GenDBScraper/devenv/lib/python3.7/site-packages/urllib3/connection.py\u001b[0m in \u001b[0;36m_new_conn\u001b[0;34m(self)\u001b[0m\n\u001b[1;32m    158\u001b[0m             conn = connection.create_connection(\n\u001b[0;32m--> 159\u001b[0;31m                 (self._dns_host, self.port), self.timeout, **extra_kw)\n\u001b[0m\u001b[1;32m    160\u001b[0m \u001b[0;34m\u001b[0m\u001b[0m\n",
      "\u001b[0;32m~/pflu_sbw25/GenDBScraper/devenv/lib/python3.7/site-packages/urllib3/util/connection.py\u001b[0m in \u001b[0;36mcreate_connection\u001b[0;34m(address, timeout, source_address, socket_options)\u001b[0m\n\u001b[1;32m     79\u001b[0m     \u001b[0;32mif\u001b[0m \u001b[0merr\u001b[0m \u001b[0;32mis\u001b[0m \u001b[0;32mnot\u001b[0m \u001b[0;32mNone\u001b[0m\u001b[0;34m:\u001b[0m\u001b[0;34m\u001b[0m\u001b[0;34m\u001b[0m\u001b[0m\n\u001b[0;32m---> 80\u001b[0;31m         \u001b[0;32mraise\u001b[0m \u001b[0merr\u001b[0m\u001b[0;34m\u001b[0m\u001b[0;34m\u001b[0m\u001b[0m\n\u001b[0m\u001b[1;32m     81\u001b[0m \u001b[0;34m\u001b[0m\u001b[0m\n",
      "\u001b[0;32m~/pflu_sbw25/GenDBScraper/devenv/lib/python3.7/site-packages/urllib3/util/connection.py\u001b[0m in \u001b[0;36mcreate_connection\u001b[0;34m(address, timeout, source_address, socket_options)\u001b[0m\n\u001b[1;32m     69\u001b[0m                 \u001b[0msock\u001b[0m\u001b[0;34m.\u001b[0m\u001b[0mbind\u001b[0m\u001b[0;34m(\u001b[0m\u001b[0msource_address\u001b[0m\u001b[0;34m)\u001b[0m\u001b[0;34m\u001b[0m\u001b[0;34m\u001b[0m\u001b[0m\n\u001b[0;32m---> 70\u001b[0;31m             \u001b[0msock\u001b[0m\u001b[0;34m.\u001b[0m\u001b[0mconnect\u001b[0m\u001b[0;34m(\u001b[0m\u001b[0msa\u001b[0m\u001b[0;34m)\u001b[0m\u001b[0;34m\u001b[0m\u001b[0;34m\u001b[0m\u001b[0m\n\u001b[0m\u001b[1;32m     71\u001b[0m             \u001b[0;32mreturn\u001b[0m \u001b[0msock\u001b[0m\u001b[0;34m\u001b[0m\u001b[0;34m\u001b[0m\u001b[0m\n",
      "\u001b[0;31mConnectionRefusedError\u001b[0m: [Errno 111] Connection refused",
      "\nDuring handling of the above exception, another exception occurred:\n",
      "\u001b[0;31mNewConnectionError\u001b[0m                        Traceback (most recent call last)",
      "\u001b[0;32m~/pflu_sbw25/GenDBScraper/devenv/lib/python3.7/site-packages/urllib3/connectionpool.py\u001b[0m in \u001b[0;36murlopen\u001b[0;34m(self, method, url, body, headers, retries, redirect, assert_same_host, timeout, pool_timeout, release_conn, chunked, body_pos, **response_kw)\u001b[0m\n\u001b[1;32m    599\u001b[0m                                                   \u001b[0mbody\u001b[0m\u001b[0;34m=\u001b[0m\u001b[0mbody\u001b[0m\u001b[0;34m,\u001b[0m \u001b[0mheaders\u001b[0m\u001b[0;34m=\u001b[0m\u001b[0mheaders\u001b[0m\u001b[0;34m,\u001b[0m\u001b[0;34m\u001b[0m\u001b[0;34m\u001b[0m\u001b[0m\n\u001b[0;32m--> 600\u001b[0;31m                                                   chunked=chunked)\n\u001b[0m\u001b[1;32m    601\u001b[0m \u001b[0;34m\u001b[0m\u001b[0m\n",
      "\u001b[0;32m~/pflu_sbw25/GenDBScraper/devenv/lib/python3.7/site-packages/urllib3/connectionpool.py\u001b[0m in \u001b[0;36m_make_request\u001b[0;34m(self, conn, method, url, timeout, chunked, **httplib_request_kw)\u001b[0m\n\u001b[1;32m    353\u001b[0m         \u001b[0;32melse\u001b[0m\u001b[0;34m:\u001b[0m\u001b[0;34m\u001b[0m\u001b[0;34m\u001b[0m\u001b[0m\n\u001b[0;32m--> 354\u001b[0;31m             \u001b[0mconn\u001b[0m\u001b[0;34m.\u001b[0m\u001b[0mrequest\u001b[0m\u001b[0;34m(\u001b[0m\u001b[0mmethod\u001b[0m\u001b[0;34m,\u001b[0m \u001b[0murl\u001b[0m\u001b[0;34m,\u001b[0m \u001b[0;34m**\u001b[0m\u001b[0mhttplib_request_kw\u001b[0m\u001b[0;34m)\u001b[0m\u001b[0;34m\u001b[0m\u001b[0;34m\u001b[0m\u001b[0m\n\u001b[0m\u001b[1;32m    355\u001b[0m \u001b[0;34m\u001b[0m\u001b[0m\n",
      "\u001b[0;32m~/pflu_sbw25/GenDBScraper/devenv/lib/python3.7/http/client.py\u001b[0m in \u001b[0;36mrequest\u001b[0;34m(self, method, url, body, headers, encode_chunked)\u001b[0m\n\u001b[1;32m   1228\u001b[0m         \u001b[0;34m\"\"\"Send a complete request to the server.\"\"\"\u001b[0m\u001b[0;34m\u001b[0m\u001b[0;34m\u001b[0m\u001b[0m\n\u001b[0;32m-> 1229\u001b[0;31m         \u001b[0mself\u001b[0m\u001b[0;34m.\u001b[0m\u001b[0m_send_request\u001b[0m\u001b[0;34m(\u001b[0m\u001b[0mmethod\u001b[0m\u001b[0;34m,\u001b[0m \u001b[0murl\u001b[0m\u001b[0;34m,\u001b[0m \u001b[0mbody\u001b[0m\u001b[0;34m,\u001b[0m \u001b[0mheaders\u001b[0m\u001b[0;34m,\u001b[0m \u001b[0mencode_chunked\u001b[0m\u001b[0;34m)\u001b[0m\u001b[0;34m\u001b[0m\u001b[0;34m\u001b[0m\u001b[0m\n\u001b[0m\u001b[1;32m   1230\u001b[0m \u001b[0;34m\u001b[0m\u001b[0m\n",
      "\u001b[0;32m~/pflu_sbw25/GenDBScraper/devenv/lib/python3.7/http/client.py\u001b[0m in \u001b[0;36m_send_request\u001b[0;34m(self, method, url, body, headers, encode_chunked)\u001b[0m\n\u001b[1;32m   1274\u001b[0m             \u001b[0mbody\u001b[0m \u001b[0;34m=\u001b[0m \u001b[0m_encode\u001b[0m\u001b[0;34m(\u001b[0m\u001b[0mbody\u001b[0m\u001b[0;34m,\u001b[0m \u001b[0;34m'body'\u001b[0m\u001b[0;34m)\u001b[0m\u001b[0;34m\u001b[0m\u001b[0;34m\u001b[0m\u001b[0m\n\u001b[0;32m-> 1275\u001b[0;31m         \u001b[0mself\u001b[0m\u001b[0;34m.\u001b[0m\u001b[0mendheaders\u001b[0m\u001b[0;34m(\u001b[0m\u001b[0mbody\u001b[0m\u001b[0;34m,\u001b[0m \u001b[0mencode_chunked\u001b[0m\u001b[0;34m=\u001b[0m\u001b[0mencode_chunked\u001b[0m\u001b[0;34m)\u001b[0m\u001b[0;34m\u001b[0m\u001b[0;34m\u001b[0m\u001b[0m\n\u001b[0m\u001b[1;32m   1276\u001b[0m \u001b[0;34m\u001b[0m\u001b[0m\n",
      "\u001b[0;32m~/pflu_sbw25/GenDBScraper/devenv/lib/python3.7/http/client.py\u001b[0m in \u001b[0;36mendheaders\u001b[0;34m(self, message_body, encode_chunked)\u001b[0m\n\u001b[1;32m   1223\u001b[0m             \u001b[0;32mraise\u001b[0m \u001b[0mCannotSendHeader\u001b[0m\u001b[0;34m(\u001b[0m\u001b[0;34m)\u001b[0m\u001b[0;34m\u001b[0m\u001b[0;34m\u001b[0m\u001b[0m\n\u001b[0;32m-> 1224\u001b[0;31m         \u001b[0mself\u001b[0m\u001b[0;34m.\u001b[0m\u001b[0m_send_output\u001b[0m\u001b[0;34m(\u001b[0m\u001b[0mmessage_body\u001b[0m\u001b[0;34m,\u001b[0m \u001b[0mencode_chunked\u001b[0m\u001b[0;34m=\u001b[0m\u001b[0mencode_chunked\u001b[0m\u001b[0;34m)\u001b[0m\u001b[0;34m\u001b[0m\u001b[0;34m\u001b[0m\u001b[0m\n\u001b[0m\u001b[1;32m   1225\u001b[0m \u001b[0;34m\u001b[0m\u001b[0m\n",
      "\u001b[0;32m~/pflu_sbw25/GenDBScraper/devenv/lib/python3.7/http/client.py\u001b[0m in \u001b[0;36m_send_output\u001b[0;34m(self, message_body, encode_chunked)\u001b[0m\n\u001b[1;32m   1015\u001b[0m         \u001b[0;32mdel\u001b[0m \u001b[0mself\u001b[0m\u001b[0;34m.\u001b[0m\u001b[0m_buffer\u001b[0m\u001b[0;34m[\u001b[0m\u001b[0;34m:\u001b[0m\u001b[0;34m]\u001b[0m\u001b[0;34m\u001b[0m\u001b[0;34m\u001b[0m\u001b[0m\n\u001b[0;32m-> 1016\u001b[0;31m         \u001b[0mself\u001b[0m\u001b[0;34m.\u001b[0m\u001b[0msend\u001b[0m\u001b[0;34m(\u001b[0m\u001b[0mmsg\u001b[0m\u001b[0;34m)\u001b[0m\u001b[0;34m\u001b[0m\u001b[0;34m\u001b[0m\u001b[0m\n\u001b[0m\u001b[1;32m   1017\u001b[0m \u001b[0;34m\u001b[0m\u001b[0m\n",
      "\u001b[0;32m~/pflu_sbw25/GenDBScraper/devenv/lib/python3.7/http/client.py\u001b[0m in \u001b[0;36msend\u001b[0;34m(self, data)\u001b[0m\n\u001b[1;32m    955\u001b[0m             \u001b[0;32mif\u001b[0m \u001b[0mself\u001b[0m\u001b[0;34m.\u001b[0m\u001b[0mauto_open\u001b[0m\u001b[0;34m:\u001b[0m\u001b[0;34m\u001b[0m\u001b[0;34m\u001b[0m\u001b[0m\n\u001b[0;32m--> 956\u001b[0;31m                 \u001b[0mself\u001b[0m\u001b[0;34m.\u001b[0m\u001b[0mconnect\u001b[0m\u001b[0;34m(\u001b[0m\u001b[0;34m)\u001b[0m\u001b[0;34m\u001b[0m\u001b[0;34m\u001b[0m\u001b[0m\n\u001b[0m\u001b[1;32m    957\u001b[0m             \u001b[0;32melse\u001b[0m\u001b[0;34m:\u001b[0m\u001b[0;34m\u001b[0m\u001b[0;34m\u001b[0m\u001b[0m\n",
      "\u001b[0;32m~/pflu_sbw25/GenDBScraper/devenv/lib/python3.7/site-packages/urllib3/connection.py\u001b[0m in \u001b[0;36mconnect\u001b[0;34m(self)\u001b[0m\n\u001b[1;32m    180\u001b[0m     \u001b[0;32mdef\u001b[0m \u001b[0mconnect\u001b[0m\u001b[0;34m(\u001b[0m\u001b[0mself\u001b[0m\u001b[0;34m)\u001b[0m\u001b[0;34m:\u001b[0m\u001b[0;34m\u001b[0m\u001b[0;34m\u001b[0m\u001b[0m\n\u001b[0;32m--> 181\u001b[0;31m         \u001b[0mconn\u001b[0m \u001b[0;34m=\u001b[0m \u001b[0mself\u001b[0m\u001b[0;34m.\u001b[0m\u001b[0m_new_conn\u001b[0m\u001b[0;34m(\u001b[0m\u001b[0;34m)\u001b[0m\u001b[0;34m\u001b[0m\u001b[0;34m\u001b[0m\u001b[0m\n\u001b[0m\u001b[1;32m    182\u001b[0m         \u001b[0mself\u001b[0m\u001b[0;34m.\u001b[0m\u001b[0m_prepare_conn\u001b[0m\u001b[0;34m(\u001b[0m\u001b[0mconn\u001b[0m\u001b[0;34m)\u001b[0m\u001b[0;34m\u001b[0m\u001b[0;34m\u001b[0m\u001b[0m\n",
      "\u001b[0;32m~/pflu_sbw25/GenDBScraper/devenv/lib/python3.7/site-packages/urllib3/connection.py\u001b[0m in \u001b[0;36m_new_conn\u001b[0;34m(self)\u001b[0m\n\u001b[1;32m    167\u001b[0m             raise NewConnectionError(\n\u001b[0;32m--> 168\u001b[0;31m                 self, \"Failed to establish a new connection: %s\" % e)\n\u001b[0m\u001b[1;32m    169\u001b[0m \u001b[0;34m\u001b[0m\u001b[0m\n",
      "\u001b[0;31mNewConnectionError\u001b[0m: <urllib3.connection.HTTPConnection object at 0x7f6fac2e7fd0>: Failed to establish a new connection: [Errno 111] Connection refused",
      "\nDuring handling of the above exception, another exception occurred:\n",
      "\u001b[0;31mMaxRetryError\u001b[0m                             Traceback (most recent call last)",
      "\u001b[0;32m<ipython-input-287-987a3d5065b2>\u001b[0m in \u001b[0;36m<module>\u001b[0;34m\u001b[0m\n\u001b[1;32m      1\u001b[0m \u001b[0;32mfor\u001b[0m \u001b[0mi\u001b[0m \u001b[0;32min\u001b[0m \u001b[0mrange\u001b[0m\u001b[0;34m(\u001b[0m\u001b[0;36m200\u001b[0m\u001b[0;34m,\u001b[0m\u001b[0mlen\u001b[0m\u001b[0;34m(\u001b[0m\u001b[0mgene_names\u001b[0m\u001b[0;34m)\u001b[0m\u001b[0;34m)\u001b[0m\u001b[0;34m:\u001b[0m\u001b[0;34m\u001b[0m\u001b[0;34m\u001b[0m\u001b[0m\n\u001b[1;32m      2\u001b[0m     \u001b[0mgn\u001b[0m \u001b[0;34m=\u001b[0m \u001b[0mgene_names\u001b[0m\u001b[0;34m.\u001b[0m\u001b[0miloc\u001b[0m\u001b[0;34m[\u001b[0m\u001b[0mi\u001b[0m\u001b[0;34m]\u001b[0m\u001b[0;34m\u001b[0m\u001b[0;34m\u001b[0m\u001b[0m\n\u001b[0;32m----> 3\u001b[0;31m     \u001b[0mquery_okm\u001b[0m\u001b[0;34m(\u001b[0m\u001b[0mgn\u001b[0m\u001b[0;34m)\u001b[0m\u001b[0;34m\u001b[0m\u001b[0;34m\u001b[0m\u001b[0m\n\u001b[0m",
      "\u001b[0;32m<ipython-input-278-666be4777352>\u001b[0m in \u001b[0;36mquery_okm\u001b[0;34m(gene)\u001b[0m\n\u001b[1;32m     21\u001b[0m \u001b[0;34m\u001b[0m\u001b[0m\n\u001b[1;32m     22\u001b[0m     \u001b[0;32mfinally\u001b[0m\u001b[0;34m:\u001b[0m\u001b[0;34m\u001b[0m\u001b[0;34m\u001b[0m\u001b[0m\n\u001b[0;32m---> 23\u001b[0;31m         \u001b[0mdriver\u001b[0m\u001b[0;34m.\u001b[0m\u001b[0mclose\u001b[0m\u001b[0;34m(\u001b[0m\u001b[0;34m)\u001b[0m\u001b[0;34m\u001b[0m\u001b[0;34m\u001b[0m\u001b[0m\n\u001b[0m\u001b[1;32m     24\u001b[0m         \u001b[0mdriver\u001b[0m\u001b[0;34m.\u001b[0m\u001b[0mswitch_to\u001b[0m\u001b[0;34m.\u001b[0m\u001b[0mwindow\u001b[0m\u001b[0;34m(\u001b[0m\u001b[0mwindow_name\u001b[0m\u001b[0;34m=\u001b[0m\u001b[0mdriver\u001b[0m\u001b[0;34m.\u001b[0m\u001b[0mwindow_handles\u001b[0m\u001b[0;34m[\u001b[0m\u001b[0;36m0\u001b[0m\u001b[0;34m]\u001b[0m\u001b[0;34m)\u001b[0m\u001b[0;34m\u001b[0m\u001b[0;34m\u001b[0m\u001b[0m\n\u001b[1;32m     25\u001b[0m \u001b[0;34m\u001b[0m\u001b[0m\n",
      "\u001b[0;32m~/pflu_sbw25/GenDBScraper/devenv/lib/python3.7/site-packages/selenium/webdriver/remote/webdriver.py\u001b[0m in \u001b[0;36mclose\u001b[0;34m(self)\u001b[0m\n\u001b[1;32m    686\u001b[0m             \u001b[0mdriver\u001b[0m\u001b[0;34m.\u001b[0m\u001b[0mclose\u001b[0m\u001b[0;34m(\u001b[0m\u001b[0;34m)\u001b[0m\u001b[0;34m\u001b[0m\u001b[0;34m\u001b[0m\u001b[0m\n\u001b[1;32m    687\u001b[0m         \"\"\"\n\u001b[0;32m--> 688\u001b[0;31m         \u001b[0mself\u001b[0m\u001b[0;34m.\u001b[0m\u001b[0mexecute\u001b[0m\u001b[0;34m(\u001b[0m\u001b[0mCommand\u001b[0m\u001b[0;34m.\u001b[0m\u001b[0mCLOSE\u001b[0m\u001b[0;34m)\u001b[0m\u001b[0;34m\u001b[0m\u001b[0;34m\u001b[0m\u001b[0m\n\u001b[0m\u001b[1;32m    689\u001b[0m \u001b[0;34m\u001b[0m\u001b[0m\n\u001b[1;32m    690\u001b[0m     \u001b[0;32mdef\u001b[0m \u001b[0mquit\u001b[0m\u001b[0;34m(\u001b[0m\u001b[0mself\u001b[0m\u001b[0;34m)\u001b[0m\u001b[0;34m:\u001b[0m\u001b[0;34m\u001b[0m\u001b[0;34m\u001b[0m\u001b[0m\n",
      "\u001b[0;32m~/pflu_sbw25/GenDBScraper/devenv/lib/python3.7/site-packages/selenium/webdriver/remote/webdriver.py\u001b[0m in \u001b[0;36mexecute\u001b[0;34m(self, driver_command, params)\u001b[0m\n\u001b[1;32m    317\u001b[0m \u001b[0;34m\u001b[0m\u001b[0m\n\u001b[1;32m    318\u001b[0m         \u001b[0mparams\u001b[0m \u001b[0;34m=\u001b[0m \u001b[0mself\u001b[0m\u001b[0;34m.\u001b[0m\u001b[0m_wrap_value\u001b[0m\u001b[0;34m(\u001b[0m\u001b[0mparams\u001b[0m\u001b[0;34m)\u001b[0m\u001b[0;34m\u001b[0m\u001b[0;34m\u001b[0m\u001b[0m\n\u001b[0;32m--> 319\u001b[0;31m         \u001b[0mresponse\u001b[0m \u001b[0;34m=\u001b[0m \u001b[0mself\u001b[0m\u001b[0;34m.\u001b[0m\u001b[0mcommand_executor\u001b[0m\u001b[0;34m.\u001b[0m\u001b[0mexecute\u001b[0m\u001b[0;34m(\u001b[0m\u001b[0mdriver_command\u001b[0m\u001b[0;34m,\u001b[0m \u001b[0mparams\u001b[0m\u001b[0;34m)\u001b[0m\u001b[0;34m\u001b[0m\u001b[0;34m\u001b[0m\u001b[0m\n\u001b[0m\u001b[1;32m    320\u001b[0m         \u001b[0;32mif\u001b[0m \u001b[0mresponse\u001b[0m\u001b[0;34m:\u001b[0m\u001b[0;34m\u001b[0m\u001b[0;34m\u001b[0m\u001b[0m\n\u001b[1;32m    321\u001b[0m             \u001b[0mself\u001b[0m\u001b[0;34m.\u001b[0m\u001b[0merror_handler\u001b[0m\u001b[0;34m.\u001b[0m\u001b[0mcheck_response\u001b[0m\u001b[0;34m(\u001b[0m\u001b[0mresponse\u001b[0m\u001b[0;34m)\u001b[0m\u001b[0;34m\u001b[0m\u001b[0;34m\u001b[0m\u001b[0m\n",
      "\u001b[0;32m~/pflu_sbw25/GenDBScraper/devenv/lib/python3.7/site-packages/selenium/webdriver/remote/remote_connection.py\u001b[0m in \u001b[0;36mexecute\u001b[0;34m(self, command, params)\u001b[0m\n\u001b[1;32m    372\u001b[0m         \u001b[0mdata\u001b[0m \u001b[0;34m=\u001b[0m \u001b[0mutils\u001b[0m\u001b[0;34m.\u001b[0m\u001b[0mdump_json\u001b[0m\u001b[0;34m(\u001b[0m\u001b[0mparams\u001b[0m\u001b[0;34m)\u001b[0m\u001b[0;34m\u001b[0m\u001b[0;34m\u001b[0m\u001b[0m\n\u001b[1;32m    373\u001b[0m         \u001b[0murl\u001b[0m \u001b[0;34m=\u001b[0m \u001b[0;34m'%s%s'\u001b[0m \u001b[0;34m%\u001b[0m \u001b[0;34m(\u001b[0m\u001b[0mself\u001b[0m\u001b[0;34m.\u001b[0m\u001b[0m_url\u001b[0m\u001b[0;34m,\u001b[0m \u001b[0mpath\u001b[0m\u001b[0;34m)\u001b[0m\u001b[0;34m\u001b[0m\u001b[0;34m\u001b[0m\u001b[0m\n\u001b[0;32m--> 374\u001b[0;31m         \u001b[0;32mreturn\u001b[0m \u001b[0mself\u001b[0m\u001b[0;34m.\u001b[0m\u001b[0m_request\u001b[0m\u001b[0;34m(\u001b[0m\u001b[0mcommand_info\u001b[0m\u001b[0;34m[\u001b[0m\u001b[0;36m0\u001b[0m\u001b[0;34m]\u001b[0m\u001b[0;34m,\u001b[0m \u001b[0murl\u001b[0m\u001b[0;34m,\u001b[0m \u001b[0mbody\u001b[0m\u001b[0;34m=\u001b[0m\u001b[0mdata\u001b[0m\u001b[0;34m)\u001b[0m\u001b[0;34m\u001b[0m\u001b[0;34m\u001b[0m\u001b[0m\n\u001b[0m\u001b[1;32m    375\u001b[0m \u001b[0;34m\u001b[0m\u001b[0m\n\u001b[1;32m    376\u001b[0m     \u001b[0;32mdef\u001b[0m \u001b[0m_request\u001b[0m\u001b[0;34m(\u001b[0m\u001b[0mself\u001b[0m\u001b[0;34m,\u001b[0m \u001b[0mmethod\u001b[0m\u001b[0;34m,\u001b[0m \u001b[0murl\u001b[0m\u001b[0;34m,\u001b[0m \u001b[0mbody\u001b[0m\u001b[0;34m=\u001b[0m\u001b[0;32mNone\u001b[0m\u001b[0;34m)\u001b[0m\u001b[0;34m:\u001b[0m\u001b[0;34m\u001b[0m\u001b[0;34m\u001b[0m\u001b[0m\n",
      "\u001b[0;32m~/pflu_sbw25/GenDBScraper/devenv/lib/python3.7/site-packages/selenium/webdriver/remote/remote_connection.py\u001b[0m in \u001b[0;36m_request\u001b[0;34m(self, method, url, body)\u001b[0m\n\u001b[1;32m    395\u001b[0m \u001b[0;34m\u001b[0m\u001b[0m\n\u001b[1;32m    396\u001b[0m         \u001b[0;32mif\u001b[0m \u001b[0mself\u001b[0m\u001b[0;34m.\u001b[0m\u001b[0mkeep_alive\u001b[0m\u001b[0;34m:\u001b[0m\u001b[0;34m\u001b[0m\u001b[0;34m\u001b[0m\u001b[0m\n\u001b[0;32m--> 397\u001b[0;31m             \u001b[0mresp\u001b[0m \u001b[0;34m=\u001b[0m \u001b[0mself\u001b[0m\u001b[0;34m.\u001b[0m\u001b[0m_conn\u001b[0m\u001b[0;34m.\u001b[0m\u001b[0mrequest\u001b[0m\u001b[0;34m(\u001b[0m\u001b[0mmethod\u001b[0m\u001b[0;34m,\u001b[0m \u001b[0murl\u001b[0m\u001b[0;34m,\u001b[0m \u001b[0mbody\u001b[0m\u001b[0;34m=\u001b[0m\u001b[0mbody\u001b[0m\u001b[0;34m,\u001b[0m \u001b[0mheaders\u001b[0m\u001b[0;34m=\u001b[0m\u001b[0mheaders\u001b[0m\u001b[0;34m)\u001b[0m\u001b[0;34m\u001b[0m\u001b[0;34m\u001b[0m\u001b[0m\n\u001b[0m\u001b[1;32m    398\u001b[0m \u001b[0;34m\u001b[0m\u001b[0m\n\u001b[1;32m    399\u001b[0m             \u001b[0mstatuscode\u001b[0m \u001b[0;34m=\u001b[0m \u001b[0mresp\u001b[0m\u001b[0;34m.\u001b[0m\u001b[0mstatus\u001b[0m\u001b[0;34m\u001b[0m\u001b[0;34m\u001b[0m\u001b[0m\n",
      "\u001b[0;32m~/pflu_sbw25/GenDBScraper/devenv/lib/python3.7/site-packages/urllib3/request.py\u001b[0m in \u001b[0;36mrequest\u001b[0;34m(self, method, url, fields, headers, **urlopen_kw)\u001b[0m\n\u001b[1;32m     66\u001b[0m             return self.request_encode_url(method, url, fields=fields,\n\u001b[1;32m     67\u001b[0m                                            \u001b[0mheaders\u001b[0m\u001b[0;34m=\u001b[0m\u001b[0mheaders\u001b[0m\u001b[0;34m,\u001b[0m\u001b[0;34m\u001b[0m\u001b[0;34m\u001b[0m\u001b[0m\n\u001b[0;32m---> 68\u001b[0;31m                                            **urlopen_kw)\n\u001b[0m\u001b[1;32m     69\u001b[0m         \u001b[0;32melse\u001b[0m\u001b[0;34m:\u001b[0m\u001b[0;34m\u001b[0m\u001b[0;34m\u001b[0m\u001b[0m\n\u001b[1;32m     70\u001b[0m             return self.request_encode_body(method, url, fields=fields,\n",
      "\u001b[0;32m~/pflu_sbw25/GenDBScraper/devenv/lib/python3.7/site-packages/urllib3/request.py\u001b[0m in \u001b[0;36mrequest_encode_url\u001b[0;34m(self, method, url, fields, headers, **urlopen_kw)\u001b[0m\n\u001b[1;32m     87\u001b[0m             \u001b[0murl\u001b[0m \u001b[0;34m+=\u001b[0m \u001b[0;34m'?'\u001b[0m \u001b[0;34m+\u001b[0m \u001b[0murlencode\u001b[0m\u001b[0;34m(\u001b[0m\u001b[0mfields\u001b[0m\u001b[0;34m)\u001b[0m\u001b[0;34m\u001b[0m\u001b[0;34m\u001b[0m\u001b[0m\n\u001b[1;32m     88\u001b[0m \u001b[0;34m\u001b[0m\u001b[0m\n\u001b[0;32m---> 89\u001b[0;31m         \u001b[0;32mreturn\u001b[0m \u001b[0mself\u001b[0m\u001b[0;34m.\u001b[0m\u001b[0murlopen\u001b[0m\u001b[0;34m(\u001b[0m\u001b[0mmethod\u001b[0m\u001b[0;34m,\u001b[0m \u001b[0murl\u001b[0m\u001b[0;34m,\u001b[0m \u001b[0;34m**\u001b[0m\u001b[0mextra_kw\u001b[0m\u001b[0;34m)\u001b[0m\u001b[0;34m\u001b[0m\u001b[0;34m\u001b[0m\u001b[0m\n\u001b[0m\u001b[1;32m     90\u001b[0m \u001b[0;34m\u001b[0m\u001b[0m\n\u001b[1;32m     91\u001b[0m     def request_encode_body(self, method, url, fields=None, headers=None,\n",
      "\u001b[0;32m~/pflu_sbw25/GenDBScraper/devenv/lib/python3.7/site-packages/urllib3/poolmanager.py\u001b[0m in \u001b[0;36murlopen\u001b[0;34m(self, method, url, redirect, **kw)\u001b[0m\n\u001b[1;32m    321\u001b[0m             \u001b[0mresponse\u001b[0m \u001b[0;34m=\u001b[0m \u001b[0mconn\u001b[0m\u001b[0;34m.\u001b[0m\u001b[0murlopen\u001b[0m\u001b[0;34m(\u001b[0m\u001b[0mmethod\u001b[0m\u001b[0;34m,\u001b[0m \u001b[0murl\u001b[0m\u001b[0;34m,\u001b[0m \u001b[0;34m**\u001b[0m\u001b[0mkw\u001b[0m\u001b[0;34m)\u001b[0m\u001b[0;34m\u001b[0m\u001b[0;34m\u001b[0m\u001b[0m\n\u001b[1;32m    322\u001b[0m         \u001b[0;32melse\u001b[0m\u001b[0;34m:\u001b[0m\u001b[0;34m\u001b[0m\u001b[0;34m\u001b[0m\u001b[0m\n\u001b[0;32m--> 323\u001b[0;31m             \u001b[0mresponse\u001b[0m \u001b[0;34m=\u001b[0m \u001b[0mconn\u001b[0m\u001b[0;34m.\u001b[0m\u001b[0murlopen\u001b[0m\u001b[0;34m(\u001b[0m\u001b[0mmethod\u001b[0m\u001b[0;34m,\u001b[0m \u001b[0mu\u001b[0m\u001b[0;34m.\u001b[0m\u001b[0mrequest_uri\u001b[0m\u001b[0;34m,\u001b[0m \u001b[0;34m**\u001b[0m\u001b[0mkw\u001b[0m\u001b[0;34m)\u001b[0m\u001b[0;34m\u001b[0m\u001b[0;34m\u001b[0m\u001b[0m\n\u001b[0m\u001b[1;32m    324\u001b[0m \u001b[0;34m\u001b[0m\u001b[0m\n\u001b[1;32m    325\u001b[0m         \u001b[0mredirect_location\u001b[0m \u001b[0;34m=\u001b[0m \u001b[0mredirect\u001b[0m \u001b[0;32mand\u001b[0m \u001b[0mresponse\u001b[0m\u001b[0;34m.\u001b[0m\u001b[0mget_redirect_location\u001b[0m\u001b[0;34m(\u001b[0m\u001b[0;34m)\u001b[0m\u001b[0;34m\u001b[0m\u001b[0;34m\u001b[0m\u001b[0m\n",
      "\u001b[0;32m~/pflu_sbw25/GenDBScraper/devenv/lib/python3.7/site-packages/urllib3/connectionpool.py\u001b[0m in \u001b[0;36murlopen\u001b[0;34m(self, method, url, body, headers, retries, redirect, assert_same_host, timeout, pool_timeout, release_conn, chunked, body_pos, **response_kw)\u001b[0m\n\u001b[1;32m    665\u001b[0m                                 \u001b[0mtimeout\u001b[0m\u001b[0;34m=\u001b[0m\u001b[0mtimeout\u001b[0m\u001b[0;34m,\u001b[0m \u001b[0mpool_timeout\u001b[0m\u001b[0;34m=\u001b[0m\u001b[0mpool_timeout\u001b[0m\u001b[0;34m,\u001b[0m\u001b[0;34m\u001b[0m\u001b[0;34m\u001b[0m\u001b[0m\n\u001b[1;32m    666\u001b[0m                                 \u001b[0mrelease_conn\u001b[0m\u001b[0;34m=\u001b[0m\u001b[0mrelease_conn\u001b[0m\u001b[0;34m,\u001b[0m \u001b[0mbody_pos\u001b[0m\u001b[0;34m=\u001b[0m\u001b[0mbody_pos\u001b[0m\u001b[0;34m,\u001b[0m\u001b[0;34m\u001b[0m\u001b[0;34m\u001b[0m\u001b[0m\n\u001b[0;32m--> 667\u001b[0;31m                                 **response_kw)\n\u001b[0m\u001b[1;32m    668\u001b[0m \u001b[0;34m\u001b[0m\u001b[0m\n\u001b[1;32m    669\u001b[0m         \u001b[0;32mdef\u001b[0m \u001b[0mdrain_and_release_conn\u001b[0m\u001b[0;34m(\u001b[0m\u001b[0mresponse\u001b[0m\u001b[0;34m)\u001b[0m\u001b[0;34m:\u001b[0m\u001b[0;34m\u001b[0m\u001b[0;34m\u001b[0m\u001b[0m\n",
      "\u001b[0;32m~/pflu_sbw25/GenDBScraper/devenv/lib/python3.7/site-packages/urllib3/connectionpool.py\u001b[0m in \u001b[0;36murlopen\u001b[0;34m(self, method, url, body, headers, retries, redirect, assert_same_host, timeout, pool_timeout, release_conn, chunked, body_pos, **response_kw)\u001b[0m\n\u001b[1;32m    665\u001b[0m                                 \u001b[0mtimeout\u001b[0m\u001b[0;34m=\u001b[0m\u001b[0mtimeout\u001b[0m\u001b[0;34m,\u001b[0m \u001b[0mpool_timeout\u001b[0m\u001b[0;34m=\u001b[0m\u001b[0mpool_timeout\u001b[0m\u001b[0;34m,\u001b[0m\u001b[0;34m\u001b[0m\u001b[0;34m\u001b[0m\u001b[0m\n\u001b[1;32m    666\u001b[0m                                 \u001b[0mrelease_conn\u001b[0m\u001b[0;34m=\u001b[0m\u001b[0mrelease_conn\u001b[0m\u001b[0;34m,\u001b[0m \u001b[0mbody_pos\u001b[0m\u001b[0;34m=\u001b[0m\u001b[0mbody_pos\u001b[0m\u001b[0;34m,\u001b[0m\u001b[0;34m\u001b[0m\u001b[0;34m\u001b[0m\u001b[0m\n\u001b[0;32m--> 667\u001b[0;31m                                 **response_kw)\n\u001b[0m\u001b[1;32m    668\u001b[0m \u001b[0;34m\u001b[0m\u001b[0m\n\u001b[1;32m    669\u001b[0m         \u001b[0;32mdef\u001b[0m \u001b[0mdrain_and_release_conn\u001b[0m\u001b[0;34m(\u001b[0m\u001b[0mresponse\u001b[0m\u001b[0;34m)\u001b[0m\u001b[0;34m:\u001b[0m\u001b[0;34m\u001b[0m\u001b[0;34m\u001b[0m\u001b[0m\n",
      "\u001b[0;32m~/pflu_sbw25/GenDBScraper/devenv/lib/python3.7/site-packages/urllib3/connectionpool.py\u001b[0m in \u001b[0;36murlopen\u001b[0;34m(self, method, url, body, headers, retries, redirect, assert_same_host, timeout, pool_timeout, release_conn, chunked, body_pos, **response_kw)\u001b[0m\n\u001b[1;32m    665\u001b[0m                                 \u001b[0mtimeout\u001b[0m\u001b[0;34m=\u001b[0m\u001b[0mtimeout\u001b[0m\u001b[0;34m,\u001b[0m \u001b[0mpool_timeout\u001b[0m\u001b[0;34m=\u001b[0m\u001b[0mpool_timeout\u001b[0m\u001b[0;34m,\u001b[0m\u001b[0;34m\u001b[0m\u001b[0;34m\u001b[0m\u001b[0m\n\u001b[1;32m    666\u001b[0m                                 \u001b[0mrelease_conn\u001b[0m\u001b[0;34m=\u001b[0m\u001b[0mrelease_conn\u001b[0m\u001b[0;34m,\u001b[0m \u001b[0mbody_pos\u001b[0m\u001b[0;34m=\u001b[0m\u001b[0mbody_pos\u001b[0m\u001b[0;34m,\u001b[0m\u001b[0;34m\u001b[0m\u001b[0;34m\u001b[0m\u001b[0m\n\u001b[0;32m--> 667\u001b[0;31m                                 **response_kw)\n\u001b[0m\u001b[1;32m    668\u001b[0m \u001b[0;34m\u001b[0m\u001b[0m\n\u001b[1;32m    669\u001b[0m         \u001b[0;32mdef\u001b[0m \u001b[0mdrain_and_release_conn\u001b[0m\u001b[0;34m(\u001b[0m\u001b[0mresponse\u001b[0m\u001b[0;34m)\u001b[0m\u001b[0;34m:\u001b[0m\u001b[0;34m\u001b[0m\u001b[0;34m\u001b[0m\u001b[0m\n",
      "\u001b[0;32m~/pflu_sbw25/GenDBScraper/devenv/lib/python3.7/site-packages/urllib3/connectionpool.py\u001b[0m in \u001b[0;36murlopen\u001b[0;34m(self, method, url, body, headers, retries, redirect, assert_same_host, timeout, pool_timeout, release_conn, chunked, body_pos, **response_kw)\u001b[0m\n\u001b[1;32m    636\u001b[0m \u001b[0;34m\u001b[0m\u001b[0m\n\u001b[1;32m    637\u001b[0m             retries = retries.increment(method, url, error=e, _pool=self,\n\u001b[0;32m--> 638\u001b[0;31m                                         _stacktrace=sys.exc_info()[2])\n\u001b[0m\u001b[1;32m    639\u001b[0m             \u001b[0mretries\u001b[0m\u001b[0;34m.\u001b[0m\u001b[0msleep\u001b[0m\u001b[0;34m(\u001b[0m\u001b[0;34m)\u001b[0m\u001b[0;34m\u001b[0m\u001b[0;34m\u001b[0m\u001b[0m\n\u001b[1;32m    640\u001b[0m \u001b[0;34m\u001b[0m\u001b[0m\n",
      "\u001b[0;32m~/pflu_sbw25/GenDBScraper/devenv/lib/python3.7/site-packages/urllib3/util/retry.py\u001b[0m in \u001b[0;36mincrement\u001b[0;34m(self, method, url, response, error, _pool, _stacktrace)\u001b[0m\n\u001b[1;32m    396\u001b[0m \u001b[0;34m\u001b[0m\u001b[0m\n\u001b[1;32m    397\u001b[0m         \u001b[0;32mif\u001b[0m \u001b[0mnew_retry\u001b[0m\u001b[0;34m.\u001b[0m\u001b[0mis_exhausted\u001b[0m\u001b[0;34m(\u001b[0m\u001b[0;34m)\u001b[0m\u001b[0;34m:\u001b[0m\u001b[0;34m\u001b[0m\u001b[0;34m\u001b[0m\u001b[0m\n\u001b[0;32m--> 398\u001b[0;31m             \u001b[0;32mraise\u001b[0m \u001b[0mMaxRetryError\u001b[0m\u001b[0;34m(\u001b[0m\u001b[0m_pool\u001b[0m\u001b[0;34m,\u001b[0m \u001b[0murl\u001b[0m\u001b[0;34m,\u001b[0m \u001b[0merror\u001b[0m \u001b[0;32mor\u001b[0m \u001b[0mResponseError\u001b[0m\u001b[0;34m(\u001b[0m\u001b[0mcause\u001b[0m\u001b[0;34m)\u001b[0m\u001b[0;34m)\u001b[0m\u001b[0;34m\u001b[0m\u001b[0;34m\u001b[0m\u001b[0m\n\u001b[0m\u001b[1;32m    399\u001b[0m \u001b[0;34m\u001b[0m\u001b[0m\n\u001b[1;32m    400\u001b[0m         \u001b[0mlog\u001b[0m\u001b[0;34m.\u001b[0m\u001b[0mdebug\u001b[0m\u001b[0;34m(\u001b[0m\u001b[0;34m\"Incremented Retry for (url='%s'): %r\"\u001b[0m\u001b[0;34m,\u001b[0m \u001b[0murl\u001b[0m\u001b[0;34m,\u001b[0m \u001b[0mnew_retry\u001b[0m\u001b[0;34m)\u001b[0m\u001b[0;34m\u001b[0m\u001b[0;34m\u001b[0m\u001b[0m\n",
      "\u001b[0;31mMaxRetryError\u001b[0m: HTTPConnectionPool(host='127.0.0.1', port=32897): Max retries exceeded with url: /session/bea6fc9e-e608-4f08-9076-b7fc81ddd350/window (Caused by NewConnectionError('<urllib3.connection.HTTPConnection object at 0x7f6fac2e7fd0>: Failed to establish a new connection: [Errno 111] Connection refused'))"
     ]
    }
   ],
   "source": [
    "for i in range(200,len(gene_names)):\n",
    "    gn = gene_names.iloc[i]\n",
    "    query_okm(gn)"
   ]
  },
  {
   "cell_type": "code",
   "execution_count": 233,
   "metadata": {},
   "outputs": [
    {
     "name": "stdout",
     "output_type": "stream",
     "text": [
      "https://openknowledgemaps.org/map/4c2f678e854b6af9467f5dce67e89487\n"
     ]
    }
   ],
   "source": [
    "get_okm(gn)"
   ]
  },
  {
   "cell_type": "code",
   "execution_count": 288,
   "metadata": {},
   "outputs": [
    {
     "data": {
      "text/plain": [
       "Locus Tag\n",
       "PFLU0001    https://openknowledgemaps.org/map/55bbb7a37f69...\n",
       "PFLU0002    https://openknowledgemaps.org/map/592858adf440...\n",
       "PFLU0003    https://openknowledgemaps.org/map/c8c8bbfc1a01...\n",
       "PFLU0004    https://openknowledgemaps.org/map/455e0e7fd04a...\n",
       "PFLU0009    https://openknowledgemaps.org/map/d927c5367ab6...\n",
       "PFLU0010    https://openknowledgemaps.org/map/3c38dd29c333...\n",
       "PFLU0011    https://openknowledgemaps.org/map/dfefb3ed4eed...\n",
       "PFLU0013    https://openknowledgemaps.org/map/ae85468a4e59...\n",
       "PFLU0015    https://openknowledgemaps.org/map/90d0fe240393...\n",
       "PFLU0016    https://openknowledgemaps.org/map/a7c8ca858a00...\n",
       "PFLU0017    https://openknowledgemaps.org/map/002c67ac6e52...\n",
       "PFLU0018    https://openknowledgemaps.org/map/3add7e4a160f...\n",
       "PFLU0022    https://openknowledgemaps.org/map/e07d76f59d16...\n",
       "PFLU0023    https://openknowledgemaps.org/map/9e1925dd1c10...\n",
       "PFLU0024    https://openknowledgemaps.org/map/398c156ea5bc...\n",
       "PFLU0032    https://openknowledgemaps.org/map/94fab994963f...\n",
       "PFLU0033    https://openknowledgemaps.org/map/8b11ef2a4282...\n",
       "PFLU0035    https://openknowledgemaps.org/map/681080e5ebf3...\n",
       "PFLU0036    https://openknowledgemaps.org/map/86bd1b49bad4...\n",
       "PFLU0037    https://openknowledgemaps.org/map/4c2f678e854b...\n",
       "PFLU0042    https://openknowledgemaps.org/map/99d7d1eb6645...\n",
       "PFLU0048                                                 None\n",
       "PFLU0053    https://openknowledgemaps.org/map/89ada14f1096...\n",
       "PFLU0055                                                 None\n",
       "PFLU0067    https://openknowledgemaps.org/map/c31abda81a52...\n",
       "PFLU0069    https://openknowledgemaps.org/map/738d91f17df3...\n",
       "PFLU0070    https://openknowledgemaps.org/map/d4ceac202968...\n",
       "PFLU0071    https://openknowledgemaps.org/map/a5e337c3f8de...\n",
       "PFLU0073    https://openknowledgemaps.org/map/be42e5ed52b1...\n",
       "PFLU0074    https://openknowledgemaps.org/map/8d482de7fd2c...\n",
       "                                  ...                        \n",
       "PFLU0303    https://openknowledgemaps.org/map/425bf8c7bc02...\n",
       "PFLU0304    https://openknowledgemaps.org/map/5339d377ed11...\n",
       "PFLU0305    https://openknowledgemaps.org/map/bd9fcc0e721c...\n",
       "PFLU0306    https://openknowledgemaps.org/map/99e8fda80f99...\n",
       "PFLU0307    https://openknowledgemaps.org/map/600094f56b48...\n",
       "PFLU0308    https://openknowledgemaps.org/map/ac00d9ae3f90...\n",
       "PFLU0309    https://openknowledgemaps.org/map/09ca43a15d1c...\n",
       "PFLU0315    https://openknowledgemaps.org/map/b033c389caf5...\n",
       "PFLU0323    https://openknowledgemaps.org/map/ec4575b3e5c8...\n",
       "PFLU0327    https://openknowledgemaps.org/map/f8dfd27b8f81...\n",
       "PFLU0328    https://openknowledgemaps.org/map/4239ad2ec287...\n",
       "PFLU0330    https://openknowledgemaps.org/map/347875eb7b6a...\n",
       "PFLU0331                                                 None\n",
       "PFLU0335    https://openknowledgemaps.org/map/880d5d41374f...\n",
       "PFLU0337    https://openknowledgemaps.org/map/4bfede026c6a...\n",
       "PFLU0339    https://openknowledgemaps.org/map/0820a1b64caf...\n",
       "PFLU0340    https://openknowledgemaps.org/map/976abb02c920...\n",
       "PFLU0343    https://openknowledgemaps.org/map/de0aca9aa2a4...\n",
       "PFLU0344    https://openknowledgemaps.org/map/37f7186ab33a...\n",
       "PFLU0348    https://openknowledgemaps.org/map/6cd74d24767a...\n",
       "PFLU0349    https://openknowledgemaps.org/map/168b9c4db1a6...\n",
       "PFLU0350    https://openknowledgemaps.org/map/43c2e66dcdb5...\n",
       "PFLU0352    https://openknowledgemaps.org/map/71ef8ed1fbb3...\n",
       "PFLU0355    https://openknowledgemaps.org/map/55caca6fcdd9...\n",
       "PFLU0359    https://openknowledgemaps.org/map/0ed22c220573...\n",
       "PFLU0361    https://openknowledgemaps.org/map/7f3aae0809de...\n",
       "PFLU0367    https://openknowledgemaps.org/map/be7de6607c13...\n",
       "PFLU0371    https://openknowledgemaps.org/map/f6f87bb899f2...\n",
       "PFLU0372    https://openknowledgemaps.org/map/b66bc6e23622...\n",
       "PFLU0373    https://openknowledgemaps.org/map/577109df0087...\n",
       "Length: 101, dtype: object"
      ]
     },
     "execution_count": 288,
     "metadata": {},
     "output_type": "execute_result"
    }
   ],
   "source": [
    "okm_urls.head(101)"
   ]
  },
  {
   "cell_type": "code",
   "execution_count": 289,
   "metadata": {},
   "outputs": [],
   "source": [
    "okm_urls.to_json(\"okm_urls.json\")"
   ]
  },
  {
   "cell_type": "code",
   "execution_count": 54,
   "metadata": {},
   "outputs": [],
   "source": [
    "select_all = driver.find_element_by_xpath(\"/html/body/div[3]/div/form/div/div/div[2]/span[3]/div/ul/li[1]/a/label\")"
   ]
  },
  {
   "cell_type": "code",
   "execution_count": 55,
   "metadata": {},
   "outputs": [
    {
     "ename": "ElementNotInteractableException",
     "evalue": "Message: Element <label class=\"checkbox\"> could not be scrolled into view\n",
     "output_type": "error",
     "traceback": [
      "\u001b[0;31m---------------------------------------------------------------------------\u001b[0m",
      "\u001b[0;31mElementNotInteractableException\u001b[0m           Traceback (most recent call last)",
      "\u001b[0;32m<ipython-input-55-654570aac2d6>\u001b[0m in \u001b[0;36m<module>\u001b[0;34m\u001b[0m\n\u001b[0;32m----> 1\u001b[0;31m \u001b[0mselect_all\u001b[0m\u001b[0;34m.\u001b[0m\u001b[0mclick\u001b[0m\u001b[0;34m(\u001b[0m\u001b[0;34m)\u001b[0m\u001b[0;34m\u001b[0m\u001b[0;34m\u001b[0m\u001b[0m\n\u001b[0m",
      "\u001b[0;32m~/pflu_sbw25/GenDBScraper/devenv/lib/python3.7/site-packages/selenium/webdriver/remote/webelement.py\u001b[0m in \u001b[0;36mclick\u001b[0;34m(self)\u001b[0m\n\u001b[1;32m     78\u001b[0m     \u001b[0;32mdef\u001b[0m \u001b[0mclick\u001b[0m\u001b[0;34m(\u001b[0m\u001b[0mself\u001b[0m\u001b[0;34m)\u001b[0m\u001b[0;34m:\u001b[0m\u001b[0;34m\u001b[0m\u001b[0;34m\u001b[0m\u001b[0m\n\u001b[1;32m     79\u001b[0m         \u001b[0;34m\"\"\"Clicks the element.\"\"\"\u001b[0m\u001b[0;34m\u001b[0m\u001b[0;34m\u001b[0m\u001b[0m\n\u001b[0;32m---> 80\u001b[0;31m         \u001b[0mself\u001b[0m\u001b[0;34m.\u001b[0m\u001b[0m_execute\u001b[0m\u001b[0;34m(\u001b[0m\u001b[0mCommand\u001b[0m\u001b[0;34m.\u001b[0m\u001b[0mCLICK_ELEMENT\u001b[0m\u001b[0;34m)\u001b[0m\u001b[0;34m\u001b[0m\u001b[0;34m\u001b[0m\u001b[0m\n\u001b[0m\u001b[1;32m     81\u001b[0m \u001b[0;34m\u001b[0m\u001b[0m\n\u001b[1;32m     82\u001b[0m     \u001b[0;32mdef\u001b[0m \u001b[0msubmit\u001b[0m\u001b[0;34m(\u001b[0m\u001b[0mself\u001b[0m\u001b[0;34m)\u001b[0m\u001b[0;34m:\u001b[0m\u001b[0;34m\u001b[0m\u001b[0;34m\u001b[0m\u001b[0m\n",
      "\u001b[0;32m~/pflu_sbw25/GenDBScraper/devenv/lib/python3.7/site-packages/selenium/webdriver/remote/webelement.py\u001b[0m in \u001b[0;36m_execute\u001b[0;34m(self, command, params)\u001b[0m\n\u001b[1;32m    631\u001b[0m             \u001b[0mparams\u001b[0m \u001b[0;34m=\u001b[0m \u001b[0;34m{\u001b[0m\u001b[0;34m}\u001b[0m\u001b[0;34m\u001b[0m\u001b[0;34m\u001b[0m\u001b[0m\n\u001b[1;32m    632\u001b[0m         \u001b[0mparams\u001b[0m\u001b[0;34m[\u001b[0m\u001b[0;34m'id'\u001b[0m\u001b[0;34m]\u001b[0m \u001b[0;34m=\u001b[0m \u001b[0mself\u001b[0m\u001b[0;34m.\u001b[0m\u001b[0m_id\u001b[0m\u001b[0;34m\u001b[0m\u001b[0;34m\u001b[0m\u001b[0m\n\u001b[0;32m--> 633\u001b[0;31m         \u001b[0;32mreturn\u001b[0m \u001b[0mself\u001b[0m\u001b[0;34m.\u001b[0m\u001b[0m_parent\u001b[0m\u001b[0;34m.\u001b[0m\u001b[0mexecute\u001b[0m\u001b[0;34m(\u001b[0m\u001b[0mcommand\u001b[0m\u001b[0;34m,\u001b[0m \u001b[0mparams\u001b[0m\u001b[0;34m)\u001b[0m\u001b[0;34m\u001b[0m\u001b[0;34m\u001b[0m\u001b[0m\n\u001b[0m\u001b[1;32m    634\u001b[0m \u001b[0;34m\u001b[0m\u001b[0m\n\u001b[1;32m    635\u001b[0m     \u001b[0;32mdef\u001b[0m \u001b[0mfind_element\u001b[0m\u001b[0;34m(\u001b[0m\u001b[0mself\u001b[0m\u001b[0;34m,\u001b[0m \u001b[0mby\u001b[0m\u001b[0;34m=\u001b[0m\u001b[0mBy\u001b[0m\u001b[0;34m.\u001b[0m\u001b[0mID\u001b[0m\u001b[0;34m,\u001b[0m \u001b[0mvalue\u001b[0m\u001b[0;34m=\u001b[0m\u001b[0;32mNone\u001b[0m\u001b[0;34m)\u001b[0m\u001b[0;34m:\u001b[0m\u001b[0;34m\u001b[0m\u001b[0;34m\u001b[0m\u001b[0m\n",
      "\u001b[0;32m~/pflu_sbw25/GenDBScraper/devenv/lib/python3.7/site-packages/selenium/webdriver/remote/webdriver.py\u001b[0m in \u001b[0;36mexecute\u001b[0;34m(self, driver_command, params)\u001b[0m\n\u001b[1;32m    319\u001b[0m         \u001b[0mresponse\u001b[0m \u001b[0;34m=\u001b[0m \u001b[0mself\u001b[0m\u001b[0;34m.\u001b[0m\u001b[0mcommand_executor\u001b[0m\u001b[0;34m.\u001b[0m\u001b[0mexecute\u001b[0m\u001b[0;34m(\u001b[0m\u001b[0mdriver_command\u001b[0m\u001b[0;34m,\u001b[0m \u001b[0mparams\u001b[0m\u001b[0;34m)\u001b[0m\u001b[0;34m\u001b[0m\u001b[0;34m\u001b[0m\u001b[0m\n\u001b[1;32m    320\u001b[0m         \u001b[0;32mif\u001b[0m \u001b[0mresponse\u001b[0m\u001b[0;34m:\u001b[0m\u001b[0;34m\u001b[0m\u001b[0;34m\u001b[0m\u001b[0m\n\u001b[0;32m--> 321\u001b[0;31m             \u001b[0mself\u001b[0m\u001b[0;34m.\u001b[0m\u001b[0merror_handler\u001b[0m\u001b[0;34m.\u001b[0m\u001b[0mcheck_response\u001b[0m\u001b[0;34m(\u001b[0m\u001b[0mresponse\u001b[0m\u001b[0;34m)\u001b[0m\u001b[0;34m\u001b[0m\u001b[0;34m\u001b[0m\u001b[0m\n\u001b[0m\u001b[1;32m    322\u001b[0m             response['value'] = self._unwrap_value(\n\u001b[1;32m    323\u001b[0m                 response.get('value', None))\n",
      "\u001b[0;32m~/pflu_sbw25/GenDBScraper/devenv/lib/python3.7/site-packages/selenium/webdriver/remote/errorhandler.py\u001b[0m in \u001b[0;36mcheck_response\u001b[0;34m(self, response)\u001b[0m\n\u001b[1;32m    240\u001b[0m                 \u001b[0malert_text\u001b[0m \u001b[0;34m=\u001b[0m \u001b[0mvalue\u001b[0m\u001b[0;34m[\u001b[0m\u001b[0;34m'alert'\u001b[0m\u001b[0;34m]\u001b[0m\u001b[0;34m.\u001b[0m\u001b[0mget\u001b[0m\u001b[0;34m(\u001b[0m\u001b[0;34m'text'\u001b[0m\u001b[0;34m)\u001b[0m\u001b[0;34m\u001b[0m\u001b[0;34m\u001b[0m\u001b[0m\n\u001b[1;32m    241\u001b[0m             \u001b[0;32mraise\u001b[0m \u001b[0mexception_class\u001b[0m\u001b[0;34m(\u001b[0m\u001b[0mmessage\u001b[0m\u001b[0;34m,\u001b[0m \u001b[0mscreen\u001b[0m\u001b[0;34m,\u001b[0m \u001b[0mstacktrace\u001b[0m\u001b[0;34m,\u001b[0m \u001b[0malert_text\u001b[0m\u001b[0;34m)\u001b[0m\u001b[0;34m\u001b[0m\u001b[0;34m\u001b[0m\u001b[0m\n\u001b[0;32m--> 242\u001b[0;31m         \u001b[0;32mraise\u001b[0m \u001b[0mexception_class\u001b[0m\u001b[0;34m(\u001b[0m\u001b[0mmessage\u001b[0m\u001b[0;34m,\u001b[0m \u001b[0mscreen\u001b[0m\u001b[0;34m,\u001b[0m \u001b[0mstacktrace\u001b[0m\u001b[0;34m)\u001b[0m\u001b[0;34m\u001b[0m\u001b[0;34m\u001b[0m\u001b[0m\n\u001b[0m\u001b[1;32m    243\u001b[0m \u001b[0;34m\u001b[0m\u001b[0m\n\u001b[1;32m    244\u001b[0m     \u001b[0;32mdef\u001b[0m \u001b[0m_value_or_default\u001b[0m\u001b[0;34m(\u001b[0m\u001b[0mself\u001b[0m\u001b[0;34m,\u001b[0m \u001b[0mobj\u001b[0m\u001b[0;34m,\u001b[0m \u001b[0mkey\u001b[0m\u001b[0;34m,\u001b[0m \u001b[0mdefault\u001b[0m\u001b[0;34m)\u001b[0m\u001b[0;34m:\u001b[0m\u001b[0;34m\u001b[0m\u001b[0;34m\u001b[0m\u001b[0m\n",
      "\u001b[0;31mElementNotInteractableException\u001b[0m: Message: Element <label class=\"checkbox\"> could not be scrolled into view\n"
     ]
    }
   ],
   "source": [
    "select_all.click()"
   ]
  },
  {
   "cell_type": "code",
   "execution_count": 46,
   "metadata": {},
   "outputs": [],
   "source": [
    "relevant_recent = driver.find_element_by_xpath(\"/html/body/div[3]/div/form/div/div/div[2]/span[2]/div/ul/li[2]/a/label/input\")"
   ]
  },
  {
   "cell_type": "code",
   "execution_count": 47,
   "metadata": {},
   "outputs": [
    {
     "ename": "ElementNotInteractableException",
     "evalue": "Message: Element <input type=\"radio\"> could not be scrolled into view\n",
     "output_type": "error",
     "traceback": [
      "\u001b[0;31m---------------------------------------------------------------------------\u001b[0m",
      "\u001b[0;31mElementNotInteractableException\u001b[0m           Traceback (most recent call last)",
      "\u001b[0;32m<ipython-input-47-7628484f2961>\u001b[0m in \u001b[0;36m<module>\u001b[0;34m\u001b[0m\n\u001b[0;32m----> 1\u001b[0;31m \u001b[0mrelevant_recent\u001b[0m\u001b[0;34m.\u001b[0m\u001b[0mclick\u001b[0m\u001b[0;34m(\u001b[0m\u001b[0;34m)\u001b[0m\u001b[0;34m\u001b[0m\u001b[0;34m\u001b[0m\u001b[0m\n\u001b[0m",
      "\u001b[0;32m~/pflu_sbw25/GenDBScraper/devenv/lib/python3.7/site-packages/selenium/webdriver/remote/webelement.py\u001b[0m in \u001b[0;36mclick\u001b[0;34m(self)\u001b[0m\n\u001b[1;32m     78\u001b[0m     \u001b[0;32mdef\u001b[0m \u001b[0mclick\u001b[0m\u001b[0;34m(\u001b[0m\u001b[0mself\u001b[0m\u001b[0;34m)\u001b[0m\u001b[0;34m:\u001b[0m\u001b[0;34m\u001b[0m\u001b[0;34m\u001b[0m\u001b[0m\n\u001b[1;32m     79\u001b[0m         \u001b[0;34m\"\"\"Clicks the element.\"\"\"\u001b[0m\u001b[0;34m\u001b[0m\u001b[0;34m\u001b[0m\u001b[0m\n\u001b[0;32m---> 80\u001b[0;31m         \u001b[0mself\u001b[0m\u001b[0;34m.\u001b[0m\u001b[0m_execute\u001b[0m\u001b[0;34m(\u001b[0m\u001b[0mCommand\u001b[0m\u001b[0;34m.\u001b[0m\u001b[0mCLICK_ELEMENT\u001b[0m\u001b[0;34m)\u001b[0m\u001b[0;34m\u001b[0m\u001b[0;34m\u001b[0m\u001b[0m\n\u001b[0m\u001b[1;32m     81\u001b[0m \u001b[0;34m\u001b[0m\u001b[0m\n\u001b[1;32m     82\u001b[0m     \u001b[0;32mdef\u001b[0m \u001b[0msubmit\u001b[0m\u001b[0;34m(\u001b[0m\u001b[0mself\u001b[0m\u001b[0;34m)\u001b[0m\u001b[0;34m:\u001b[0m\u001b[0;34m\u001b[0m\u001b[0;34m\u001b[0m\u001b[0m\n",
      "\u001b[0;32m~/pflu_sbw25/GenDBScraper/devenv/lib/python3.7/site-packages/selenium/webdriver/remote/webelement.py\u001b[0m in \u001b[0;36m_execute\u001b[0;34m(self, command, params)\u001b[0m\n\u001b[1;32m    631\u001b[0m             \u001b[0mparams\u001b[0m \u001b[0;34m=\u001b[0m \u001b[0;34m{\u001b[0m\u001b[0;34m}\u001b[0m\u001b[0;34m\u001b[0m\u001b[0;34m\u001b[0m\u001b[0m\n\u001b[1;32m    632\u001b[0m         \u001b[0mparams\u001b[0m\u001b[0;34m[\u001b[0m\u001b[0;34m'id'\u001b[0m\u001b[0;34m]\u001b[0m \u001b[0;34m=\u001b[0m \u001b[0mself\u001b[0m\u001b[0;34m.\u001b[0m\u001b[0m_id\u001b[0m\u001b[0;34m\u001b[0m\u001b[0;34m\u001b[0m\u001b[0m\n\u001b[0;32m--> 633\u001b[0;31m         \u001b[0;32mreturn\u001b[0m \u001b[0mself\u001b[0m\u001b[0;34m.\u001b[0m\u001b[0m_parent\u001b[0m\u001b[0;34m.\u001b[0m\u001b[0mexecute\u001b[0m\u001b[0;34m(\u001b[0m\u001b[0mcommand\u001b[0m\u001b[0;34m,\u001b[0m \u001b[0mparams\u001b[0m\u001b[0;34m)\u001b[0m\u001b[0;34m\u001b[0m\u001b[0;34m\u001b[0m\u001b[0m\n\u001b[0m\u001b[1;32m    634\u001b[0m \u001b[0;34m\u001b[0m\u001b[0m\n\u001b[1;32m    635\u001b[0m     \u001b[0;32mdef\u001b[0m \u001b[0mfind_element\u001b[0m\u001b[0;34m(\u001b[0m\u001b[0mself\u001b[0m\u001b[0;34m,\u001b[0m \u001b[0mby\u001b[0m\u001b[0;34m=\u001b[0m\u001b[0mBy\u001b[0m\u001b[0;34m.\u001b[0m\u001b[0mID\u001b[0m\u001b[0;34m,\u001b[0m \u001b[0mvalue\u001b[0m\u001b[0;34m=\u001b[0m\u001b[0;32mNone\u001b[0m\u001b[0;34m)\u001b[0m\u001b[0;34m:\u001b[0m\u001b[0;34m\u001b[0m\u001b[0;34m\u001b[0m\u001b[0m\n",
      "\u001b[0;32m~/pflu_sbw25/GenDBScraper/devenv/lib/python3.7/site-packages/selenium/webdriver/remote/webdriver.py\u001b[0m in \u001b[0;36mexecute\u001b[0;34m(self, driver_command, params)\u001b[0m\n\u001b[1;32m    319\u001b[0m         \u001b[0mresponse\u001b[0m \u001b[0;34m=\u001b[0m \u001b[0mself\u001b[0m\u001b[0;34m.\u001b[0m\u001b[0mcommand_executor\u001b[0m\u001b[0;34m.\u001b[0m\u001b[0mexecute\u001b[0m\u001b[0;34m(\u001b[0m\u001b[0mdriver_command\u001b[0m\u001b[0;34m,\u001b[0m \u001b[0mparams\u001b[0m\u001b[0;34m)\u001b[0m\u001b[0;34m\u001b[0m\u001b[0;34m\u001b[0m\u001b[0m\n\u001b[1;32m    320\u001b[0m         \u001b[0;32mif\u001b[0m \u001b[0mresponse\u001b[0m\u001b[0;34m:\u001b[0m\u001b[0;34m\u001b[0m\u001b[0;34m\u001b[0m\u001b[0m\n\u001b[0;32m--> 321\u001b[0;31m             \u001b[0mself\u001b[0m\u001b[0;34m.\u001b[0m\u001b[0merror_handler\u001b[0m\u001b[0;34m.\u001b[0m\u001b[0mcheck_response\u001b[0m\u001b[0;34m(\u001b[0m\u001b[0mresponse\u001b[0m\u001b[0;34m)\u001b[0m\u001b[0;34m\u001b[0m\u001b[0;34m\u001b[0m\u001b[0m\n\u001b[0m\u001b[1;32m    322\u001b[0m             response['value'] = self._unwrap_value(\n\u001b[1;32m    323\u001b[0m                 response.get('value', None))\n",
      "\u001b[0;32m~/pflu_sbw25/GenDBScraper/devenv/lib/python3.7/site-packages/selenium/webdriver/remote/errorhandler.py\u001b[0m in \u001b[0;36mcheck_response\u001b[0;34m(self, response)\u001b[0m\n\u001b[1;32m    240\u001b[0m                 \u001b[0malert_text\u001b[0m \u001b[0;34m=\u001b[0m \u001b[0mvalue\u001b[0m\u001b[0;34m[\u001b[0m\u001b[0;34m'alert'\u001b[0m\u001b[0;34m]\u001b[0m\u001b[0;34m.\u001b[0m\u001b[0mget\u001b[0m\u001b[0;34m(\u001b[0m\u001b[0;34m'text'\u001b[0m\u001b[0;34m)\u001b[0m\u001b[0;34m\u001b[0m\u001b[0;34m\u001b[0m\u001b[0m\n\u001b[1;32m    241\u001b[0m             \u001b[0;32mraise\u001b[0m \u001b[0mexception_class\u001b[0m\u001b[0;34m(\u001b[0m\u001b[0mmessage\u001b[0m\u001b[0;34m,\u001b[0m \u001b[0mscreen\u001b[0m\u001b[0;34m,\u001b[0m \u001b[0mstacktrace\u001b[0m\u001b[0;34m,\u001b[0m \u001b[0malert_text\u001b[0m\u001b[0;34m)\u001b[0m\u001b[0;34m\u001b[0m\u001b[0;34m\u001b[0m\u001b[0m\n\u001b[0;32m--> 242\u001b[0;31m         \u001b[0;32mraise\u001b[0m \u001b[0mexception_class\u001b[0m\u001b[0;34m(\u001b[0m\u001b[0mmessage\u001b[0m\u001b[0;34m,\u001b[0m \u001b[0mscreen\u001b[0m\u001b[0;34m,\u001b[0m \u001b[0mstacktrace\u001b[0m\u001b[0;34m)\u001b[0m\u001b[0;34m\u001b[0m\u001b[0;34m\u001b[0m\u001b[0m\n\u001b[0m\u001b[1;32m    243\u001b[0m \u001b[0;34m\u001b[0m\u001b[0m\n\u001b[1;32m    244\u001b[0m     \u001b[0;32mdef\u001b[0m \u001b[0m_value_or_default\u001b[0m\u001b[0;34m(\u001b[0m\u001b[0mself\u001b[0m\u001b[0;34m,\u001b[0m \u001b[0mobj\u001b[0m\u001b[0;34m,\u001b[0m \u001b[0mkey\u001b[0m\u001b[0;34m,\u001b[0m \u001b[0mdefault\u001b[0m\u001b[0;34m)\u001b[0m\u001b[0;34m:\u001b[0m\u001b[0;34m\u001b[0m\u001b[0;34m\u001b[0m\u001b[0m\n",
      "\u001b[0;31mElementNotInteractableException\u001b[0m: Message: Element <input type=\"radio\"> could not be scrolled into view\n"
     ]
    }
   ],
   "source": [
    "relevant_recent.click()"
   ]
  },
  {
   "cell_type": "code",
   "execution_count": null,
   "metadata": {},
   "outputs": [],
   "source": [
    "\n",
    "    "
   ]
  }
 ],
 "metadata": {
  "hide_input": false,
  "kernelspec": {
   "display_name": "Python 3",
   "language": "python",
   "name": "python3"
  },
  "language_info": {
   "codemirror_mode": {
    "name": "ipython",
    "version": 3
   },
   "file_extension": ".py",
   "mimetype": "text/x-python",
   "name": "python",
   "nbconvert_exporter": "python",
   "pygments_lexer": "ipython3",
   "version": "3.7.2"
  }
 },
 "nbformat": 4,
 "nbformat_minor": 2
}
